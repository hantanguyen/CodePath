{
 "cells": [
  {
   "cell_type": "markdown",
   "id": "10eb2189",
   "metadata": {},
   "source": [
    "Session 1, Unit 2A"
   ]
  },
  {
   "cell_type": "code",
   "execution_count": 9,
   "id": "0c6b0527",
   "metadata": {},
   "outputs": [
    {
     "name": "stdout",
     "output_type": "stream",
     "text": [
      "True\n"
     ]
    }
   ],
   "source": [
    "# Problem 1: Subsequence \n",
    "\n",
    "def is_subsequence(lst, sequence):\n",
    "    # start the sequence index at 0 which counts the occurances of it in the lst \n",
    "    sequence_index = 0 \n",
    "    # iterate through the lst\n",
    "    for i in lst:\n",
    "        # if sequence_index is equal to the len of sequence \n",
    "        if sequence_index == len(sequence): \n",
    "            # break the loop early\n",
    "            break \n",
    "        # if i is equal to the sequence index and its position in sequence\n",
    "        if i == sequence[sequence_index]: \n",
    "            # increment the sequence index\n",
    "            sequence_index += 1\n",
    "    # return the boolean if the sequence index is equal to the sequence length\n",
    "    return sequence_index == len(sequence)\n",
    "\n",
    "lst = [5, 1, 22, 25, 6, -1, 8, 10]\n",
    "sequence = [1, 6, -1, 10]\n",
    "print(is_subsequence(lst, sequence))"
   ]
  },
  {
   "cell_type": "code",
   "execution_count": 10,
   "id": "93335cd6",
   "metadata": {},
   "outputs": [
    {
     "data": {
      "text/plain": [
       "{'peanut': ['butter'],\n",
       " 'dragon': ['fly'],\n",
       " 'star': ['fish'],\n",
       " 'pop': ['corn'],\n",
       " 'space': ['ship']}"
      ]
     },
     "execution_count": 10,
     "metadata": {},
     "output_type": "execute_result"
    }
   ],
   "source": [
    "# Problem 2: Create a dictonary \n",
    "\n",
    "def create_dictionary(keys, values): \n",
    "    # create a empty dictionary \n",
    "    dictionary = {}\n",
    "    # iterate through the keys \n",
    "    for i in range(len(keys)): \n",
    "        # add the keys and values to the empty dictionary \n",
    "        dictionary[keys[i]] = [values[i]]\n",
    "    # return the dictionary \n",
    "    return dictionary\n",
    "\n",
    "keys = [\"peanut\", \"dragon\", \"star\", \"pop\", \"space\"]\n",
    "values = [\"butter\", \"fly\", \"fish\", \"corn\", \"ship\"]\n",
    "create_dictionary(keys, values)"
   ]
  },
  {
   "cell_type": "code",
   "execution_count": null,
   "id": "2e6a3a24",
   "metadata": {},
   "outputs": [
    {
     "name": "stdout",
     "output_type": "stream",
     "text": [
      "Key:  patrick\n",
      "Value:  star\n",
      "That key doesn't exist!\n",
      "Key:  spongebob\n",
      "Value:  squarepants\n"
     ]
    }
   ],
   "source": [
    "# Problem 3: Print Pair \n",
    "\n",
    "# key = target, value = dictionary[target]\n",
    "def print_pair(dictionary, target):\n",
    "\n",
    "    # first check if the key exists in the dictionary \n",
    "    if target in dictionary: \n",
    "        # if the key exists print it \n",
    "        print(\"Key: \", target)\n",
    "        # if the value exists then print it\n",
    "        print(\"Value: \", dictionary[target])\n",
    "    else: \n",
    "        # if the key doesn't exist then print a message\n",
    "        print(\"That key doesn't exist!\")\n",
    "\n",
    "dictionary = {\"spongebob\": \"squarepants\", \"patrick\": \"star\", \"squidward\": \"tentacles\"}\n",
    "print_pair(dictionary, \"patrick\")\n",
    "print_pair(dictionary, \"plankton\")\n",
    "print_pair(dictionary, \"spongebob\")"
   ]
  },
  {
   "cell_type": "code",
   "execution_count": null,
   "id": "0269c326",
   "metadata": {},
   "outputs": [
    {
     "name": "stdout",
     "output_type": "stream",
     "text": [
      "values\n",
      "keys\n"
     ]
    }
   ],
   "source": [
    "# Problem 4: Keys vs Values \n",
    "\n",
    "def keys_v_values(dictionary):\n",
    "\n",
    "    # sum all the keys\n",
    "    keys_sum = sum(dictionary.keys())\n",
    "    # sum all the values\n",
    "    values_sum = sum(dictionary.values())\n",
    "\n",
    "    # is keys is greater\n",
    "    if keys_sum > values_sum: \n",
    "        # return keys\n",
    "        return(\"keys\")\n",
    "    # if values is greater\n",
    "    elif values_sum > keys_sum: \n",
    "        # return values\n",
    "        return(\"values\")\n",
    "    else: \n",
    "        # if they are equal, return equal\n",
    "        return(\"equal\")\n",
    "\n",
    "dictionary1 = {1:10, 2:20, 3:30, 4:40, 5:50, 6:60}\n",
    "greater_sum = keys_v_values(dictionary1)\n",
    "print(greater_sum)\n",
    "\n",
    "dictionary2 = {100:10, 200:20, 300:30, 400:40, 500:50, 600:60}\n",
    "greater_sum = keys_v_values(dictionary2)\n",
    "print(greater_sum)"
   ]
  },
  {
   "cell_type": "code",
   "execution_count": null,
   "id": "7bbb207b",
   "metadata": {},
   "outputs": [],
   "source": [
    "# Problem 5: Restock Inventory\n",
    "\n",
    "def restock_inventory(current_inventory, restock_list):\n",
    "    for k, v in dict.items(): \n",
    "        if k == 0\n",
    "\n",
    "current_inventory = {\n",
    "    \"apples\": 30,\n",
    "    \"bananas\": 15,\n",
    "    \"oranges\": 10\n",
    "}\n",
    "\n",
    "restock_list = {\n",
    "    \"oranges\": 20,\n",
    "    \"apples\": 10,\n",
    "    \"pears\": 5\n",
    "}"
   ]
  },
  {
   "cell_type": "code",
   "execution_count": 6,
   "id": "e5a59479",
   "metadata": {},
   "outputs": [],
   "source": [
    "# Problem 6: \n"
   ]
  },
  {
   "cell_type": "code",
   "execution_count": 7,
   "id": "7e78c1e8",
   "metadata": {},
   "outputs": [],
   "source": [
    "# Problem 7: \n"
   ]
  },
  {
   "cell_type": "code",
   "execution_count": 8,
   "id": "993f390c",
   "metadata": {},
   "outputs": [],
   "source": [
    "# Problem 8: "
   ]
  }
 ],
 "metadata": {
  "kernelspec": {
   "display_name": ".venv",
   "language": "python",
   "name": "python3"
  },
  "language_info": {
   "codemirror_mode": {
    "name": "ipython",
    "version": 3
   },
   "file_extension": ".py",
   "mimetype": "text/x-python",
   "name": "python",
   "nbconvert_exporter": "python",
   "pygments_lexer": "ipython3",
   "version": "3.13.4"
  }
 },
 "nbformat": 4,
 "nbformat_minor": 5
}
