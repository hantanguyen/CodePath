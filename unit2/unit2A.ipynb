{
 "cells": [
  {
   "cell_type": "markdown",
   "id": "10eb2189",
   "metadata": {},
   "source": [
    "Session 1, Unit 2A"
   ]
  },
  {
   "cell_type": "code",
   "execution_count": null,
   "id": "5e1cfd75",
   "metadata": {},
   "outputs": [
    {
     "name": "stdout",
     "output_type": "stream",
     "text": [
      "True\n"
     ]
    }
   ],
   "source": [
    "# Problem 1: Subsequence \n",
    "\n",
    "# a function that takes a list of numbers and sequence to see if it appears in the \n",
    "# same relative order \n",
    "def is_subsequence(lst, sequence): \n",
    "    # a counter that keeps track of where and if a number in sequence shows up in lst\n",
    "    sequence_index = 0 \n",
    "    # iterating through the list \n",
    "    for i in lst: \n",
    "        # if the sequence index is equal to the length of sequence\n",
    "        if sequence_index == len(sequence):\n",
    "            # exit the loop early and return boolean\n",
    "            break \n",
    "        # if the number is equal to the the index of the sequence list \n",
    "        if i == sequence[sequence_index]:\n",
    "            # increment the sequence index by 1\n",
    "            sequence_index += 1\n",
    "    # return boolean if the sequence index is equal to the length of the sequence list\n",
    "    return sequence_index == len(sequence)\n",
    "\n",
    "lst = [5, 1, 22, 25, 6, -1, 8, 10]\n",
    "sequence = [1, 6, -1, 10]\n",
    "print(is_subsequence(lst, sequence))"
   ]
  },
  {
   "cell_type": "code",
   "execution_count": 27,
   "id": "460d15d9",
   "metadata": {},
   "outputs": [
    {
     "name": "stdout",
     "output_type": "stream",
     "text": [
      "{'peanut': ['butter'], 'dragon': ['fly'], 'star': ['fish'], 'pop': ['corn'], 'space': ['ship']}\n"
     ]
    }
   ],
   "source": [
    "# Problem 2: Create a dictionary \n",
    "\n",
    "# a function that creates a dictionary from a list of keys and values \n",
    "def create_dictionary(keys, values):\n",
    "    # create a new dictionary \n",
    "    dictionary = {} \n",
    "    # iterate through all the keys \n",
    "    for i in range(len(keys)): \n",
    "        # add the keys and values to the dictionary \n",
    "        dictionary[keys[i]] = [values[i]]\n",
    "    # return the dictionary\n",
    "    return dictionary\n",
    "\n",
    "keys = [\"peanut\", \"dragon\", \"star\", \"pop\", \"space\"]\n",
    "values = [\"butter\", \"fly\", \"fish\", \"corn\", \"ship\"]\n",
    "print(create_dictionary(keys, values))"
   ]
  },
  {
   "cell_type": "code",
   "execution_count": 28,
   "id": "8c4ac529",
   "metadata": {},
   "outputs": [
    {
     "name": "stdout",
     "output_type": "stream",
     "text": [
      "Key: patrick\n",
      "Value: star\n",
      "That pair doesn't exist!\n",
      "Key: spongebob\n",
      "Value: squarepants\n"
     ]
    }
   ],
   "source": [
    "# Problem 3: Print Pair \n",
    "\n",
    "# a function that prints the pairs of a dictionary if both exist\n",
    "def print_pair(dictionary, target):\n",
    "    # first checking if the key (target) exists in the dictionary\n",
    "    if target in dictionary: \n",
    "        # print the key\n",
    "        print(\"Key:\", target)\n",
    "        # printing the value \n",
    "        print(\"Value:\", dictionary[target])\n",
    "    else: \n",
    "        # if the pair doesn't exist then print the message\n",
    "        print(\"That pair doesn't exist!\")\n",
    "\n",
    "dictionary = {\"spongebob\": \"squarepants\", \"patrick\": \"star\", \"squidward\": \"tentacles\"}\n",
    "print_pair(dictionary, \"patrick\")\n",
    "print_pair(dictionary, \"plankton\")\n",
    "print_pair(dictionary, \"spongebob\")"
   ]
  },
  {
   "cell_type": "code",
   "execution_count": null,
   "id": "0779d4e2",
   "metadata": {},
   "outputs": [
    {
     "name": "stdout",
     "output_type": "stream",
     "text": [
      "values\n",
      "keys\n"
     ]
    }
   ],
   "source": [
    "# Problem 4: Keys vs Values \n",
    "\n",
    "# a function that compares the keys and values to see which is greater\n",
    "def keys_v_values(dictionary):\n",
    "    # sum the values in keys\n",
    "    key_sum = sum(dictionary.keys())\n",
    "    # sum the values in value\n",
    "    value_sum = sum(dictionary.values())\n",
    "    # if keys is greater, return keys \n",
    "    if key_sum > value_sum: \n",
    "        return(\"keys\")\n",
    "    # if value is greater, return values\n",
    "    elif value_sum > key_sum: \n",
    "        return(\"values\")\n",
    "    else: \n",
    "        # else if equal, return equal\n",
    "        return(\"equal\")\n",
    "\n",
    "dictionary1 = {1:10, 2:20, 3:30, 4:40, 5:50, 6:60}\n",
    "greater_sum = keys_v_values(dictionary1)\n",
    "print(greater_sum)\n",
    "\n",
    "dictionary2 = {100:10, 200:20, 300:30, 400:40, 500:50, 600:60}\n",
    "greater_sum = keys_v_values(dictionary2)\n",
    "print(greater_sum)"
   ]
  },
  {
   "cell_type": "code",
   "execution_count": 33,
   "id": "3d6de969",
   "metadata": {},
   "outputs": [
    {
     "name": "stdout",
     "output_type": "stream",
     "text": [
      "{'apples': 40, 'bananas': 15, 'oranges': 30, 'pears': 5}\n"
     ]
    }
   ],
   "source": [
    "# Problem 5: Restock Inventory \n",
    "\n",
    "# a function that checks if the current inventory needs a restock based off the restock list \n",
    "def restock_inventory(current_inventory, restock_list):\n",
    "    # iterate through the restock_list dictionary \n",
    "    for item, qty in restock_list.items(): \n",
    "        # if the item is in current inventory\n",
    "        if item in current_inventory:\n",
    "            # increment the item with qty if it exists \n",
    "            current_inventory[item] += qty \n",
    "        else: \n",
    "            # if item not present then set up a new entry and add the qty\n",
    "            current_inventory[item] = qty\n",
    "    # return the current inventory\n",
    "    return current_inventory\n",
    "\n",
    "current_inventory = {\n",
    "    \"apples\": 30,\n",
    "    \"bananas\": 15,\n",
    "    \"oranges\": 10\n",
    "}\n",
    "\n",
    "restock_list = {\n",
    "    \"oranges\": 20,\n",
    "    \"apples\": 10,\n",
    "    \"pears\": 5\n",
    "}\n",
    "\n",
    "print(restock_inventory(current_inventory, restock_list))"
   ]
  },
  {
   "cell_type": "code",
   "execution_count": null,
   "id": "89ce26df",
   "metadata": {},
   "outputs": [
    {
     "name": "stdout",
     "output_type": "stream",
     "text": [
      "3.33\n"
     ]
    }
   ],
   "source": [
    "# Problem 6: Calculate GPA \n",
    "\n",
    "def calculate_gpa(report_card):\n",
    "    # create a new dictionary for grades to convert the grades to numbers\n",
    "    grades = {\"A\": 4, \"B\": 3, \"C\": 2, \"D\": 1, \"F\": 0}\n",
    "    # set grades total to 0 for all \n",
    "    grades_total = 0 \n",
    "    # set the number of classes to 0\n",
    "    classes_total = 0\n",
    "    # iterate through the report card\n",
    "    for course, grade in report_card.items():\n",
    "        # get the points from the report card and the grades dictionary\n",
    "        points = grades[grade]\n",
    "        # add the total to the points\n",
    "        grades_total += points \n",
    "        # increment the classes by 1\n",
    "        classes_total += 1\n",
    "    # calculate the gpa\n",
    "    gpa = grades_total / classes_total\n",
    "    # return the gpa\n",
    "    return round(gpa, 2)\n",
    "report_card = {\"Math\": \"A\", \"Science\": \"C\", \"History\": \"A\", \"Art\": \"B\", \"English\": \"B\", \"Spanish\": \"A\"}\n",
    "print(calculate_gpa(report_card))"
   ]
  },
  {
   "cell_type": "code",
   "execution_count": null,
   "id": "c4e2f45c",
   "metadata": {},
   "outputs": [
    {
     "data": {
      "text/plain": [
       "{'title': 'A Fortune For Your Disaster',\n",
       " 'author': 'Hanif Abdurraqib',\n",
       " 'rating': 4.47}"
      ]
     },
     "execution_count": 46,
     "metadata": {},
     "output_type": "execute_result"
    }
   ],
   "source": [
    "# Problem 7: Best Book\n",
    "\n",
    "# a function that returns the highest rated book in a dictionary full of lists\n",
    "def highest_rated(books):\n",
    "    # set the first book to be the highest rates \n",
    "    best_book = books[0]\n",
    "    # iterate through all the books \n",
    "    for book in books: \n",
    "        # find the highest rating \n",
    "        if book[\"rating\"] > best_book[\"rating\"]: \n",
    "            # set best book to book when finding the highest rated\n",
    "            best_book = book \n",
    "    # return best book\n",
    "    return best_book\n",
    "\n",
    "books = [\n",
    "    {\"title\": \"Tomorrow, and Tomorrow, and Tomorrow\",\n",
    "     \"author\": \"Gabrielle Zevin\",\n",
    "     \"rating\": 4.18\n",
    "    },\n",
    "    {\"title\": \"A Fortune For Your Disaster\",\n",
    "     \"author\": \"Hanif Abdurraqib\",\n",
    "     \"rating\": 4.47\n",
    "    },\n",
    "    {\"title\": \"The Seven Husbands of Evenlyn Hugo\",\n",
    "     \"author\": \"Taylor Jenkins Reid\",\n",
    "     \"rating\": 4.40\n",
    "    }\n",
    "]\n",
    "\n",
    "(highest_rated(books))"
   ]
  },
  {
   "cell_type": "code",
   "execution_count": 48,
   "id": "3ea025c9",
   "metadata": {},
   "outputs": [
    {
     "data": {
      "text/plain": [
       "{0: 'apple', 1: 'banana', 2: 'cherry'}"
      ]
     },
     "execution_count": 48,
     "metadata": {},
     "output_type": "execute_result"
    }
   ],
   "source": [
    "# Problem 8: Index-Value Map\n",
    "\n",
    "# a function that makes a dictionary from a lst and includes the indexes\n",
    "def index_to_value_map(lst):\n",
    "    # create an empty dictionary \n",
    "    result = {}\n",
    "    # iterate through the lst and keep track of indexes \n",
    "    for index, value in enumerate(lst): \n",
    "        # add the index and value to result \n",
    "        result[index] = value \n",
    "    # return the result\n",
    "    return result \n",
    "\n",
    "lst = [\"apple\", \"banana\", \"cherry\"]\n",
    "index_to_value_map(lst)"
   ]
  }
 ],
 "metadata": {
  "kernelspec": {
   "display_name": ".venv",
   "language": "python",
   "name": "python3"
  },
  "language_info": {
   "codemirror_mode": {
    "name": "ipython",
    "version": 3
   },
   "file_extension": ".py",
   "mimetype": "text/x-python",
   "name": "python",
   "nbconvert_exporter": "python",
   "pygments_lexer": "ipython3",
   "version": "3.13.4"
  }
 },
 "nbformat": 4,
 "nbformat_minor": 5
}
