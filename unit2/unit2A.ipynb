{
 "cells": [
  {
   "cell_type": "markdown",
   "id": "10eb2189",
   "metadata": {},
   "source": [
    "Session 1, Unit 2A"
   ]
  },
  {
   "cell_type": "code",
   "execution_count": null,
   "id": "0c6b0527",
   "metadata": {},
   "outputs": [
    {
     "name": "stdout",
     "output_type": "stream",
     "text": [
      "True\n"
     ]
    }
   ],
   "source": [
    "# Problem 1: Subsequence \n",
    "\n",
    "# sequence_index is the pointer that points to the sequence and its index, as well as \n",
    "# how many times it shows up in list  \n",
    "def is_subsequence(lst, sequence): \n",
    "    # sequence_index is a pointer and keeps track of if sequence shows up in list\n",
    "    sequence_index = 0\n",
    "    # iterate through the list \n",
    "    for num in lst: \n",
    "        # if sequence index is equal to the length of sequence list \n",
    "        if sequence_index == len(sequence): \n",
    "            # break the loop early and return \n",
    "            break \n",
    "        # if the number in list is equal to the sequence and its index\n",
    "        if num == sequence[sequence_index]: \n",
    "            # increment by 1\n",
    "            sequence_index += 1\n",
    "    # returns a boolean if the sequence index is equal to the length of the sequence\n",
    "    return sequence_index == len(sequence)\n",
    "\n",
    "lst = [5, 1, 22, 25, 6, -1, 8, 10]\n",
    "sequence = [1, 6, -1, 10]\n",
    "print(is_subsequence(lst, sequence))"
   ]
  },
  {
   "cell_type": "code",
   "execution_count": null,
   "id": "93335cd6",
   "metadata": {},
   "outputs": [
    {
     "data": {
      "text/plain": [
       "{'peanut': ['butter'],\n",
       " 'dragon': ['fly'],\n",
       " 'star': ['fish'],\n",
       " 'pop': ['corn'],\n",
       " 'space': ['ship']}"
      ]
     },
     "execution_count": 54,
     "metadata": {},
     "output_type": "execute_result"
    }
   ],
   "source": [
    "# Problem 2: Create a dictonary \n",
    "\n",
    "def create_dictionary(keys, values): \n",
    "    pass \n",
    "\n",
    "keys = [\"peanut\", \"dragon\", \"star\", \"pop\", \"space\"]\n",
    "values = [\"butter\", \"fly\", \"fish\", \"corn\", \"ship\"]\n",
    "create_dictionary(keys, values)"
   ]
  },
  {
   "cell_type": "code",
   "execution_count": null,
   "id": "2e6a3a24",
   "metadata": {},
   "outputs": [],
   "source": [
    "# Problem 3: Print Pair \n",
    "\n",
    "def print_pair(dictionary, target):\n",
    "    pass \n",
    "\n",
    "dictionary = {\"spongebob\": \"squarepants\", \"patrick\": \"star\", \"squidward\": \"tentacles\"}\n",
    "print_pair(dictionary, \"patrick\")\n",
    "print_pair(dictionary, \"plankton\")\n",
    "print_pair(dictionary, \"spongebob\")"
   ]
  },
  {
   "cell_type": "code",
   "execution_count": null,
   "id": "0269c326",
   "metadata": {},
   "outputs": [],
   "source": [
    "# Problem 4: \n"
   ]
  },
  {
   "cell_type": "code",
   "execution_count": null,
   "id": "7bbb207b",
   "metadata": {},
   "outputs": [],
   "source": [
    "# Problem 5: \n"
   ]
  },
  {
   "cell_type": "code",
   "execution_count": null,
   "id": "e5a59479",
   "metadata": {},
   "outputs": [],
   "source": [
    "# Problem 6: \n"
   ]
  },
  {
   "cell_type": "code",
   "execution_count": null,
   "id": "7e78c1e8",
   "metadata": {},
   "outputs": [],
   "source": [
    "# Problem 7: \n"
   ]
  },
  {
   "cell_type": "code",
   "execution_count": null,
   "id": "993f390c",
   "metadata": {},
   "outputs": [],
   "source": [
    "# Problem 8: "
   ]
  }
 ],
 "metadata": {
  "kernelspec": {
   "display_name": ".venv",
   "language": "python",
   "name": "python3"
  },
  "language_info": {
   "codemirror_mode": {
    "name": "ipython",
    "version": 3
   },
   "file_extension": ".py",
   "mimetype": "text/x-python",
   "name": "python",
   "nbconvert_exporter": "python",
   "pygments_lexer": "ipython3",
   "version": "3.13.4"
  }
 },
 "nbformat": 4,
 "nbformat_minor": 5
}
