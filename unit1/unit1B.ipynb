{
 "cells": [
  {
   "cell_type": "markdown",
   "id": "a3df06dd",
   "metadata": {},
   "source": [
    "Session 2: Problem Set Version 1"
   ]
  },
  {
   "cell_type": "code",
   "execution_count": null,
   "id": "67c543e6",
   "metadata": {},
   "outputs": [
    {
     "name": "stdout",
     "output_type": "stream",
     "text": [
      "squirtle\n",
      "gengar\n",
      "charizard\n",
      "pikachu\n"
     ]
    }
   ],
   "source": [
    "# Problem 1 \n",
    "def print_list(lst):\n",
    "    # looping through each element in the list\n",
    "    for item in lst:  \n",
    "        # prints item on own line\n",
    "        print(item)\n",
    "# list of pokemon names as strings\n",
    "lst = [\"squirtle\", \"gengar\", \"charizard\", \"pikachu\"]\n",
    "# call function, list is passed\n",
    "print_list(lst)"
   ]
  },
  {
   "cell_type": "code",
   "execution_count": 10,
   "id": "6318ed9a",
   "metadata": {},
   "outputs": [
    {
     "name": "stdout",
     "output_type": "stream",
     "text": [
      "2\n",
      "4\n",
      "6\n"
     ]
    }
   ],
   "source": [
    "# Problem 2 \n",
    "def doubled(lst): \n",
    "    for item in lst: \n",
    "        print(item * 2)\n",
    "lst = [1, 2, 3]\n",
    "doubled(lst)"
   ]
  },
  {
   "cell_type": "code",
   "execution_count": 13,
   "id": "95db689a",
   "metadata": {},
   "outputs": [
    {
     "name": "stdout",
     "output_type": "stream",
     "text": [
      "[2, 4, 6]\n"
     ]
    }
   ],
   "source": [
    "# Problem 3\n",
    "def doubled(lst): \n",
    "    result = [] \n",
    "    for item in lst: \n",
    "        result.append(item * 2)\n",
    "    return result\n",
    "\n",
    "lst = [1, 2, 3]\n",
    "new_lst = doubled(lst)\n",
    "print(new_lst)"
   ]
  },
  {
   "cell_type": "code",
   "execution_count": 14,
   "id": "8dd3b189",
   "metadata": {},
   "outputs": [
    {
     "name": "stdout",
     "output_type": "stream",
     "text": [
      "[-1, 2, 3, -4]\n"
     ]
    }
   ],
   "source": [
    "# Problem 4 \n",
    "def flip_sign(lst):\n",
    "    result = []\n",
    "    for i in lst: \n",
    "        result.append(i * -1)\n",
    "    return result\n",
    "\n",
    "lst = [1,-2,-3,4]\n",
    "flipped_lst = flip_sign(lst)\n",
    "print(flipped_lst)"
   ]
  },
  {
   "cell_type": "code",
   "execution_count": 18,
   "id": "aef74bd8",
   "metadata": {},
   "outputs": [
    {
     "name": "stdout",
     "output_type": "stream",
     "text": [
      "20\n"
     ]
    }
   ],
   "source": [
    "# Problem 5 \n",
    "def max_difference(lst):\n",
    "    max_val = max(lst)\n",
    "    min_val = min(lst)\n",
    "    return abs(max_val - min_val)\n",
    "\n",
    "lst = [5,22,8,10,2]\n",
    "max_diff = max_difference(lst)\n",
    "print(max_diff)"
   ]
  },
  {
   "cell_type": "code",
   "execution_count": 20,
   "id": "4d389b70",
   "metadata": {},
   "outputs": [
    {
     "name": "stdout",
     "output_type": "stream",
     "text": [
      "3\n"
     ]
    }
   ],
   "source": [
    "# Problem 6 \n",
    "def count_less_than(numbers, threshold): \n",
    "    # initalize counter at 0 \n",
    "    # iterating through lst indices \n",
    "    # seeing if number is less than threshold \n",
    "    # incrementing the counter by one for indices \n",
    "    # returning the number that is less than the threshold \n",
    "    \n",
    "    counter = 0 \n",
    "    for i in numbers: \n",
    "        if i < threshold:\n",
    "            counter += 1 \n",
    "    return counter\n",
    "\n",
    "numbers = [12,8,2,4,4,10]\n",
    "counter = count_less_than(numbers,5)\n",
    "print(counter)"
   ]
  },
  {
   "cell_type": "code",
   "execution_count": null,
   "id": "bf955ec7",
   "metadata": {},
   "outputs": [
    {
     "name": "stdout",
     "output_type": "stream",
     "text": [
      "[2, 4]\n"
     ]
    }
   ],
   "source": [
    "# Problem 7 \n",
    "def get_evens(lst):\n",
    "    # empty array \n",
    "    # iteration through each index, for loop \n",
    "    # dividing (using modulus) to see what the remainder is (0 for even, 1 for odd)\n",
    "    # if number is even, then append it to new array \n",
    "    # if number is odd, then return none \n",
    "\n",
    "    evens = []\n",
    "    for i in lst: \n",
    "        if i % 2 == 0: \n",
    "            evens.append(i)\n",
    "    return evens\n",
    "            \n",
    "lst = [1,2,3,4]\n",
    "evens_lst = get_evens(lst)\n",
    "print(evens_lst)"
   ]
  },
  {
   "cell_type": "code",
   "execution_count": 41,
   "id": "431d5945",
   "metadata": {},
   "outputs": [
    {
     "name": "stdout",
     "output_type": "stream",
     "text": [
      "5\n",
      "10\n",
      "15\n",
      "20\n",
      "25\n",
      "30\n",
      "35\n",
      "40\n",
      "45\n",
      "50\n",
      "55\n",
      "60\n",
      "65\n",
      "70\n",
      "75\n",
      "80\n",
      "85\n",
      "90\n",
      "95\n",
      "100\n"
     ]
    }
   ],
   "source": [
    "# Problem 8 \n",
    "def multiples_of_five(lst):\n",
    "    for i in range(1, 101): \n",
    "        if i % 5 == 0: \n",
    "            print(i)\n",
    "        \n",
    "multiples_of_five(lst)"
   ]
  },
  {
   "cell_type": "code",
   "execution_count": null,
   "id": "b361838b",
   "metadata": {},
   "outputs": [
    {
     "name": "stdout",
     "output_type": "stream",
     "text": [
      "[1, 2, 3, 6]\n"
     ]
    },
    {
     "ename": "",
     "evalue": "",
     "output_type": "error",
     "traceback": [
      "\u001b[1;31mThe Kernel crashed while executing code in the current cell or a previous cell. \n",
      "\u001b[1;31mPlease review the code in the cell(s) to identify a possible cause of the failure. \n",
      "\u001b[1;31mClick <a href='https://aka.ms/vscodeJupyterKernelCrash'>here</a> for more info. \n",
      "\u001b[1;31mView Jupyter <a href='command:jupyter.viewOutput'>log</a> for further details."
     ]
    }
   ],
   "source": [
    "# Problem 9 \n",
    "def find_divisors(n):\n",
    "    # new array to store the numbers that are divisible \n",
    "    # find numbers using a range (1 to n + 1)\n",
    "    # iterate through the numbers \n",
    "    # checking for the divisor, if n % i, is equal to 0\n",
    "    # store in new array if it is divisible \n",
    "    # return the number \n",
    "\n",
    "    divisors = []\n",
    "    for i in range(1, n + 1): \n",
    "        if n % i == 0:\n",
    "            divisors.append(i)\n",
    "    return divisors\n",
    "\n",
    "lst = find_divisors(6)\n",
    "print(lst)"
   ]
  },
  {
   "cell_type": "code",
   "execution_count": null,
   "id": "74ebe887",
   "metadata": {},
   "outputs": [],
   "source": [
    "# Problem 10 \n",
    "def fizzbuzz(n):\n",
    "    pass"
   ]
  }
 ],
 "metadata": {
  "kernelspec": {
   "display_name": ".venv",
   "language": "python",
   "name": "python3"
  },
  "language_info": {
   "codemirror_mode": {
    "name": "ipython",
    "version": 3
   },
   "file_extension": ".py",
   "mimetype": "text/x-python",
   "name": "python",
   "nbconvert_exporter": "python",
   "pygments_lexer": "ipython3",
   "version": "3.13.4"
  }
 },
 "nbformat": 4,
 "nbformat_minor": 5
}
