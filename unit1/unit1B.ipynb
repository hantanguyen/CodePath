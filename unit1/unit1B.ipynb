{
 "cells": [
  {
   "cell_type": "markdown",
   "id": "b0fe7749",
   "metadata": {},
   "source": [
    "Session 1, Unit 1B"
   ]
  },
  {
   "cell_type": "code",
   "execution_count": 2,
   "id": "52f1f533",
   "metadata": {},
   "outputs": [
    {
     "name": "stdout",
     "output_type": "stream",
     "text": [
      "Hello Hori\n"
     ]
    }
   ],
   "source": [
    "# Problem 1: Hello User!\n",
    "\n",
    "def greet_user(name): \n",
    "    print(\"Hello \" + name)\n",
    "greet_user('Hori')\n"
   ]
  },
  {
   "cell_type": "code",
   "execution_count": 3,
   "id": "bd8e8ef7",
   "metadata": {},
   "outputs": [
    {
     "name": "stdout",
     "output_type": "stream",
     "text": [
      "5\n"
     ]
    }
   ],
   "source": [
    "# Problem 2: Calculate Difference \n",
    "\n",
    "def difference(a,b): \n",
    "    return abs(b - a)\n",
    "print(difference(3, 8))"
   ]
  },
  {
   "cell_type": "code",
   "execution_count": null,
   "id": "3f00616a",
   "metadata": {},
   "outputs": [
    {
     "data": {
      "text/plain": [
       "[1, 2, 3, 4, 1, 2, 3, 4]"
      ]
     },
     "execution_count": 8,
     "metadata": {},
     "output_type": "execute_result"
    }
   ],
   "source": [
    "# Problem 3: List Concatenation \n",
    "\n",
    "# a function that concatenates lists \n",
    "def concatenate_list(nums):\n",
    "    # using the + operator creates a new list containing all elements form the original list\n",
    "    return nums + nums\n",
    "\n",
    "nums = [1,2,3,4]\n",
    "concatenate_list(nums)"
   ]
  },
  {
   "cell_type": "code",
   "execution_count": 11,
   "id": "557f4f2d",
   "metadata": {},
   "outputs": [
    {
     "name": "stdout",
     "output_type": "stream",
     "text": [
      "You got a good night's rest!\n",
      "Oof, go back to bed!\n",
      "You're a sleep prodigy!\n",
      "You got a good night's rest!\n"
     ]
    }
   ],
   "source": [
    "# Problem 4: Sleep Assessment \n",
    "\n",
    "def sleep_assessment(hours):\n",
    "    if hours < 8: \n",
    "        print(\"Oof, go back to bed!\")\n",
    "    elif hours > 8 and hours <= 10: \n",
    "        print(\"You got a good night's rest!\")\n",
    "    else: \n",
    "        print(\"You're a sleep prodigy!\")\n",
    "\n",
    "sleep_assessment(10)\n",
    "sleep_assessment(4)\n",
    "sleep_assessment(12)\n",
    "sleep_assessment(9)"
   ]
  },
  {
   "cell_type": "code",
   "execution_count": 13,
   "id": "52b64543",
   "metadata": {},
   "outputs": [
    {
     "name": "stdout",
     "output_type": "stream",
     "text": [
      "6.6795\n",
      "4.453\n",
      "8.906\n"
     ]
    }
   ],
   "source": [
    "# Problem 5: Calculate Tip \n",
    "\n",
    "def calculate_tip(bill, service_quality):\n",
    "    if service_quality == \"poor\": \n",
    "        return(bill * 0.10)\n",
    "    elif service_quality == \"average\": \n",
    "        return(bill * 0.15)\n",
    "    elif service_quality == \"excellent\": \n",
    "        return(bill * 0.20)\n",
    "    else: \n",
    "        return None\n",
    "        \n",
    "tip1 = calculate_tip(44.53, \"average\")\n",
    "print(tip1)\n",
    "tip2 = calculate_tip(44.53, \"poor\")\n",
    "print(tip2)\n",
    "tip3 = calculate_tip(44.53, \"excellent\")\n",
    "print(tip3)"
   ]
  },
  {
   "cell_type": "code",
   "execution_count": 18,
   "id": "91c73723",
   "metadata": {},
   "outputs": [
    {
     "name": "stdout",
     "output_type": "stream",
     "text": [
      "It's a tie\n",
      "Player 2 wins!\n",
      "Player 1 wins!\n",
      "Player 2 wins!\n",
      "Player 1 wins!\n"
     ]
    }
   ],
   "source": [
    "# Problem 6: Rock, Paper, Scissors \n",
    "\n",
    "rock = \"rock\"\n",
    "paper = \"paper\"\n",
    "scissors = \"scissors\"\n",
    "\n",
    "def rock_paper_scissors(player1, player2):\n",
    "\n",
    "    if player1 == player2: \n",
    "        print(\"It's a tie\")\n",
    "    elif player1 == rock and player2 == scissors:\n",
    "        print(\"Player 1 wins!\")\n",
    "    elif player1 == scissors and player2 == paper:\n",
    "        print(\"Player 1 wins!\")\n",
    "    elif player1 == paper and player2 == rock:\n",
    "        print(\"Player 1 wins!\")\n",
    "    else: \n",
    "        print(\"Player 2 wins!\")\n",
    "\n",
    "rock_paper_scissors(rock, rock)\n",
    "rock_paper_scissors(scissors, rock)\n",
    "rock_paper_scissors(scissors, paper)\n",
    "rock_paper_scissors(rock, paper)\n",
    "rock_paper_scissors(paper, rock)"
   ]
  },
  {
   "cell_type": "code",
   "execution_count": 20,
   "id": "edd8fa02",
   "metadata": {},
   "outputs": [
    {
     "data": {
      "text/plain": [
       "[1.0, 2.0, 3.0, 4.0]"
      ]
     },
     "execution_count": 20,
     "metadata": {},
     "output_type": "execute_result"
    }
   ],
   "source": [
    "# Problem 7: Unscramble and Divide\n",
    "\n",
    "def halve_list(lst):\n",
    "    result = []\n",
    "    for number in lst:\n",
    "        halved = number/2\n",
    "        result.append(halved)\n",
    "    return result\n",
    "halve_list([2,4,6,8])"
   ]
  }
 ],
 "metadata": {
  "kernelspec": {
   "display_name": ".venv",
   "language": "python",
   "name": "python3"
  },
  "language_info": {
   "codemirror_mode": {
    "name": "ipython",
    "version": 3
   },
   "file_extension": ".py",
   "mimetype": "text/x-python",
   "name": "python",
   "nbconvert_exporter": "python",
   "pygments_lexer": "ipython3",
   "version": "3.13.4"
  }
 },
 "nbformat": 4,
 "nbformat_minor": 5
}
