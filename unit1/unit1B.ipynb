{
 "cells": [
  {
   "cell_type": "markdown",
   "id": "a3df06dd",
   "metadata": {},
   "source": [
    "Session 2: Problem Set Version 1"
   ]
  },
  {
   "cell_type": "code",
   "execution_count": null,
   "id": "79d4c1c8",
   "metadata": {},
   "outputs": [
    {
     "name": "stdout",
     "output_type": "stream",
     "text": [
      "squirtle\n",
      "gengar\n",
      "charizard\n",
      "pikachu\n"
     ]
    }
   ],
   "source": [
    "# Problem 1 \n",
    "def print_list(lst): \n",
    "    for item in lst: \n",
    "        print(item)\n",
    "    \n",
    "lst = [\"squirtle\", \"gengar\", \"charizard\", \"pikachu\"]\n",
    "print_list(lst)"
   ]
  }
 ],
 "metadata": {
  "kernelspec": {
   "display_name": ".venv",
   "language": "python",
   "name": "python3"
  },
  "language_info": {
   "codemirror_mode": {
    "name": "ipython",
    "version": 3
   },
   "file_extension": ".py",
   "mimetype": "text/x-python",
   "name": "python",
   "nbconvert_exporter": "python",
   "pygments_lexer": "ipython3",
   "version": "3.13.4"
  }
 },
 "nbformat": 4,
 "nbformat_minor": 5
}
