{
 "cells": [
  {
   "cell_type": "markdown",
   "id": "b0fe7749",
   "metadata": {},
   "source": [
    "Session 1, Unit 1B"
   ]
  },
  {
   "cell_type": "code",
   "execution_count": 2,
   "id": "52f1f533",
   "metadata": {},
   "outputs": [
    {
     "name": "stdout",
     "output_type": "stream",
     "text": [
      "Hello Hori\n"
     ]
    }
   ],
   "source": [
    "# Problem 1: Hello User!\n",
    "\n",
    "def greet_user(name): \n",
    "    print(\"Hello \" + name)\n",
    "greet_user('Hori')\n"
   ]
  },
  {
   "cell_type": "code",
   "execution_count": 3,
   "id": "bd8e8ef7",
   "metadata": {},
   "outputs": [
    {
     "name": "stdout",
     "output_type": "stream",
     "text": [
      "5\n"
     ]
    }
   ],
   "source": [
    "# Problem 2: Calculate Difference \n",
    "\n",
    "def difference(a,b): \n",
    "    return abs(b - a)\n",
    "print(difference(3, 8))"
   ]
  },
  {
   "cell_type": "code",
   "execution_count": null,
   "id": "3f00616a",
   "metadata": {},
   "outputs": [
    {
     "data": {
      "text/plain": [
       "[1, 2, 3, 4, 1, 2, 3, 4]"
      ]
     },
     "execution_count": 8,
     "metadata": {},
     "output_type": "execute_result"
    }
   ],
   "source": [
    "# Problem 3: List Concatenation \n",
    "\n",
    "# a function that concatenates lists \n",
    "def concatenate_list(nums):\n",
    "    # using the + operator creates a new list containing all elements form the original list\n",
    "    return nums + nums\n",
    "\n",
    "nums = [1,2,3,4]\n",
    "concatenate_list(nums)"
   ]
  },
  {
   "cell_type": "code",
   "execution_count": 11,
   "id": "557f4f2d",
   "metadata": {},
   "outputs": [
    {
     "name": "stdout",
     "output_type": "stream",
     "text": [
      "You got a good night's rest!\n",
      "Oof, go back to bed!\n",
      "You're a sleep prodigy!\n",
      "You got a good night's rest!\n"
     ]
    }
   ],
   "source": [
    "# Problem 4: Sleep Assessment \n",
    "\n",
    "def sleep_assessment(hours):\n",
    "    if hours < 8: \n",
    "        print(\"Oof, go back to bed!\")\n",
    "    elif hours > 8 and hours <= 10: \n",
    "        print(\"You got a good night's rest!\")\n",
    "    else: \n",
    "        print(\"You're a sleep prodigy!\")\n",
    "\n",
    "sleep_assessment(10)\n",
    "sleep_assessment(4)\n",
    "sleep_assessment(12)\n",
    "sleep_assessment(9)"
   ]
  },
  {
   "cell_type": "code",
   "execution_count": 13,
   "id": "52b64543",
   "metadata": {},
   "outputs": [
    {
     "name": "stdout",
     "output_type": "stream",
     "text": [
      "6.6795\n",
      "4.453\n",
      "8.906\n"
     ]
    }
   ],
   "source": [
    "# Problem 5: Calculate Tip \n",
    "\n",
    "def calculate_tip(bill, service_quality):\n",
    "    if service_quality == \"poor\": \n",
    "        return(bill * 0.10)\n",
    "    elif service_quality == \"average\": \n",
    "        return(bill * 0.15)\n",
    "    elif service_quality == \"excellent\": \n",
    "        return(bill * 0.20)\n",
    "    else: \n",
    "        return None\n",
    "        \n",
    "tip1 = calculate_tip(44.53, \"average\")\n",
    "print(tip1)\n",
    "tip2 = calculate_tip(44.53, \"poor\")\n",
    "print(tip2)\n",
    "tip3 = calculate_tip(44.53, \"excellent\")\n",
    "print(tip3)"
   ]
  },
  {
   "cell_type": "code",
   "execution_count": 18,
   "id": "91c73723",
   "metadata": {},
   "outputs": [
    {
     "name": "stdout",
     "output_type": "stream",
     "text": [
      "It's a tie\n",
      "Player 2 wins!\n",
      "Player 1 wins!\n",
      "Player 2 wins!\n",
      "Player 1 wins!\n"
     ]
    }
   ],
   "source": [
    "# Problem 6: Rock, Paper, Scissors \n",
    "\n",
    "rock = \"rock\"\n",
    "paper = \"paper\"\n",
    "scissors = \"scissors\"\n",
    "\n",
    "def rock_paper_scissors(player1, player2):\n",
    "\n",
    "    if player1 == player2: \n",
    "        print(\"It's a tie\")\n",
    "    elif player1 == rock and player2 == scissors:\n",
    "        print(\"Player 1 wins!\")\n",
    "    elif player1 == scissors and player2 == paper:\n",
    "        print(\"Player 1 wins!\")\n",
    "    elif player1 == paper and player2 == rock:\n",
    "        print(\"Player 1 wins!\")\n",
    "    else: \n",
    "        print(\"Player 2 wins!\")\n",
    "\n",
    "rock_paper_scissors(rock, rock)\n",
    "rock_paper_scissors(scissors, rock)\n",
    "rock_paper_scissors(scissors, paper)\n",
    "rock_paper_scissors(rock, paper)\n",
    "rock_paper_scissors(paper, rock)"
   ]
  },
  {
   "cell_type": "code",
   "execution_count": null,
   "id": "edd8fa02",
   "metadata": {},
   "outputs": [
    {
     "data": {
      "text/plain": [
       "[1.0, 2.0, 3.0, 4.0]"
      ]
     },
     "execution_count": 20,
     "metadata": {},
     "output_type": "execute_result"
    }
   ],
   "source": [
    "# Problem 7: Unscramble and Divide\n",
    "\n",
    "# a function that halves the numbers in a list \n",
    "def halve_list(lst):\n",
    "    # empty list \n",
    "    result = []\n",
    "    # iterating through all the elements in the list\n",
    "    for number in lst:\n",
    "        # halved is the number in the list divided by 2\n",
    "        halved = number/2\n",
    "        # append the halved number to result \n",
    "        result.append(halved)\n",
    "    # return result \n",
    "    return result\n",
    "halve_list([2,4,6,8])"
   ]
  },
  {
   "cell_type": "code",
   "execution_count": null,
   "id": "6f89b623",
   "metadata": {},
   "outputs": [
    {
     "name": "stdout",
     "output_type": "stream",
     "text": [
      "[13, 11, 14]\n"
     ]
    }
   ],
   "source": [
    "# Problem 8: Above the threshold \n",
    "\n",
    "# a function that takes a list and a threshold number \n",
    "def above_threshold(lst, threshold):\n",
    "    # empty list to start\n",
    "    new_lst = [] \n",
    "    # iterating through all the elements in the list\n",
    "    for i in lst: \n",
    "        # if the index is greater than the threshold \n",
    "        if i > threshold:\n",
    "            # append it to the new list\n",
    "            new_lst.append(i)\n",
    "    # return it to the new list\n",
    "    return new_lst\n",
    "\n",
    "lst = [8,2,13,11,4,10,14]\n",
    "new_lst = above_threshold(lst, 10)\n",
    "print(new_lst)"
   ]
  },
  {
   "cell_type": "code",
   "execution_count": null,
   "id": "5d448dde",
   "metadata": {},
   "outputs": [
    {
     "name": "stdout",
     "output_type": "stream",
     "text": [
      "5\n",
      "4\n",
      "3\n",
      "2\n",
      "1\n"
     ]
    }
   ],
   "source": [
    "# Problem 9: Countdown\n",
    "\n",
    "# a function that counts down from m to n\n",
    "def countdown(m,n):\n",
    "    # iterating through the range (start, stop, step)\n",
    "    # n-1 to be inclusive\n",
    "    for i in range(m, n-1, -1): \n",
    "        # print \n",
    "        print(i)\n",
    "        \n",
    "countdown(5,1)"
   ]
  },
  {
   "cell_type": "code",
   "execution_count": null,
   "id": "969ca8f9",
   "metadata": {},
   "outputs": [
    {
     "name": "stdout",
     "output_type": "stream",
     "text": [
      "32\n",
      "27\n"
     ]
    }
   ],
   "source": [
    "# Problem 10: Calculate Power\n",
    "\n",
    "def power(base, exponent):\n",
    "    # exponentiation operator \n",
    "    return(base ** exponent)\n",
    "\n",
    "pow1 = power(2,5)\n",
    "print(pow1)\n",
    "pow2 = power(3,3)\n",
    "print(pow2)"
   ]
  },
  {
   "cell_type": "code",
   "execution_count": null,
   "id": "17de4b26",
   "metadata": {},
   "outputs": [
    {
     "name": "stdout",
     "output_type": "stream",
     "text": [
      "5\n"
     ]
    }
   ],
   "source": [
    "# Problem 11: Length of List \n",
    "\n",
    "def list_length(lst):\n",
    "    # built in len function determines the number or items in an object\n",
    "    return(len(lst))\n",
    "\n",
    "lst = [2,4,6,8,10]\n",
    "length = list_length(lst)\n",
    "print(length)"
   ]
  },
  {
   "cell_type": "code",
   "execution_count": null,
   "id": "a84e6b06",
   "metadata": {},
   "outputs": [
    {
     "name": "stdout",
     "output_type": "stream",
     "text": [
      "6\n"
     ]
    }
   ],
   "source": [
    "# Problem 12: Calculate Factorial \n",
    "\n",
    "# function that calculates a factorial of n\n",
    "def factorial(n):\n",
    "    # iterating through the range of 1 to n \n",
    "    for i in range(1, n): \n",
    "        # multiplying value of n by index\n",
    "        n *= i\n",
    "    # return n\n",
    "    return(n)\n",
    "\n",
    "print(factorial(3))"
   ]
  },
  {
   "cell_type": "code",
   "execution_count": null,
   "id": "7597159b",
   "metadata": {},
   "outputs": [
    {
     "data": {
      "text/plain": [
       "[1, 4, 9, 16]"
      ]
     },
     "execution_count": 51,
     "metadata": {},
     "output_type": "execute_result"
    }
   ],
   "source": [
    "# Problem 13: Calculate the Squares\n",
    "\n",
    "# a function that calculates the squares of a list of nums\n",
    "def squares(nums):\n",
    "    # empty list to store values\n",
    "    squared = []\n",
    "    # iterating through the list of nums\n",
    "    for i in nums: \n",
    "        # appending the index when its squared to the list\n",
    "        squared.append(i ** 2)\n",
    "    # return squared list\n",
    "    return squared\n",
    "\n",
    "nums = [1,2,3,4]\n",
    "squares(nums)"
   ]
  },
  {
   "cell_type": "code",
   "execution_count": null,
   "id": "76a54d5a",
   "metadata": {},
   "outputs": [
    {
     "name": "stdout",
     "output_type": "stream",
     "text": [
      "[3, 6, 9]\n"
     ]
    }
   ],
   "source": [
    "# Problem 14: Multiply List \n",
    "\n",
    "# a function that multiplies a list and a multiplier\n",
    "def multiply_list(lst, multiplier):\n",
    "    # empty list to store \n",
    "    new_lst = []\n",
    "    # iterating through the list \n",
    "    for i in lst: \n",
    "        # appending the multiplied index by multiplier to new_list\n",
    "        new_lst.append(i * multiplier)\n",
    "    # return the new_lst\n",
    "    return new_lst\n",
    "\n",
    "lst = [1,2,3]\n",
    "new_lst = multiply_list(lst, 3)\n",
    "print(new_lst)"
   ]
  },
  {
   "cell_type": "code",
   "execution_count": null,
   "id": "b6629102",
   "metadata": {},
   "outputs": [
    {
     "name": "stdout",
     "output_type": "stream",
     "text": [
      "0\n",
      "4\n"
     ]
    }
   ],
   "source": [
    "# Problem 15: Count Evens \n",
    "\n",
    "# a function that counts the number of evens in a list\n",
    "def count_evens(lst):\n",
    "    # evens count is 0\n",
    "    evens = 0 \n",
    "    # iterating through the list\n",
    "    for i in lst: \n",
    "        # if number doesn't have a remainder it's even\n",
    "        if i % 2 == 0: \n",
    "            # iterating when there is an even\n",
    "            evens += 1 \n",
    "    # returning the count\n",
    "    return evens\n",
    "\n",
    "lst1 = [1,5,7,9]\n",
    "count1 = count_evens(lst1)\n",
    "print(count1)\n",
    "\n",
    "lst2 = [2,4,6,8]\n",
    "count2 = count_evens(lst2)\n",
    "print(count2)"
   ]
  }
 ],
 "metadata": {
  "kernelspec": {
   "display_name": ".venv",
   "language": "python",
   "name": "python3"
  },
  "language_info": {
   "codemirror_mode": {
    "name": "ipython",
    "version": 3
   },
   "file_extension": ".py",
   "mimetype": "text/x-python",
   "name": "python",
   "nbconvert_exporter": "python",
   "pygments_lexer": "ipython3",
   "version": "3.13.4"
  }
 },
 "nbformat": 4,
 "nbformat_minor": 5
}
