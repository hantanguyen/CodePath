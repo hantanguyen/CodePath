{
 "cells": [
  {
   "cell_type": "markdown",
   "id": "35ab6300",
   "metadata": {},
   "source": [
    "Unit 1 Hacker Rank: Version B"
   ]
  },
  {
   "cell_type": "code",
   "execution_count": null,
   "id": "56d24e52",
   "metadata": {},
   "outputs": [
    {
     "name": "stdout",
     "output_type": "stream",
     "text": [
      "C\n"
     ]
    }
   ],
   "source": [
    "# 1. What is the expected output? \n",
    "\n",
    "x = 15 \n",
    "y = 20 \n",
    "\n",
    "# AND Operator: Both conditions must be true for the statement to print \n",
    "\n",
    "# if x is greater than or equal to y and y is less than 30: False and True = False\n",
    "if x >= y and y < 30: \n",
    "    print(\"A\")\n",
    "# if x less than or equal to y and x is less than 10: True and False = False \n",
    "elif x <= y and x < 10: \n",
    "    print(\"B\")\n",
    "# if x is greater than or equal to 15 and x is less than y: True and True = True\n",
    "# Since both conditions are true then C is printed\n",
    "elif x >= 15 and x < y: \n",
    "    print(\"C\")\n",
    "else: \n",
    "    # if no conditions are true then D is printed\n",
    "    print(\"D\")"
   ]
  },
  {
   "cell_type": "code",
   "execution_count": null,
   "id": "9a1d5e3a",
   "metadata": {},
   "outputs": [
    {
     "data": {
      "text/plain": [
       "[0, 1, 2, 3, 4, 5, 6, 7, 8, 9]"
      ]
     },
     "execution_count": 5,
     "metadata": {},
     "output_type": "execute_result"
    }
   ],
   "source": [
    "# 2. Populating a List \n",
    "\n",
    "# empty list to store elements\n",
    "final_ans = []\n",
    "\n",
    "# a function that populates a list in a certain range\n",
    "def populate_list():\n",
    "    # iterate from 0-9 since its not inclusive of 10\n",
    "    for num in range(10):\n",
    "        # append the numbers to the list \n",
    "        final_ans.append(num)\n",
    "    # return the list \n",
    "    return final_ans\n",
    "# call the function\n",
    "populate_list()\n"
   ]
  },
  {
   "cell_type": "code",
   "execution_count": null,
   "id": "0ed047ef",
   "metadata": {},
   "outputs": [
    {
     "name": "stdout",
     "output_type": "stream",
     "text": [
      "[1, 4, 9, 16]\n"
     ]
    }
   ],
   "source": [
    "# 3. Mystery function: what is the value of the output\n",
    "\n",
    "# a function that multiples the index value by itself and returns a new list\n",
    "def mystery_function(lst): \n",
    "    # empty list\n",
    "    result = []\n",
    "    # iterate through all the elements in a list\n",
    "    for num in lst: \n",
    "        # append to list while multiplying itself to itself\n",
    "        result.append(num * num)\n",
    "    # return the list\n",
    "    return result\n",
    "\n",
    "output = mystery_function([1, 2, 3, 4])\n",
    "print(output)"
   ]
  },
  {
   "cell_type": "code",
   "execution_count": null,
   "id": "7f1852d9",
   "metadata": {},
   "outputs": [
    {
     "data": {
      "text/plain": [
       "2"
      ]
     },
     "execution_count": 9,
     "metadata": {},
     "output_type": "execute_result"
    }
   ],
   "source": [
    "# 4. Count negatives: what is wrong with the code? \n",
    "\n",
    "def count_negatives(lst): \n",
    "    count = 0 \n",
    "    for num in lst: \n",
    "        # if num <= 0: \n",
    "        # 0 isn't a negative number, so if we had a 0 in our list then it would \n",
    "        # be counted as negative\n",
    "        if num < 0:\n",
    "            count += 1 \n",
    "    return count\n",
    "\n",
    "lst = [-1, 2, 3, 4, -5]\n",
    "count_negatives(lst)\n",
    "\n",
    "# Currently, 0 will be counted as a negative number. if num <= 0 should be replaces with if num < 0"
   ]
  },
  {
   "cell_type": "code",
   "execution_count": null,
   "id": "ef8cde5b",
   "metadata": {},
   "outputs": [
    {
     "data": {
      "text/plain": [
       "6"
      ]
     },
     "execution_count": 12,
     "metadata": {},
     "output_type": "execute_result"
    }
   ],
   "source": [
    "# 5. Find Product: Write a function that returns the product of all elements in a list \n",
    "\n",
    "def product(lst): \n",
    "    # set product to 1 \n",
    "    product = 1 \n",
    "    # iterate through all the elements in a lst\n",
    "    for i in lst: \n",
    "        # multiply the product and the index of the list \n",
    "        # product = 1st element * 2nd element * 3rd element \n",
    "        product = product * i \n",
    "    # return product\n",
    "    return product\n",
    "\n",
    "lst = [1, 2, 3]\n",
    "product(lst)"
   ]
  },
  {
   "cell_type": "code",
   "execution_count": null,
   "id": "f3fbc50c",
   "metadata": {},
   "outputs": [
    {
     "data": {
      "text/plain": [
       "[2, 3, 4]"
      ]
     },
     "execution_count": 13,
     "metadata": {},
     "output_type": "execute_result"
    }
   ],
   "source": [
    "# 6. In Range: a function that takes a lst of nums and outputs the list of nums that are greater \n",
    "# than the min_val and less than the max_val\n",
    "\n",
    "def in_range(nums, min_val, max_val):\n",
    "    # empty list to return it \n",
    "    final_nums = []\n",
    "    # iterate through the list of nums\n",
    "    for i in nums: \n",
    "        # if i greater than min_val and i is less than max_val\n",
    "        # both must be true to append\n",
    "        if i > min_val and i < max_val: \n",
    "            # append to list\n",
    "            final_nums.append(i)\n",
    "    # return list\n",
    "    return final_nums\n",
    "\n",
    "nums = [1, 2, 3, 4, 5]\n",
    "min_val = 1\n",
    "max_val = 5\n",
    "in_range(nums, min_val, max_val)"
   ]
  }
 ],
 "metadata": {
  "kernelspec": {
   "display_name": ".venv",
   "language": "python",
   "name": "python3"
  },
  "language_info": {
   "codemirror_mode": {
    "name": "ipython",
    "version": 3
   },
   "file_extension": ".py",
   "mimetype": "text/x-python",
   "name": "python",
   "nbconvert_exporter": "python",
   "pygments_lexer": "ipython3",
   "version": "3.13.4"
  }
 },
 "nbformat": 4,
 "nbformat_minor": 5
}
