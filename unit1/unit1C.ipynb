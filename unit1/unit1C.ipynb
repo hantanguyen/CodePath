{
 "cells": [
  {
   "cell_type": "markdown",
   "id": "ad2a9124",
   "metadata": {},
   "source": [
    "Session 1, Unit 1C"
   ]
  },
  {
   "cell_type": "code",
   "execution_count": 4,
   "id": "aedb9d39",
   "metadata": {},
   "outputs": [
    {
     "name": "stdout",
     "output_type": "stream",
     "text": [
      "squirtle\n",
      "gengar\n",
      "charizard\n",
      "pikachu\n"
     ]
    }
   ],
   "source": [
    "# Problem 1: Print List \n",
    "\n",
    "def print_list(lst): \n",
    "    for i in lst:\n",
    "        print(i)\n",
    "\n",
    "lst = [\"squirtle\", \"gengar\", \"charizard\", \"pikachu\"]\n",
    "print_list(lst)"
   ]
  },
  {
   "cell_type": "code",
   "execution_count": 5,
   "id": "6e93521c",
   "metadata": {},
   "outputs": [
    {
     "name": "stdout",
     "output_type": "stream",
     "text": [
      "2\n",
      "4\n",
      "6\n"
     ]
    }
   ],
   "source": [
    "# Problem 2: Print Doubled List\n",
    "\n",
    "def doubled(lst):\n",
    "    for i in lst:\n",
    "        print(i * 2)\n",
    "\n",
    "lst = [1, 2, 3]\n",
    "doubled(lst)"
   ]
  },
  {
   "cell_type": "code",
   "execution_count": null,
   "id": "1f42510d",
   "metadata": {},
   "outputs": [
    {
     "name": "stdout",
     "output_type": "stream",
     "text": [
      "[2, 4, 6]\n"
     ]
    }
   ],
   "source": [
    "# Problem 3: Return Doubled List\n",
    "\n",
    "# a function that doubles the elements of a list\n",
    "def doubled(lst):\n",
    "    # empty list to store doubled elements\n",
    "    new_lst = []\n",
    "    # iterating through the list\n",
    "    for i in lst:\n",
    "        # appending the elements when the index is doubled\n",
    "        new_lst.append(i * 2)\n",
    "    # return new list\n",
    "    return new_lst\n",
    "\n",
    "lst = [1,2,3]\n",
    "new_lst = doubled(lst)\n",
    "print(new_lst)"
   ]
  },
  {
   "cell_type": "code",
   "execution_count": null,
   "id": "eef92e86",
   "metadata": {},
   "outputs": [
    {
     "name": "stdout",
     "output_type": "stream",
     "text": [
      "[-1, 2, 3, -4]\n"
     ]
    }
   ],
   "source": [
    "# Problem 4: Flip Signs\n",
    "\n",
    "# a function that flips the sign of the numbers in the list\n",
    "def flip_sign(lst):\n",
    "    # empty list to store the flipped list signs\n",
    "    flipped_lst = []\n",
    "    # iterating through the elements in the list\n",
    "    for i in lst: \n",
    "        # appending the flipped signs elements to the new list\n",
    "        flipped_lst.append(i * -1)\n",
    "    # return the list\n",
    "    return flipped_lst\n",
    "\n",
    "lst = [1,-2,-3,4]\n",
    "flipped_lst = flip_sign(lst)\n",
    "print(flipped_lst)"
   ]
  },
  {
   "cell_type": "code",
   "execution_count": null,
   "id": "f47e167b",
   "metadata": {},
   "outputs": [
    {
     "name": "stdout",
     "output_type": "stream",
     "text": [
      "20\n"
     ]
    }
   ],
   "source": [
    "# Problem 5: Max difference\n",
    "\n",
    "# a function that takes a list and returns the difference between the max value and min value\n",
    "def max_difference(lst):\n",
    "    # get largest value\n",
    "    max_val = max(lst)\n",
    "    # get smallest value\n",
    "    min_val = min(lst)\n",
    "    # returning the difference \n",
    "    return max_val - min_val\n",
    "\n",
    "lst = [5,22,8,10,2]\n",
    "max_diff = max_difference(lst)\n",
    "print(max_diff)"
   ]
  },
  {
   "cell_type": "code",
   "execution_count": null,
   "id": "b4c3de9c",
   "metadata": {},
   "outputs": [
    {
     "name": "stdout",
     "output_type": "stream",
     "text": [
      "3\n"
     ]
    }
   ],
   "source": [
    "# Problem 6: Below Threshold\n",
    "\n",
    "# a function that takes a list of integers and the threshold to print \n",
    "# the number of how many are less than the threshold\n",
    "def count_less_than(numbers, threshold):\n",
    "    # counter initalized by 0\n",
    "    counter = 0\n",
    "    # iterate through the list of numbers\n",
    "    for i in numbers: \n",
    "        # comparing the index to the threshold\n",
    "        if i < threshold:\n",
    "            # increment the counter if less than the threshold\n",
    "            counter += 1\n",
    "    # return counter\n",
    "    return counter\n",
    "\n",
    "numbers = [12,8,2,4,4,10]\n",
    "counter = count_less_than(numbers,5)\n",
    "print(counter)"
   ]
  },
  {
   "cell_type": "code",
   "execution_count": null,
   "id": "8b900ab9",
   "metadata": {},
   "outputs": [
    {
     "name": "stdout",
     "output_type": "stream",
     "text": [
      "[2, 4]\n"
     ]
    }
   ],
   "source": [
    "# Problem 7: Events List\n",
    "\n",
    "# a function that gets the even numbers in a list\n",
    "def get_evens(lst): \n",
    "    # empty list to start\n",
    "    evens_lst = []\n",
    "    # iterating through the elements of the list\n",
    "    for i in lst:\n",
    "        # if there isn't a remainder then its even\n",
    "        if i % 2 == 0:\n",
    "            # append the even numbers to the evens list\n",
    "            evens_lst.append(i)\n",
    "    # return the evens list\n",
    "    return evens_lst\n",
    "\n",
    "lst = [1, 2, 3, 4]\n",
    "evens_lst = get_evens(lst)\n",
    "print(evens_lst)"
   ]
  },
  {
   "cell_type": "code",
   "execution_count": null,
   "id": "91948deb",
   "metadata": {},
   "outputs": [
    {
     "name": "stdout",
     "output_type": "stream",
     "text": [
      "5\n",
      "10\n",
      "15\n",
      "20\n",
      "25\n",
      "30\n",
      "35\n",
      "40\n",
      "45\n",
      "50\n",
      "55\n",
      "60\n",
      "65\n",
      "70\n",
      "75\n",
      "80\n",
      "85\n",
      "90\n",
      "95\n",
      "100\n"
     ]
    }
   ],
   "source": [
    "# Problem 8: Multiples of Five\n",
    "\n",
    "def multiples_of_five():\n",
    "    # range (start, stop, step)\n",
    "    for i in range(5, 101, 5): \n",
    "        print(i)\n",
    "\n",
    "multiples_of_five()"
   ]
  },
  {
   "cell_type": "code",
   "execution_count": null,
   "id": "f2eba716",
   "metadata": {},
   "outputs": [
    {
     "name": "stdout",
     "output_type": "stream",
     "text": [
      "[1, 2, 3, 6]\n"
     ]
    }
   ],
   "source": [
    "# Problem 9: Divisors\n",
    "\n",
    "# a function that find the divisors of n\n",
    "def find_divisors(n): \n",
    "    # empty list to store the divisors\n",
    "    divisors = []\n",
    "    # iterating through the range of 1 and n+1 (inclusive)\n",
    "    for i in range(1, n+1): \n",
    "        # if remainder is 0 then n is a divisor\n",
    "        if n % i == 0:\n",
    "            # appending the divisors to the list\n",
    "            divisors.append(i)\n",
    "    # return divisors\n",
    "    return divisors\n",
    "\n",
    "lst = find_divisors(6)\n",
    "print(lst)\n"
   ]
  },
  {
   "cell_type": "code",
   "execution_count": null,
   "id": "b04c85a3",
   "metadata": {},
   "outputs": [
    {
     "name": "stdout",
     "output_type": "stream",
     "text": [
      "1\n",
      "2\n",
      "Fizz\n",
      "4\n",
      "Buzz\n",
      "Fizz\n",
      "7\n",
      "8\n",
      "Fizz\n",
      "Buzz\n",
      "11\n",
      "Fizz\n",
      "13\n"
     ]
    }
   ],
   "source": [
    "# Problem 10: FizzBuzz\n",
    "\n",
    "def fizzbuzz(n): \n",
    "    for i in range(1, n + 1): \n",
    "        if i % 3 == 0 and i % 5 == 0: \n",
    "            print(\"Fizzbuzz\")\n",
    "        elif i % 3 == 0: \n",
    "            print(\"Fizz\")\n",
    "        elif i % 5 == 0: \n",
    "            print(\"Buzz\")\n",
    "        else: \n",
    "            print(i)\n",
    "fizzbuzz(13)\n"
   ]
  },
  {
   "cell_type": "code",
   "execution_count": null,
   "id": "5b68440e",
   "metadata": {},
   "outputs": [
    {
     "name": "stdout",
     "output_type": "stream",
     "text": [
      "0\n",
      "1\n",
      "2\n",
      "3\n",
      "4\n"
     ]
    }
   ],
   "source": [
    "# Problem 11: Print the Index\n",
    "\n",
    "def print_indices(lst): \n",
    "    # iterating through the items of the list while keeping track of the index\n",
    "    for index, value in enumerate(lst): \n",
    "        print(index)\n",
    "\n",
    "lst = [5, 1, 3, 8, 2]\n",
    "print_indices(lst)"
   ]
  },
  {
   "cell_type": "code",
   "execution_count": null,
   "id": "f54f2275",
   "metadata": {},
   "outputs": [
    {
     "name": "stdout",
     "output_type": "stream",
     "text": [
      "2\n",
      "-1\n"
     ]
    }
   ],
   "source": [
    "# Problem 12: Linear Search\n",
    "\n",
    "def linear_search(lst, target): \n",
    "    # iterating through the lst while keeping track of the index \n",
    "    for index, value in enumerate(lst): \n",
    "        # if the value is the target\n",
    "        if value == target: \n",
    "            # return the index\n",
    "            return index\n",
    "    # else return -1\n",
    "    return -1\n",
    "\n",
    "lst = [1, 4, 5, 2, 8]\n",
    "position = linear_search(lst, 5)\n",
    "print(position)\n",
    "\n",
    "lst = [1, 4, 5, 2, 8]\n",
    "position = linear_search(lst, 10)\n",
    "print(position)"
   ]
  }
 ],
 "metadata": {
  "kernelspec": {
   "display_name": ".venv",
   "language": "python",
   "name": "python3"
  },
  "language_info": {
   "codemirror_mode": {
    "name": "ipython",
    "version": 3
   },
   "file_extension": ".py",
   "mimetype": "text/x-python",
   "name": "python",
   "nbconvert_exporter": "python",
   "pygments_lexer": "ipython3",
   "version": "3.13.4"
  }
 },
 "nbformat": 4,
 "nbformat_minor": 5
}
