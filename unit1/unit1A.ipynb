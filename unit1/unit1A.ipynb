{
 "cells": [
  {
   "cell_type": "markdown",
   "id": "f45d26f4",
   "metadata": {},
   "source": [
    "Session 1, Unit 1A"
   ]
  },
  {
   "cell_type": "code",
   "execution_count": 1,
   "id": "ab34a983",
   "metadata": {},
   "outputs": [
    {
     "name": "stdout",
     "output_type": "stream",
     "text": [
      "Hello World!\n"
     ]
    }
   ],
   "source": [
    "# Problem 1: Hello World! \n",
    "\n",
    "def hello_world(): \n",
    "    print(\"Hello World!\")\n",
    "hello_world()"
   ]
  },
  {
   "cell_type": "code",
   "execution_count": 2,
   "id": "dd0af1a1",
   "metadata": {},
   "outputs": [
    {
     "name": "stdout",
     "output_type": "stream",
     "text": [
      "Today's Mood: :|\n"
     ]
    }
   ],
   "source": [
    "# Problem 2: Today's Mood \n",
    "\n",
    "def todays_mood():\n",
    "    mood = \":|\"\n",
    "    print(\"Today's Mood: \" + mood)\n",
    "todays_mood()"
   ]
  },
  {
   "cell_type": "code",
   "execution_count": 3,
   "id": "7a2b1d87",
   "metadata": {},
   "outputs": [
    {
     "name": "stdout",
     "output_type": "stream",
     "text": [
      "Lunch today is: Pizza\n"
     ]
    }
   ],
   "source": [
    "# Problem 3: Lunch Menu \n",
    "\n",
    "def print_menu(menu): \n",
    "    print(\"Lunch today is: \" + menu)\n",
    "print_menu(\"Pizza\")"
   ]
  },
  {
   "cell_type": "code",
   "execution_count": 5,
   "id": "100b76b4",
   "metadata": {},
   "outputs": [
    {
     "data": {
      "text/plain": [
       "56"
      ]
     },
     "execution_count": 5,
     "metadata": {},
     "output_type": "execute_result"
    }
   ],
   "source": [
    "# Problem 4: Sum of Two Integers \n",
    "\n",
    "def sum(a, b): \n",
    "    return (a + b)*2\n",
    "sum(20, 8)"
   ]
  },
  {
   "cell_type": "code",
   "execution_count": 6,
   "id": "ea61e9e4",
   "metadata": {},
   "outputs": [
    {
     "data": {
      "text/plain": [
       "154"
      ]
     },
     "execution_count": 6,
     "metadata": {},
     "output_type": "execute_result"
    }
   ],
   "source": [
    "# Problem 5: Product of Two Integers\n",
    "\n",
    "def product(a, b): \n",
    "    return(a * b)\n",
    "product(22, 7)"
   ]
  },
  {
   "cell_type": "code",
   "execution_count": 8,
   "id": "71b0a62e",
   "metadata": {},
   "outputs": [
    {
     "name": "stdout",
     "output_type": "stream",
     "text": [
      "adult\n",
      "child\n",
      "adult\n"
     ]
    }
   ],
   "source": [
    "# Problem 6: Classify Age\n",
    "\n",
    "def classify_age(age): \n",
    "    if age < 18: \n",
    "        return(\"child\")\n",
    "    else: \n",
    "        return (\"adult\")\n",
    "\n",
    "print(classify_age(18))\n",
    "print(classify_age(7))\n",
    "print(classify_age(50))"
   ]
  },
  {
   "cell_type": "code",
   "execution_count": 9,
   "id": "c670d35c",
   "metadata": {},
   "outputs": [
    {
     "name": "stdout",
     "output_type": "stream",
     "text": [
      "taco time 🌮\n",
      "nap time 😴\n",
      "peanut butter jelly time 🥪\n"
     ]
    }
   ],
   "source": [
    "# Problem 7: What time is it? \n",
    "\n",
    "def what_time_is_it(hour): \n",
    "    if hour == 2: \n",
    "        return(\"taco time 🌮\")\n",
    "    elif hour == 12:\n",
    "        return(\"peanut butter jelly time 🥪\")\n",
    "    else:\n",
    "        return(\"nap time 😴\")\n",
    "\n",
    "print(what_time_is_it(2))\n",
    "print(what_time_is_it(7))\n",
    "print(what_time_is_it(12))"
   ]
  },
  {
   "cell_type": "code",
   "execution_count": null,
   "id": "eb448129",
   "metadata": {},
   "outputs": [
    {
     "name": "stdout",
     "output_type": "stream",
     "text": [
      "Bust!\n",
      "Nice Hand!\n",
      "Blackjack!\n",
      "Hit Me!\n"
     ]
    }
   ],
   "source": [
    "# Problem 8: Blackjack \n",
    "\n",
    "def blackjack(score): \n",
    "    if score < 17: \n",
    "        print(\"Hit Me!\")\n",
    "    elif score >= 17 and score < 21: \n",
    "        print(\"Nice Hand!\")\n",
    "    elif score > 21: \n",
    "        print(\"Bust!\")\n",
    "    else: \n",
    "        print(\"Blackjack!\")\n",
    "\n",
    "blackjack(24)\n",
    "blackjack(19)\n",
    "blackjack(21)\n",
    "blackjack(10)\n"
   ]
  },
  {
   "cell_type": "code",
   "execution_count": null,
   "id": "36f47adc",
   "metadata": {},
   "outputs": [
    {
     "name": "stdout",
     "output_type": "stream",
     "text": [
      "3\n"
     ]
    }
   ],
   "source": [
    "# Problem 9: First Item \n",
    "\n",
    "def get_first(lst): \n",
    "    return lst[0]\n",
    "\n",
    "lst = [3,1,6,7,5]\n",
    "print(get_first(lst))"
   ]
  },
  {
   "cell_type": "code",
   "execution_count": 21,
   "id": "0c8f06de",
   "metadata": {},
   "outputs": [
    {
     "name": "stdout",
     "output_type": "stream",
     "text": [
      "5\n"
     ]
    }
   ],
   "source": [
    "# Problem 10: Last Item \n",
    "\n",
    "def get_last(lst):\n",
    "    return lst[-1]\n",
    "\n",
    "lst = [3,1,6,7,5]\n",
    "print(get_last(lst))"
   ]
  },
  {
   "cell_type": "code",
   "execution_count": 22,
   "id": "0df7b7d6",
   "metadata": {},
   "outputs": [
    {
     "name": "stdout",
     "output_type": "stream",
     "text": [
      "1\n",
      "2\n",
      "3\n",
      "4\n",
      "5\n",
      "6\n",
      "7\n"
     ]
    }
   ],
   "source": [
    "# Problem 11: Counter \n",
    "\n",
    "def counter(stop): \n",
    "    for i in range(1, stop + 1): \n",
    "        print(i)\n",
    "\n",
    "counter(7)"
   ]
  },
  {
   "cell_type": "code",
   "execution_count": null,
   "id": "453ea8bb",
   "metadata": {},
   "outputs": [
    {
     "name": "stdout",
     "output_type": "stream",
     "text": [
      "55\n"
     ]
    }
   ],
   "source": [
    "# Problem 12: Sum of 1 to 10 \n",
    "\n",
    "def sum_ten(): \n",
    "    # keeps track of the total \n",
    "    total = 0\n",
    "    # iterating through the range of numberd\n",
    "    for i in range(1, 11):\n",
    "        # incrementing total by index\n",
    "        total += i \n",
    "    # return the total\n",
    "    return total\n",
    "\n",
    "# call and print function\n",
    "output = sum_ten()\n",
    "print(output)"
   ]
  },
  {
   "cell_type": "code",
   "execution_count": null,
   "id": "23b0942e",
   "metadata": {},
   "outputs": [
    {
     "name": "stdout",
     "output_type": "stream",
     "text": [
      "21\n"
     ]
    }
   ],
   "source": [
    "# Problem 13: Total Sum \n",
    "\n",
    "# sums the positive indexes of stop\n",
    "def sum_positive_range(stop):\n",
    "    # sum is 0\n",
    "    sum = 0 \n",
    "    # iterating through the range of numbers and is inclusive of the last number\n",
    "    for i in range(1, stop + 1): \n",
    "        # incrementing sum by index\n",
    "        sum += i \n",
    "    # return sum\n",
    "    return sum\n",
    "\n",
    "sum = sum_positive_range(6)\n",
    "print(sum)"
   ]
  },
  {
   "cell_type": "code",
   "execution_count": null,
   "id": "b8d13d0d",
   "metadata": {},
   "outputs": [
    {
     "name": "stdout",
     "output_type": "stream",
     "text": [
      "42\n"
     ]
    }
   ],
   "source": [
    "# Problem 14: Total Sum in Range \n",
    "\n",
    "# a function that sums from the start to stop value that is inclusive\n",
    "def sum_range(start, stop):\n",
    "    # total of sum is 0\n",
    "    sum_range_total = 0 \n",
    "    # iterating through all the values\n",
    "    for i in range(start, stop + 1): \n",
    "        # incrementing sum by index\n",
    "        sum_range_total += i \n",
    "    # return the sum\n",
    "    return sum_range_total\n",
    "\n",
    "sum = sum_range(3, 9)\n",
    "print(sum)\n"
   ]
  },
  {
   "cell_type": "code",
   "execution_count": null,
   "id": "0204d42e",
   "metadata": {},
   "outputs": [
    {
     "name": "stdout",
     "output_type": "stream",
     "text": [
      "-2\n",
      "-5\n",
      "None\n"
     ]
    }
   ],
   "source": [
    "# Problem 15: Negative Numbers \n",
    "\n",
    "# a function that takes a list and returns negative numbers if any and None if there isn't any\n",
    "def print_negatives(lst):\n",
    "    # negative is false, will be true if found\n",
    "    negative = False \n",
    "    # iterating through the list\n",
    "    for i in lst: \n",
    "        # if i is less than 1 \n",
    "        if i < 1: \n",
    "            # print i\n",
    "            print(i)\n",
    "            # negative is True\n",
    "            negative = True \n",
    "    # if not negative in list, then print None\n",
    "    if not negative: \n",
    "        print(None)\n",
    "\n",
    "print_negatives([3,-2,2,1,-5])\n",
    "print_negatives([1,2,3,4,5])"
   ]
  }
 ],
 "metadata": {
  "kernelspec": {
   "display_name": ".venv",
   "language": "python",
   "name": "python3"
  },
  "language_info": {
   "codemirror_mode": {
    "name": "ipython",
    "version": 3
   },
   "file_extension": ".py",
   "mimetype": "text/x-python",
   "name": "python",
   "nbconvert_exporter": "python",
   "pygments_lexer": "ipython3",
   "version": "3.13.4"
  }
 },
 "nbformat": 4,
 "nbformat_minor": 5
}
