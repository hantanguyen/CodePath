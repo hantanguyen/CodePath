{
 "cells": [
  {
   "cell_type": "markdown",
   "id": "3c6cc8c8",
   "metadata": {},
   "source": [
    "Session 1: Problem Set Version 1"
   ]
  },
  {
   "cell_type": "code",
   "execution_count": 1,
   "id": "f4e74e1f",
   "metadata": {},
   "outputs": [
    {
     "name": "stdout",
     "output_type": "stream",
     "text": [
      "Hello world!\n"
     ]
    }
   ],
   "source": [
    "# Problem 1: Hello World! \n",
    "\n",
    "def hello_world(): \n",
    "    print(\"Hello world!\")\n",
    "hello_world()"
   ]
  },
  {
   "cell_type": "code",
   "execution_count": 2,
   "id": "d8d715c1",
   "metadata": {},
   "outputs": [
    {
     "name": "stdout",
     "output_type": "stream",
     "text": [
      "Today's mood: :|\n"
     ]
    }
   ],
   "source": [
    "# Problem 2: Today's Mood \n",
    "\n",
    "def todays_mood(): \n",
    "    mood = \":|\"\n",
    "    print(\"Today's mood: \" + mood)\n",
    "todays_mood()"
   ]
  },
  {
   "cell_type": "code",
   "execution_count": 4,
   "id": "df8f2e0b",
   "metadata": {},
   "outputs": [
    {
     "name": "stdout",
     "output_type": "stream",
     "text": [
      "Lunch today is: 🍕\n"
     ]
    }
   ],
   "source": [
    "# Problem 3: Lunch Menu\n",
    "\n",
    "def print_menu(menu): \n",
    "    print(\"Lunch today is: \" + menu)\n",
    "print_menu(\"🍕\")"
   ]
  },
  {
   "cell_type": "code",
   "execution_count": 7,
   "id": "ede16288",
   "metadata": {},
   "outputs": [
    {
     "data": {
      "text/plain": [
       "56"
      ]
     },
     "execution_count": 7,
     "metadata": {},
     "output_type": "execute_result"
    }
   ],
   "source": [
    "# Problem 4: Sum of Two Integers \n",
    "\n",
    "def sum(a, b): \n",
    "    return(a + b) * 2\n",
    "sum(20, 8)"
   ]
  },
  {
   "cell_type": "code",
   "execution_count": 8,
   "id": "8830cf83",
   "metadata": {},
   "outputs": [
    {
     "data": {
      "text/plain": [
       "154"
      ]
     },
     "execution_count": 8,
     "metadata": {},
     "output_type": "execute_result"
    }
   ],
   "source": [
    "# Problem 5: Product of Two Integers\n",
    "\n",
    "def product(a, b): \n",
    "    return(a * b)\n",
    "product(22, 7)"
   ]
  },
  {
   "cell_type": "code",
   "execution_count": 12,
   "id": "ed462c58",
   "metadata": {},
   "outputs": [
    {
     "name": "stdout",
     "output_type": "stream",
     "text": [
      "adult\n",
      "child\n",
      "adult\n"
     ]
    }
   ],
   "source": [
    "# Problem 6: Classify Age\n",
    "\n",
    "def classify_age(age): \n",
    "    if age < 18: \n",
    "        return(\"child\")\n",
    "    else: \n",
    "        return(\"adult\")\n",
    "    \n",
    "# output = classify_age(18)\n",
    "# print(output)\n",
    "# output = classify_age(7)\n",
    "# print(output)\n",
    "# output = classify_age(50)\n",
    "# print(output)\n",
    "\n",
    "print(classify_age(18))\n",
    "print(classify_age(7))\n",
    "print(classify_age(50))"
   ]
  },
  {
   "cell_type": "code",
   "execution_count": 16,
   "id": "c006b298",
   "metadata": {},
   "outputs": [
    {
     "name": "stdout",
     "output_type": "stream",
     "text": [
      "taco time 🌮\n",
      "nap time 😴\n",
      "peanut butter jelly time 🥪\n"
     ]
    }
   ],
   "source": [
    "# Problem 7: What time is it? \n",
    "\n",
    "def what_time_is_it(hour): \n",
    "    if hour == 2: \n",
    "        return(\"taco time 🌮\")\n",
    "    elif hour == 12: \n",
    "        return(\"peanut butter jelly time 🥪\")\n",
    "    else: \n",
    "        return(\"nap time 😴\")\n",
    "\n",
    "# time = what_time_is_it(2)\n",
    "# print(time)\n",
    "# time = what_time_is_it(7)\n",
    "# print(time)\n",
    "# time = what_time_is_it(12)\n",
    "# print(time)\n",
    "\n",
    "print(what_time_is_it(2))\n",
    "print(what_time_is_it(7))\n",
    "print(what_time_is_it(12))"
   ]
  },
  {
   "cell_type": "code",
   "execution_count": 14,
   "id": "e4b0e50e",
   "metadata": {},
   "outputs": [
    {
     "name": "stdout",
     "output_type": "stream",
     "text": [
      "Bust!\n",
      "Nice hand!\n",
      "Blackjack!\n",
      "Hit Me!\n"
     ]
    }
   ],
   "source": [
    "# Problem 8: Blackjack\n",
    "\n",
    "def blackjack(score): \n",
    "    if score < 17: \n",
    "        print(\"Hit Me!\")\n",
    "    elif score >= 17 and score < 21: \n",
    "        print(\"Nice hand!\")\n",
    "    elif score > 21: \n",
    "        print(\"Bust!\")\n",
    "    else:  \n",
    "        print(\"Blackjack!\")\n",
    "\n",
    "blackjack(24)\n",
    "blackjack(19)\n",
    "blackjack(21)\n",
    "blackjack(10)"
   ]
  },
  {
   "cell_type": "code",
   "execution_count": 18,
   "id": "ad1a1987",
   "metadata": {},
   "outputs": [
    {
     "data": {
      "text/plain": [
       "3"
      ]
     },
     "execution_count": 18,
     "metadata": {},
     "output_type": "execute_result"
    }
   ],
   "source": [
    "# Problem 9: First Item \n",
    "\n",
    "def get_first(lst): \n",
    "    return lst[0]\n",
    "\n",
    "lst = [3, 1, 6, 7, 5]\n",
    "get_first(lst)"
   ]
  },
  {
   "cell_type": "code",
   "execution_count": null,
   "id": "b7568c6e",
   "metadata": {},
   "outputs": [
    {
     "data": {
      "text/plain": [
       "5"
      ]
     },
     "execution_count": 20,
     "metadata": {},
     "output_type": "execute_result"
    }
   ],
   "source": [
    "# Problem 10: Last Item \n",
    "\n",
    "def get_last(lst): \n",
    "    # return lst[4] is correct, just don't want to hardcode\n",
    "    return lst[-1]\n",
    "lst = [3, 1, 6, 7, 5]\n",
    "get_last(lst)"
   ]
  },
  {
   "cell_type": "code",
   "execution_count": null,
   "id": "8d6939bc",
   "metadata": {},
   "outputs": [
    {
     "name": "stdout",
     "output_type": "stream",
     "text": [
      "1\n",
      "2\n",
      "3\n",
      "4\n",
      "5\n",
      "6\n",
      "7\n"
     ]
    }
   ],
   "source": [
    "# Problem 11: Counter\n",
    "\n",
    "def counter(stop):\n",
    "    # for loop repeats until all numbers are printed in the parameter\n",
    "    for i in range(1, stop + 1): \n",
    "        print(i)\n",
    "counter(7)"
   ]
  },
  {
   "cell_type": "code",
   "execution_count": null,
   "id": "d376df3b",
   "metadata": {},
   "outputs": [
    {
     "data": {
      "text/plain": [
       "55"
      ]
     },
     "execution_count": 31,
     "metadata": {},
     "output_type": "execute_result"
    }
   ],
   "source": [
    "# Problem 12: Sum of 1 to 10 \n",
    "\n",
    "# sum_ten takes a parameter, which is sum\n",
    "def sum_ten(sum): \n",
    "    # the accumulator variable is 0, and is added to for the range \n",
    "    sum = 0 \n",
    "    # for loop to iterate through the range\n",
    "    for i in range(1, 11): \n",
    "        # incrementing the sum by i (add i to sum)\n",
    "        sum += i \n",
    "    # return the total sum\n",
    "    return sum\n",
    "# call the function with the parameter\n",
    "sum_ten(10)"
   ]
  },
  {
   "cell_type": "code",
   "execution_count": null,
   "id": "b3babaf1",
   "metadata": {},
   "outputs": [
    {
     "data": {
      "text/plain": [
       "21"
      ]
     },
     "execution_count": 33,
     "metadata": {},
     "output_type": "execute_result"
    }
   ],
   "source": [
    "# Problem 13: Total Sum\n",
    "\n",
    "def sum_positive_range(stop):\n",
    "    # Total sum is currently 0\n",
    "    total_sum = 0\n",
    "    # iterating through the range of values \n",
    "    for i in range(1, stop + 1): \n",
    "        # incrementing the total_sum by i (add i to total_sum)\n",
    "        total_sum += i \n",
    "    # total_sum is returned\n",
    "    return total_sum\n",
    "# call the function with the parameter\n",
    "sum_positive_range(6)"
   ]
  },
  {
   "cell_type": "code",
   "execution_count": null,
   "id": "43dd405d",
   "metadata": {},
   "outputs": [
    {
     "data": {
      "text/plain": [
       "42"
      ]
     },
     "execution_count": 34,
     "metadata": {},
     "output_type": "execute_result"
    }
   ],
   "source": [
    "# Problem 14: Total Sum in Range\n",
    "\n",
    "def sum_range(start, stop): \n",
    "    # total starts at 0 \n",
    "    total = 0 \n",
    "    # for loop to iterate through the range, and is inclusive so add 1 \n",
    "    for i in range(start, stop + 1): \n",
    "        # add i to total and is incremented \n",
    "        total += i \n",
    "    # total is returned\n",
    "    return total\n",
    "# call function with parameters\n",
    "sum_range(3, 9)"
   ]
  },
  {
   "cell_type": "code",
   "execution_count": 37,
   "id": "54ba3efa",
   "metadata": {},
   "outputs": [
    {
     "name": "stdout",
     "output_type": "stream",
     "text": [
      "-2\n",
      "-5\n"
     ]
    }
   ],
   "source": [
    "# Problem 15: Negative Numbers \n",
    "\n",
    "def print_negatives(lst):\n",
    "    # iterate through each item in the list\n",
    "    for item in lst:\n",
    "        # if item is less than 0(negative), print item\n",
    "        if item < 0: \n",
    "            # print item\n",
    "            print(item)\n",
    "\n",
    "print_negatives([3,-2,2,1,-5])\n",
    "print_negatives([1,2,3,4,5])"
   ]
  },
  {
   "cell_type": "markdown",
   "id": "fd89a196",
   "metadata": {},
   "source": [
    "Session 1: Problem Set Version 2"
   ]
  },
  {
   "cell_type": "code",
   "execution_count": 38,
   "id": "6544f9cd",
   "metadata": {},
   "outputs": [
    {
     "data": {
      "text/plain": [
       "'Hello Hori'"
      ]
     },
     "execution_count": 38,
     "metadata": {},
     "output_type": "execute_result"
    }
   ],
   "source": [
    "# Problem 1: Hello User! \n",
    "\n",
    "def greet_user(name): \n",
    "    return(\"Hello \"+ name)\n",
    "greet_user(\"Hori\")"
   ]
  },
  {
   "cell_type": "code",
   "execution_count": 39,
   "id": "0a6d72b0",
   "metadata": {},
   "outputs": [
    {
     "data": {
      "text/plain": [
       "5"
      ]
     },
     "execution_count": 39,
     "metadata": {},
     "output_type": "execute_result"
    }
   ],
   "source": [
    "# Problem 2: Calculate Difference \n",
    "\n",
    "def difference(a, b): \n",
    "    return abs(a - b)\n",
    "difference(3,8)"
   ]
  },
  {
   "cell_type": "code",
   "execution_count": null,
   "id": "90727398",
   "metadata": {},
   "outputs": [
    {
     "data": {
      "text/plain": [
       "[1, 2, 3, 4, 1, 2, 3, 4]"
      ]
     },
     "execution_count": 44,
     "metadata": {},
     "output_type": "execute_result"
    }
   ],
   "source": [
    "# Problem 3: List Concatenation \n",
    "\n",
    "def concatenate_list(nums):\n",
    "    # new list for the combined lists\n",
    "    new_list = []\n",
    "    # iterating through each element in the list \n",
    "    for num in nums: \n",
    "        # the item is appended to the new list \n",
    "        new_list.append(num)\n",
    "    # same process is repeated for the second list \n",
    "    for num in nums: \n",
    "        new_list.append(num)\n",
    "    # Final list is returned\n",
    "    return new_list\n",
    "\n",
    "num = [1,2,3,4]\n",
    "concatenate_list(num)"
   ]
  },
  {
   "cell_type": "code",
   "execution_count": null,
   "id": "a8a9dced",
   "metadata": {},
   "outputs": [
    {
     "data": {
      "text/plain": [
       "[1, 2, 3, 4, 1, 2, 3, 4]"
      ]
     },
     "execution_count": 46,
     "metadata": {},
     "output_type": "execute_result"
    }
   ],
   "source": [
    "# Problem 3b: List Concatenation \n",
    "\n",
    "def concatenate_list(nums):\n",
    "    # concatenates the list with itself and is returned \n",
    "    return nums + nums\n",
    "\n",
    "nums = [1,2,3,4]\n",
    "concatenate_list(nums)"
   ]
  },
  {
   "cell_type": "code",
   "execution_count": 47,
   "id": "edcb1d9f",
   "metadata": {},
   "outputs": [
    {
     "name": "stdout",
     "output_type": "stream",
     "text": [
      "You got a good night's rest!\n",
      "Oof, go back to bed!\n",
      "You're a sleep prodigy!\n",
      "You got a good night's rest!\n"
     ]
    }
   ],
   "source": [
    "# Problem 4: Sleep Assessment\n",
    "\n",
    "def sleep_assessment(hours): \n",
    "    if hours < 8: \n",
    "        print(\"Oof, go back to bed!\")\n",
    "    elif hours >= 8 and hours <= 10:\n",
    "        print(\"You got a good night's rest!\")\n",
    "    else: \n",
    "        print(\"You're a sleep prodigy!\")\n",
    "\n",
    "sleep_assessment(10)\n",
    "sleep_assessment(4)\n",
    "sleep_assessment(12)\n",
    "sleep_assessment(9)\n"
   ]
  },
  {
   "cell_type": "code",
   "execution_count": 48,
   "id": "2a5505b7",
   "metadata": {},
   "outputs": [
    {
     "name": "stdout",
     "output_type": "stream",
     "text": [
      "6.6795\n",
      "4.453\n",
      "8.906\n"
     ]
    }
   ],
   "source": [
    "# Problem 5: Calculate Tip \n",
    "\n",
    "def calculate_tip(bill, service_quality):\n",
    "    if service_quality == \"poor\": \n",
    "        return(bill * 0.10)\n",
    "    elif service_quality == \"average\": \n",
    "        return(bill * 0.15)\n",
    "    elif service_quality == \"excellent\": \n",
    "        return(bill * 0.20)\n",
    "    else: \n",
    "        return None\n",
    "    \n",
    "tip1 = calculate_tip(44.53, \"average\")\n",
    "print(tip1)\n",
    "tip2 = calculate_tip(44.53, \"poor\")\n",
    "print(tip2)\n",
    "tip3 = calculate_tip(44.53, \"excellent\")\n",
    "print(tip3)"
   ]
  },
  {
   "cell_type": "code",
   "execution_count": null,
   "id": "25e8afcc",
   "metadata": {},
   "outputs": [
    {
     "name": "stdout",
     "output_type": "stream",
     "text": [
      "It's a tie!\n",
      "Player 2 wins!\n",
      "Player 1 wins\n",
      "Player 2 wins!\n",
      "Player 1 wins\n"
     ]
    }
   ],
   "source": [
    "# Problem 6: Rock, Paper, Scissors \n",
    "\n",
    "def rock_paper_scissors(player1, player2): \n",
    "    # if player1 and player2 have the same value, its a tie \n",
    "    if player1 == player2:\n",
    "        print(\"It's a tie!\")\n",
    "    # Rock wins against scissors\n",
    "    elif player1 == \"rock\" and player2 == \"scissors\":\n",
    "        print(\"Player 1 wins\")\n",
    "    # Scissors wins against paper\n",
    "    elif player1 == \"scissors\" and player2 == \"paper\": \n",
    "        print(\"Player 1 wins\")\n",
    "    # Paper wins against rock\n",
    "    elif player1 == \"paper\" and player2 == \"rock\": \n",
    "        print(\"Player 1 wins\")\n",
    "    # If none of the conditions are met, then player2 wins\n",
    "    else: \n",
    "        print(\"Player 2 wins!\")\n",
    "\n",
    "rock_paper_scissors(\"rock\", \"rock\")\n",
    "rock_paper_scissors(\"scissors\", \"rock\")\n",
    "rock_paper_scissors(\"scissors\", \"paper\")\n",
    "rock_paper_scissors(\"rock\", \"paper\")\n",
    "rock_paper_scissors(\"paper\", \"rock\")"
   ]
  },
  {
   "cell_type": "code",
   "execution_count": null,
   "id": "fdc652c3",
   "metadata": {},
   "outputs": [
    {
     "data": {
      "text/plain": [
       "[1.0, 2.0, 3.0, 4.0]"
      ]
     },
     "execution_count": 52,
     "metadata": {},
     "output_type": "execute_result"
    }
   ],
   "source": [
    "# Problem 7: Unscramble and Divide \n",
    "\n",
    "def halve_lst(lst):\n",
    "    # result is stored in list \n",
    "    result = []\n",
    "    # iterating through each item in list\n",
    "    for number in lst:\n",
    "        # halved is the number that is the number divided by 2\n",
    "        halved = number/2\n",
    "        # result is appended to the result list\n",
    "        result.append(halved)\n",
    "    # result is returned\n",
    "    return result\n",
    "# function is called with parameters\n",
    "halve_lst([2,4,6,8])"
   ]
  },
  {
   "cell_type": "code",
   "execution_count": null,
   "id": "409903c0",
   "metadata": {},
   "outputs": [
    {
     "name": "stdout",
     "output_type": "stream",
     "text": [
      "[13, 11, 14]\n"
     ]
    }
   ],
   "source": [
    "# Problem 8: Above the Threshold \n",
    "\n",
    "def above_threshold(lst, threshold):\n",
    "    # new list \n",
    "    new_lst = []\n",
    "    # iterating through the lst \n",
    "    for i in lst: \n",
    "        # if element in the list is greater than the threshold \n",
    "        if i > threshold:\n",
    "            # append the element to new_list \n",
    "            new_lst.append(i)\n",
    "    # new_lst is returned\n",
    "    return new_lst\n",
    "        \n",
    "lst = [8,2,13,11,4,10,14]\n",
    "# parameters are the lst and if its greater than 10\n",
    "new_lst = above_threshold(lst, 10)\n",
    "print(new_lst)"
   ]
  },
  {
   "cell_type": "code",
   "execution_count": null,
   "id": "9afa312b",
   "metadata": {},
   "outputs": [
    {
     "name": "stdout",
     "output_type": "stream",
     "text": [
      "5\n",
      "4\n",
      "3\n",
      "2\n",
      "1\n"
     ]
    }
   ],
   "source": [
    "# Problem 9: Countdown\n",
    "\n",
    "# countdown takes 2 parameters, m is starting and n is ending\n",
    "def countdown(m, n):\n",
    "    # a loop that starts at m, stops at n-1, and is decremented by 1 \n",
    "    # it's a start, stop, and step value \n",
    "    for i in range(m, n - 1, -1):\n",
    "        # prints current value \n",
    "        print(i)\n",
    "# function is called with the parameters\n",
    "countdown(5, 1)"
   ]
  },
  {
   "cell_type": "code",
   "execution_count": null,
   "id": "0e4122de",
   "metadata": {},
   "outputs": [
    {
     "name": "stdout",
     "output_type": "stream",
     "text": [
      "32\n",
      "27\n"
     ]
    }
   ],
   "source": [
    "# Problem 10: Calculate Power\n",
    "\n",
    "def power(base, exponent):\n",
    "    # the ** operator is the \"to the power of\"\n",
    "    return(base ** exponent)\n",
    "\n",
    "pow1 = power(2,5)\n",
    "print(pow1)\n",
    "pow2 = power(3,3)\n",
    "print(pow2)"
   ]
  },
  {
   "cell_type": "code",
   "execution_count": null,
   "id": "b58b1186",
   "metadata": {},
   "outputs": [
    {
     "name": "stdout",
     "output_type": "stream",
     "text": [
      "5\n"
     ]
    }
   ],
   "source": [
    "# Problem 11: Length of List \n",
    "\n",
    "def list_length(lst): \n",
    "    # built in function for python len() to return the length of list \n",
    "    return(len(lst))\n",
    "lst = [2,4,6,8,10]\n",
    "length = list_length(lst)\n",
    "print(length)"
   ]
  },
  {
   "cell_type": "code",
   "execution_count": null,
   "id": "e6b64bf9",
   "metadata": {},
   "outputs": [
    {
     "name": "stdout",
     "output_type": "stream",
     "text": [
      "6\n"
     ]
    }
   ],
   "source": [
    "# Problem 12: Calculate Factorial\n",
    "\n",
    "def factorial(n):\n",
    "    # result needs to be 1, not 0\n",
    "    result = 1\n",
    "    # iterating through the integers, inclusive\n",
    "    for i in range(1, n + 1): \n",
    "        # is result = result * i, current value is multiplied (result) by i and is stored in result\n",
    "        result *= i\n",
    "    # result is returned \n",
    "    return result\n",
    "# function is called with parameter and is printed\n",
    "print(factorial(3))"
   ]
  },
  {
   "cell_type": "code",
   "execution_count": null,
   "id": "f096b4fc",
   "metadata": {},
   "outputs": [
    {
     "name": "stdout",
     "output_type": "stream",
     "text": [
      "[1, 4, 9, 16]\n"
     ]
    }
   ],
   "source": [
    "# Problem 13: Calculate the Squares \n",
    "\n",
    "def squares(nums): \n",
    "    # empty list \n",
    "    square_list = []\n",
    "    # iterating through the elements in the list\n",
    "    for i in nums: \n",
    "        # appending elements to the new list when they are squared \n",
    "        square_list.append(i * i)\n",
    "    # square_list is returned\n",
    "    return square_list\n",
    "\n",
    "nums = [1,2,3,4]\n",
    "print(squares(nums))"
   ]
  },
  {
   "cell_type": "code",
   "execution_count": null,
   "id": "0d3d82a0",
   "metadata": {},
   "outputs": [
    {
     "name": "stdout",
     "output_type": "stream",
     "text": [
      "[3, 6, 9]\n"
     ]
    }
   ],
   "source": [
    "# Problem 14: Multiply List\n",
    "\n",
    "def multiply_list(lst, multiplier): \n",
    "    # empty list \n",
    "    multiplied = []\n",
    "    # iterating through the items in list\n",
    "    for i in lst: \n",
    "        # adding to the empty list by appending i times the multiplier \n",
    "        multiplied.append(i * multiplier)\n",
    "    # returning the list \n",
    "    return multiplied\n",
    "\n",
    "lst = [1,2,3]\n",
    "new_lst = multiply_list(lst, 3)\n",
    "print(new_lst)"
   ]
  },
  {
   "cell_type": "code",
   "execution_count": null,
   "id": "68f7e207",
   "metadata": {},
   "outputs": [
    {
     "name": "stdout",
     "output_type": "stream",
     "text": [
      "0\n",
      "4\n"
     ]
    }
   ],
   "source": [
    "# Problem 15: Count Evens\n",
    "\n",
    "def count_evens(lst):\n",
    "    # count of evens is 0\n",
    "    count = 0 \n",
    "    # iterating through the list\n",
    "    for i in lst: \n",
    "       # when dividing and the remainder is 0\n",
    "       if  i % 2 == 0: \n",
    "            # increment the count by 1 since its even\n",
    "            count += 1\n",
    "    # return the count\n",
    "    return count\n",
    "\n",
    "lst1 = [1,5,7,9]\n",
    "count1 = count_evens(lst1)\n",
    "print(count1)\n",
    "\n",
    "lst2 = [2,4,6,8]\n",
    "count2 = count_evens(lst2)\n",
    "print(count2)\n"
   ]
  }
 ],
 "metadata": {
  "kernelspec": {
   "display_name": ".venv",
   "language": "python",
   "name": "python3"
  },
  "language_info": {
   "codemirror_mode": {
    "name": "ipython",
    "version": 3
   },
   "file_extension": ".py",
   "mimetype": "text/x-python",
   "name": "python",
   "nbconvert_exporter": "python",
   "pygments_lexer": "ipython3",
   "version": "3.13.4"
  }
 },
 "nbformat": 4,
 "nbformat_minor": 5
}
