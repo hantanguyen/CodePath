{
 "cells": [
  {
   "cell_type": "markdown",
   "id": "3c6cc8c8",
   "metadata": {},
   "source": [
    "Session 1: Problem Set Version 1"
   ]
  },
  {
   "cell_type": "code",
   "execution_count": null,
   "id": "0c8cadb7",
   "metadata": {},
   "outputs": [
    {
     "name": "stdout",
     "output_type": "stream",
     "text": [
      "Hello world!\n"
     ]
    },
    {
     "ename": "",
     "evalue": "",
     "output_type": "error",
     "traceback": [
      "\u001b[1;31mThe Kernel crashed while executing code in the current cell or a previous cell. \n",
      "\u001b[1;31mPlease review the code in the cell(s) to identify a possible cause of the failure. \n",
      "\u001b[1;31mClick <a href='https://aka.ms/vscodeJupyterKernelCrash'>here</a> for more info. \n",
      "\u001b[1;31mView Jupyter <a href='command:jupyter.viewOutput'>log</a> for further details."
     ]
    }
   ],
   "source": [
    "# Problem 1 \n",
    "def hello_world():\n",
    "    print(\"Hello world!\")\n",
    "\n",
    "hello_world()"
   ]
  },
  {
   "cell_type": "code",
   "execution_count": 2,
   "id": "fcedd47e",
   "metadata": {},
   "outputs": [
    {
     "name": "stdout",
     "output_type": "stream",
     "text": [
      "Today's mood: :|\n"
     ]
    }
   ],
   "source": [
    "# Problem 2 \n",
    "def todays_mood():\n",
    "    mood = \":|\"\n",
    "    print(\"Today's mood: \" + mood)\n",
    "\n",
    "todays_mood()"
   ]
  },
  {
   "cell_type": "code",
   "execution_count": 3,
   "id": "be1fe3f4",
   "metadata": {},
   "outputs": [
    {
     "name": "stdout",
     "output_type": "stream",
     "text": [
      "Lunch today is: Hamburgers\n"
     ]
    }
   ],
   "source": [
    "# Problem 3 \n",
    "def print_menu(menu):\n",
    "    print(\"Lunch today is: \" + menu)\n",
    "\n",
    "print_menu(\"Hamburgers\")"
   ]
  },
  {
   "cell_type": "code",
   "execution_count": 4,
   "id": "03c9da4f",
   "metadata": {},
   "outputs": [
    {
     "data": {
      "text/plain": [
       "56"
      ]
     },
     "execution_count": 4,
     "metadata": {},
     "output_type": "execute_result"
    }
   ],
   "source": [
    "# Problem 4 \n",
    "def sum(a, b): \n",
    "    return (a + b ) * 2\n",
    "sum(20, 8)"
   ]
  },
  {
   "cell_type": "code",
   "execution_count": 5,
   "id": "9839758c",
   "metadata": {},
   "outputs": [
    {
     "data": {
      "text/plain": [
       "154"
      ]
     },
     "execution_count": 5,
     "metadata": {},
     "output_type": "execute_result"
    }
   ],
   "source": [
    "# Problem 5 \n",
    "def product(a, b): \n",
    "    return(a * b)\n",
    "product(22, 7)"
   ]
  },
  {
   "cell_type": "code",
   "execution_count": 6,
   "id": "1d8f6b2b",
   "metadata": {},
   "outputs": [
    {
     "name": "stdout",
     "output_type": "stream",
     "text": [
      "adult\n",
      "child\n",
      "adult\n"
     ]
    }
   ],
   "source": [
    "# Problem 6 \n",
    "def classify_age(age): \n",
    "    if age < 18: \n",
    "        return(\"child\")\n",
    "    else: \n",
    "        return(\"adult\")\n",
    "    \n",
    "print(classify_age(18))\n",
    "print(classify_age(7))\n",
    "print(classify_age(50))"
   ]
  },
  {
   "cell_type": "code",
   "execution_count": 7,
   "id": "bac74d38",
   "metadata": {},
   "outputs": [
    {
     "name": "stdout",
     "output_type": "stream",
     "text": [
      "taco time 🌮\n",
      "nap time 😴\n",
      "peanut butter jelly time 🥪\n"
     ]
    }
   ],
   "source": [
    "# Problem 7 \n",
    "def what_time_is_it(hour):\n",
    "    if hour == 2: \n",
    "        return(\"taco time 🌮\")\n",
    "    elif hour == 12: \n",
    "        return(\"peanut butter jelly time 🥪\")\n",
    "    else: \n",
    "        return(\"nap time 😴\")\n",
    "    \n",
    "print(what_time_is_it(2))\n",
    "print(what_time_is_it(7))\n",
    "print(what_time_is_it(12))"
   ]
  },
  {
   "cell_type": "code",
   "execution_count": 8,
   "id": "ab127490",
   "metadata": {},
   "outputs": [
    {
     "name": "stdout",
     "output_type": "stream",
     "text": [
      "Bust!\n",
      "Nice Hand!\n",
      "Blackjack!\n",
      "Hit me!\n"
     ]
    }
   ],
   "source": [
    "# Problem 8 \n",
    "def blackjack(score): \n",
    "    if score < 17: \n",
    "        return(\"Hit me!\")\n",
    "    elif score >= 17 and score < 21:\n",
    "        return(\"Nice Hand!\")\n",
    "    elif score > 21: \n",
    "        return(\"Bust!\")\n",
    "    else: \n",
    "        return(\"Blackjack!\")\n",
    "\n",
    "print(blackjack(24))\n",
    "print(blackjack(19))\n",
    "print(blackjack(21))\n",
    "print(blackjack(10))"
   ]
  },
  {
   "cell_type": "code",
   "execution_count": 9,
   "id": "acc6f119",
   "metadata": {},
   "outputs": [
    {
     "name": "stdout",
     "output_type": "stream",
     "text": [
      "3\n"
     ]
    }
   ],
   "source": [
    "# Problem 9 \n",
    "def get_first(lst):\n",
    "    if lst: \n",
    "        print(lst[0])\n",
    "    else: \n",
    "        return None\n",
    "get_first([3, 1, 6, 7, 5])"
   ]
  },
  {
   "cell_type": "code",
   "execution_count": 10,
   "id": "aa8f6c9d",
   "metadata": {},
   "outputs": [
    {
     "name": "stdout",
     "output_type": "stream",
     "text": [
      "5\n"
     ]
    }
   ],
   "source": [
    "# Problem 10 \n",
    "def get_last(lst):\n",
    "    if lst: \n",
    "        print(lst[4])\n",
    "    else: \n",
    "        return None\n",
    "get_last([3, 1, 6, 7, 5])"
   ]
  },
  {
   "cell_type": "code",
   "execution_count": 11,
   "id": "52e6a8c8",
   "metadata": {},
   "outputs": [
    {
     "name": "stdout",
     "output_type": "stream",
     "text": [
      "1\n",
      "2\n",
      "3\n",
      "4\n",
      "5\n",
      "6\n",
      "7\n"
     ]
    }
   ],
   "source": [
    "# Problem 11 \n",
    "def counter(stop): \n",
    "    # stop + 1 since the stop value is inclusive (up to and including)\n",
    "    for i in range(1, stop + 1): \n",
    "        print(i)\n",
    "counter(7)"
   ]
  },
  {
   "cell_type": "code",
   "execution_count": 12,
   "id": "74443ab9",
   "metadata": {},
   "outputs": [
    {
     "name": "stdout",
     "output_type": "stream",
     "text": [
      "55\n"
     ]
    }
   ],
   "source": [
    "# Problem 12 \n",
    "def sum_ten(): \n",
    "    # total keeps track of the total sum, starting at 0\n",
    "    total = 0\n",
    "    # range foes from 1 to 10 (stops at 11)\n",
    "    for i in range(1, 11): \n",
    "        # total is added for current number, i \n",
    "        total += i \n",
    "    # total is returned \n",
    "    return total \n",
    "# function is called, and stored in output\n",
    "output = sum_ten()\n",
    "# output is printed \n",
    "print(output)"
   ]
  },
  {
   "cell_type": "code",
   "execution_count": 13,
   "id": "330bb27d",
   "metadata": {},
   "outputs": [
    {
     "name": "stdout",
     "output_type": "stream",
     "text": [
      "21\n"
     ]
    }
   ],
   "source": [
    "# Problem 13\n",
    "def sum_positive_range(stop):\n",
    "    # sum is 0 \n",
    "    sum = 0\n",
    "    # looping through 1 to whatever number (inclusive)\n",
    "    for i in range(1, stop + 1): \n",
    "        # sum plus the index of where it is \n",
    "        sum += i\n",
    "        # sum is returned after iterating through all numbers\n",
    "    return sum\n",
    "# function called with a parameter of 6, stored in sum\n",
    "sum = sum_positive_range(6)\n",
    "# sum is printed \n",
    "print(sum)"
   ]
  },
  {
   "cell_type": "code",
   "execution_count": 14,
   "id": "0b811797",
   "metadata": {},
   "outputs": [
    {
     "name": "stdout",
     "output_type": "stream",
     "text": [
      "42\n"
     ]
    }
   ],
   "source": [
    "# Problem 14\n",
    "def sum_range(start, stop):\n",
    "    # sum starts at 0\n",
    "    sum = 0\n",
    "    # iterating through a range of where it starts, and making it inclusive\n",
    "    for i in range(start, stop + 1): \n",
    "        # adding to sum with each iteration\n",
    "        sum += i \n",
    "    # sum is returned\n",
    "    return sum \n",
    "# function is called, with the parameters of 3 and 9\n",
    "sum = sum_range(3, 9)\n",
    "# print sum\n",
    "print(sum)"
   ]
  },
  {
   "cell_type": "code",
   "execution_count": 15,
   "id": "e97b4186",
   "metadata": {},
   "outputs": [
    {
     "name": "stdout",
     "output_type": "stream",
     "text": [
      "-2\n",
      "-5\n"
     ]
    }
   ],
   "source": [
    "# Problem 15\n",
    "def print_negatives(lst):\n",
    "    # New variable which is set to false to see if we find any negative numbers\n",
    "    found_negative = False \n",
    "    # going through each item in a list, calling each item num\n",
    "    for num in lst: \n",
    "        # if num is less than 0\n",
    "        if num < 0: \n",
    "            # number is printed \n",
    "            print(num)\n",
    "            # found negative variable is changed to true\n",
    "            found_negative = True\n",
    "    # if there isn't a negative number\n",
    "    if not found_negative: \n",
    "        # nothing is returned\n",
    "        return None\n",
    "# test cases\n",
    "print_negatives([3,-2,2,1,-5])\n",
    "print_negatives([1,2,3,4,5])"
   ]
  },
  {
   "cell_type": "markdown",
   "id": "ecfb00b1",
   "metadata": {},
   "source": [
    "Problem Set Version 2"
   ]
  },
  {
   "cell_type": "code",
   "execution_count": 1,
   "id": "27a709ac",
   "metadata": {},
   "outputs": [
    {
     "data": {
      "text/plain": [
       "'Hello Hori'"
      ]
     },
     "execution_count": 1,
     "metadata": {},
     "output_type": "execute_result"
    }
   ],
   "source": [
    "# Problem 1 \n",
    "def greet_user(name): \n",
    "    return(f\"Hello {name}\")\n",
    "greet_user(\"Hori\")"
   ]
  },
  {
   "cell_type": "code",
   "execution_count": 4,
   "id": "bb420177",
   "metadata": {},
   "outputs": [
    {
     "name": "stdout",
     "output_type": "stream",
     "text": [
      "5\n"
     ]
    }
   ],
   "source": [
    "# Problem 2 \n",
    "def difference(a, b): \n",
    "    return abs(a - b)\n",
    "diff = difference(3, 8)\n",
    "print(diff)"
   ]
  },
  {
   "cell_type": "code",
   "execution_count": null,
   "id": "6b07a090",
   "metadata": {},
   "outputs": [
    {
     "name": "stdout",
     "output_type": "stream",
     "text": [
      "[1, 2, 3, 4, 1, 2, 3, 4]\n"
     ]
    }
   ],
   "source": [
    "# Problem 3 \n",
    "def concatenate_list(nums):\n",
    "        # creates a new list by adding the current list to itself \n",
    "        return nums + nums\n",
    "# function is called, with the input\n",
    "result = concatenate_list([1,2,3,4])\n",
    "# print\n",
    "print(result)"
   ]
  }
 ],
 "metadata": {
  "kernelspec": {
   "display_name": ".venv",
   "language": "python",
   "name": "python3"
  },
  "language_info": {
   "codemirror_mode": {
    "name": "ipython",
    "version": 3
   },
   "file_extension": ".py",
   "mimetype": "text/x-python",
   "name": "python",
   "nbconvert_exporter": "python",
   "pygments_lexer": "ipython3",
   "version": "3.13.4"
  }
 },
 "nbformat": 4,
 "nbformat_minor": 5
}
