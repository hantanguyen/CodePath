{
 "cells": [
  {
   "cell_type": "markdown",
   "id": "3c6cc8c8",
   "metadata": {},
   "source": [
    "Session 1: Problem Set Version 1"
   ]
  },
  {
   "cell_type": "code",
   "execution_count": 1,
   "id": "f4e74e1f",
   "metadata": {},
   "outputs": [
    {
     "name": "stdout",
     "output_type": "stream",
     "text": [
      "Hello world!\n"
     ]
    }
   ],
   "source": [
    "# Problem 1: Hello World! \n",
    "\n",
    "def hello_world(): \n",
    "    print(\"Hello world!\")\n",
    "hello_world()"
   ]
  },
  {
   "cell_type": "code",
   "execution_count": 2,
   "id": "d8d715c1",
   "metadata": {},
   "outputs": [
    {
     "name": "stdout",
     "output_type": "stream",
     "text": [
      "Today's mood: :|\n"
     ]
    }
   ],
   "source": [
    "# Problem 2: Today's Mood \n",
    "\n",
    "def todays_mood(): \n",
    "    mood = \":|\"\n",
    "    print(\"Today's mood: \" + mood)\n",
    "todays_mood()"
   ]
  },
  {
   "cell_type": "code",
   "execution_count": 4,
   "id": "df8f2e0b",
   "metadata": {},
   "outputs": [
    {
     "name": "stdout",
     "output_type": "stream",
     "text": [
      "Lunch today is: 🍕\n"
     ]
    }
   ],
   "source": [
    "# Problem 3: Lunch Menu\n",
    "\n",
    "def print_menu(menu): \n",
    "    print(\"Lunch today is: \" + menu)\n",
    "print_menu(\"🍕\")"
   ]
  },
  {
   "cell_type": "code",
   "execution_count": 7,
   "id": "ede16288",
   "metadata": {},
   "outputs": [
    {
     "data": {
      "text/plain": [
       "56"
      ]
     },
     "execution_count": 7,
     "metadata": {},
     "output_type": "execute_result"
    }
   ],
   "source": [
    "# Problem 4: Sum of Two Integers \n",
    "\n",
    "def sum(a, b): \n",
    "    return(a + b) * 2\n",
    "sum(20, 8)"
   ]
  },
  {
   "cell_type": "code",
   "execution_count": 8,
   "id": "8830cf83",
   "metadata": {},
   "outputs": [
    {
     "data": {
      "text/plain": [
       "154"
      ]
     },
     "execution_count": 8,
     "metadata": {},
     "output_type": "execute_result"
    }
   ],
   "source": [
    "# Problem 5: Product of Two Integers\n",
    "\n",
    "def product(a, b): \n",
    "    return(a * b)\n",
    "product(22, 7)"
   ]
  },
  {
   "cell_type": "code",
   "execution_count": 12,
   "id": "ed462c58",
   "metadata": {},
   "outputs": [
    {
     "name": "stdout",
     "output_type": "stream",
     "text": [
      "adult\n",
      "child\n",
      "adult\n"
     ]
    }
   ],
   "source": [
    "# Problem 6: Classify Age\n",
    "\n",
    "def classify_age(age): \n",
    "    if age < 18: \n",
    "        return(\"child\")\n",
    "    else: \n",
    "        return(\"adult\")\n",
    "    \n",
    "# output = classify_age(18)\n",
    "# print(output)\n",
    "# output = classify_age(7)\n",
    "# print(output)\n",
    "# output = classify_age(50)\n",
    "# print(output)\n",
    "\n",
    "print(classify_age(18))\n",
    "print(classify_age(7))\n",
    "print(classify_age(50))"
   ]
  },
  {
   "cell_type": "code",
   "execution_count": 16,
   "id": "c006b298",
   "metadata": {},
   "outputs": [
    {
     "name": "stdout",
     "output_type": "stream",
     "text": [
      "taco time 🌮\n",
      "nap time 😴\n",
      "peanut butter jelly time 🥪\n"
     ]
    }
   ],
   "source": [
    "# Problem 7: What time is it? \n",
    "\n",
    "def what_time_is_it(hour): \n",
    "    if hour == 2: \n",
    "        return(\"taco time 🌮\")\n",
    "    elif hour == 12: \n",
    "        return(\"peanut butter jelly time 🥪\")\n",
    "    else: \n",
    "        return(\"nap time 😴\")\n",
    "\n",
    "# time = what_time_is_it(2)\n",
    "# print(time)\n",
    "# time = what_time_is_it(7)\n",
    "# print(time)\n",
    "# time = what_time_is_it(12)\n",
    "# print(time)\n",
    "\n",
    "print(what_time_is_it(2))\n",
    "print(what_time_is_it(7))\n",
    "print(what_time_is_it(12))"
   ]
  },
  {
   "cell_type": "code",
   "execution_count": 14,
   "id": "e4b0e50e",
   "metadata": {},
   "outputs": [
    {
     "name": "stdout",
     "output_type": "stream",
     "text": [
      "Bust!\n",
      "Nice hand!\n",
      "Blackjack!\n",
      "Hit Me!\n"
     ]
    }
   ],
   "source": [
    "# Problem 8: Blackjack\n",
    "\n",
    "def blackjack(score): \n",
    "    if score < 17: \n",
    "        print(\"Hit Me!\")\n",
    "    elif score >= 17 and score < 21: \n",
    "        print(\"Nice hand!\")\n",
    "    elif score > 21: \n",
    "        print(\"Bust!\")\n",
    "    else:  \n",
    "        print(\"Blackjack!\")\n",
    "\n",
    "blackjack(24)\n",
    "blackjack(19)\n",
    "blackjack(21)\n",
    "blackjack(10)"
   ]
  },
  {
   "cell_type": "code",
   "execution_count": 18,
   "id": "ad1a1987",
   "metadata": {},
   "outputs": [
    {
     "data": {
      "text/plain": [
       "3"
      ]
     },
     "execution_count": 18,
     "metadata": {},
     "output_type": "execute_result"
    }
   ],
   "source": [
    "# Problem 9: First Item \n",
    "\n",
    "def get_first(lst): \n",
    "    return lst[0]\n",
    "\n",
    "lst = [3, 1, 6, 7, 5]\n",
    "get_first(lst)"
   ]
  },
  {
   "cell_type": "code",
   "execution_count": null,
   "id": "b7568c6e",
   "metadata": {},
   "outputs": [
    {
     "data": {
      "text/plain": [
       "5"
      ]
     },
     "execution_count": 20,
     "metadata": {},
     "output_type": "execute_result"
    }
   ],
   "source": [
    "# Problem 10: Last Item \n",
    "\n",
    "def get_last(lst): \n",
    "    # return lst[4] is correct, just don't want to hardcode\n",
    "    return lst[-1]\n",
    "lst = [3, 1, 6, 7, 5]\n",
    "get_last(lst)"
   ]
  },
  {
   "cell_type": "code",
   "execution_count": null,
   "id": "8d6939bc",
   "metadata": {},
   "outputs": [
    {
     "name": "stdout",
     "output_type": "stream",
     "text": [
      "1\n",
      "2\n",
      "3\n",
      "4\n",
      "5\n",
      "6\n",
      "7\n"
     ]
    }
   ],
   "source": [
    "# Problem 11: Counter\n",
    "\n",
    "def counter(stop):\n",
    "    # for loop repeats until all numbers are printed in the parameter\n",
    "    for i in range(1, stop + 1): \n",
    "        print(i)\n",
    "counter(7)"
   ]
  },
  {
   "cell_type": "code",
   "execution_count": null,
   "id": "d376df3b",
   "metadata": {},
   "outputs": [
    {
     "data": {
      "text/plain": [
       "55"
      ]
     },
     "execution_count": 31,
     "metadata": {},
     "output_type": "execute_result"
    }
   ],
   "source": [
    "# Problem 12: Sum of 1 to 10 \n",
    "\n",
    "# sum_ten takes a parameter, which is sum\n",
    "def sum_ten(sum): \n",
    "    # the accumulator variable is 0, and is added to for the range \n",
    "    sum = 0 \n",
    "    # for loop to iterate through the range\n",
    "    for i in range(1, 11): \n",
    "        # incrementing the sum by i (add i to sum)\n",
    "        sum += i \n",
    "    # return the total sum\n",
    "    return sum\n",
    "# call the function with the parameter\n",
    "sum_ten(10)"
   ]
  },
  {
   "cell_type": "code",
   "execution_count": null,
   "id": "b3babaf1",
   "metadata": {},
   "outputs": [
    {
     "data": {
      "text/plain": [
       "21"
      ]
     },
     "execution_count": 33,
     "metadata": {},
     "output_type": "execute_result"
    }
   ],
   "source": [
    "# Problem 13: Total Sum\n",
    "\n",
    "def sum_positive_range(stop):\n",
    "    # Total sum is currently 0\n",
    "    total_sum = 0\n",
    "    # iterating through the range of values \n",
    "    for i in range(1, stop + 1): \n",
    "        # incrementing the total_sum by i (add i to total_sum)\n",
    "        total_sum += i \n",
    "    # total_sum is returned\n",
    "    return total_sum\n",
    "# call the function with the parameter\n",
    "sum_positive_range(6)"
   ]
  },
  {
   "cell_type": "code",
   "execution_count": null,
   "id": "43dd405d",
   "metadata": {},
   "outputs": [
    {
     "data": {
      "text/plain": [
       "42"
      ]
     },
     "execution_count": 34,
     "metadata": {},
     "output_type": "execute_result"
    }
   ],
   "source": [
    "# Problem 14: Total Sum in Range\n",
    "\n",
    "def sum_range(start, stop): \n",
    "    # total starts at 0 \n",
    "    total = 0 \n",
    "    # for loop to iterate through the range, and is inclusive so add 1 \n",
    "    for i in range(start, stop + 1): \n",
    "        # add i to total and is incremented \n",
    "        total += i \n",
    "    # total is returned\n",
    "    return total\n",
    "# call function with parameters\n",
    "sum_range(3, 9)"
   ]
  },
  {
   "cell_type": "code",
   "execution_count": 37,
   "id": "54ba3efa",
   "metadata": {},
   "outputs": [
    {
     "name": "stdout",
     "output_type": "stream",
     "text": [
      "-2\n",
      "-5\n"
     ]
    }
   ],
   "source": [
    "# Problem 15: Negative Numbers \n",
    "\n",
    "def print_negatives(lst):\n",
    "    # iterate through each item in the list\n",
    "    for item in lst:\n",
    "        # if item is less than 0(negative), print item\n",
    "        if item < 0: \n",
    "            # print item\n",
    "            print(item)\n",
    "\n",
    "print_negatives([3,-2,2,1,-5])\n",
    "print_negatives([1,2,3,4,5])"
   ]
  }
 ],
 "metadata": {
  "kernelspec": {
   "display_name": ".venv",
   "language": "python",
   "name": "python3"
  },
  "language_info": {
   "codemirror_mode": {
    "name": "ipython",
    "version": 3
   },
   "file_extension": ".py",
   "mimetype": "text/x-python",
   "name": "python",
   "nbconvert_exporter": "python",
   "pygments_lexer": "ipython3",
   "version": "3.13.4"
  }
 },
 "nbformat": 4,
 "nbformat_minor": 5
}
