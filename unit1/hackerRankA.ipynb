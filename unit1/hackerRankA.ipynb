{
 "cells": [
  {
   "cell_type": "markdown",
   "id": "52699fb2",
   "metadata": {},
   "source": [
    "Unit 1 Hacker Rank: Version A"
   ]
  },
  {
   "cell_type": "code",
   "execution_count": null,
   "id": "b573d087",
   "metadata": {},
   "outputs": [
    {
     "name": "stdout",
     "output_type": "stream",
     "text": [
      "D\n"
     ]
    }
   ],
   "source": [
    "# 1. Conditional Statements \n",
    "\n",
    "# What does the following code print out?\n",
    "\n",
    "x = 15 \n",
    "y = 20 \n",
    "\n",
    "# AND logical operator: Both statements must be true \n",
    "\n",
    "# if x is greater than y and y is less than 30: False and True = False \n",
    "if x > y and y < 30: \n",
    "    print(\"A\")\n",
    "# if x is less than y and x is less than 10: True and False = False\n",
    "elif x < y and x < 10: \n",
    "    print(\"B\")\n",
    "# if x is greater than 15 and x is less than y: False and True = False\n",
    "elif x > 15 and x < y: \n",
    "    print(\"C\")\n",
    "else: \n",
    "    # If none of the conditions are met, print D\n",
    "    print(\"D\")\n",
    "\n",
    "# D is printed since none of the conditions were met"
   ]
  },
  {
   "cell_type": "code",
   "execution_count": null,
   "id": "51e98099",
   "metadata": {},
   "outputs": [],
   "source": [
    "# 2. Given the following code, what is the value of the result?\n",
    "\n",
    "final_ans = 0\n",
    "\n",
    "# 1, 2, 3, 4, 5 (is not inclusive)\n",
    "for num in range(1, 6): \n",
    "    # (1 + 2 + 3 + 4 + 5) = 15\n",
    "    final_ans += num\n",
    "    # 15 * 2 = 30\n",
    "result = final_ans * 2 "
   ]
  },
  {
   "cell_type": "code",
   "execution_count": 4,
   "id": "afb49403",
   "metadata": {},
   "outputs": [
    {
     "name": "stdout",
     "output_type": "stream",
     "text": [
      "[1, 2, 3, 4, 5, 6, 7, 8]\n"
     ]
    }
   ],
   "source": [
    "# 3. Given the following code, what is the value of the output?\n",
    "\n",
    "# a function that takes 2 lsts as parameters\n",
    "def mystery_function(lst1, lst2):\n",
    "    # iterating through the elements in lst2 \n",
    "    for num in lst2: \n",
    "        # appending it to lst1\n",
    "        lst1.append(num)\n",
    "    # returning lst1\n",
    "    return lst1\n",
    "output = mystery_function([1,2,3,4],[5,6,7,8])\n",
    "# output is: [1,2,3,4,5,6,7,8]\n",
    "print(output)"
   ]
  },
  {
   "cell_type": "code",
   "execution_count": null,
   "id": "fb494c45",
   "metadata": {},
   "outputs": [
    {
     "data": {
      "text/plain": [
       "2"
      ]
     },
     "execution_count": 6,
     "metadata": {},
     "output_type": "execute_result"
    }
   ],
   "source": [
    "# 4. count_negatives should return the number of negative numbers in a given input list. For example, if we\n",
    "# passed in [-1, 2, 3, 4, -5], count_negatives should return 2. One of the following implementations is correct.\n",
    "# The rest have a bug. Choose the option that correctly implements count_negatives.\n",
    "\n",
    "# a function that counts negatives in a list\n",
    "def count_negatives(lst): \n",
    "    # count is 0\n",
    "    count = 0 \n",
    "    # iterating through the list \n",
    "    for num in lst: \n",
    "        # if i is less than 0\n",
    "        if num < 0: \n",
    "            # increment the count by 1\n",
    "            count += 1 \n",
    "    # return count\n",
    "    return count\n",
    "\n",
    "lst =  [-1, 2, 3, 4, -5]\n",
    "count_negatives(lst)"
   ]
  },
  {
   "cell_type": "code",
   "execution_count": null,
   "id": "496bb736",
   "metadata": {},
   "outputs": [
    {
     "data": {
      "text/plain": [
       "15"
      ]
     },
     "execution_count": 8,
     "metadata": {},
     "output_type": "execute_result"
    }
   ],
   "source": [
    "# 5. Find Sum: Write a function that returns the sum of all the elements in a list. Do not use the built-in sum function.\n",
    "\n",
    "# a function that sums all elements in the lst\n",
    "def sum(lst): \n",
    "    # total is at 0\n",
    "    total = 0\n",
    "    # iterating through all the elements in a list\n",
    "    for i in lst: \n",
    "        # total is incremented, adds the value of i to current value of total \n",
    "        # total = total + i\n",
    "        total += i\n",
    "    # total is returned\n",
    "    return total\n",
    "lst = [1, 2, 3, 4, 5]\n",
    "sum(lst)"
   ]
  },
  {
   "cell_type": "code",
   "execution_count": null,
   "id": "ec915939",
   "metadata": {},
   "outputs": [
    {
     "data": {
      "text/plain": [
       "1"
      ]
     },
     "execution_count": 11,
     "metadata": {},
     "output_type": "execute_result"
    }
   ],
   "source": [
    "# 6. List minimum not using the min method\n",
    "\n",
    "def min(lst): \n",
    "    # set min val to index 0\n",
    "    min_val = lst[0]\n",
    "    # iterating through all the elements in lst\n",
    "    for i in lst: \n",
    "        # if i is less than the min_val\n",
    "        if i < min_val: \n",
    "            # set min_val to i\n",
    "            min_val = i \n",
    "    # return min_val\n",
    "    return min_val\n",
    "    \n",
    "lst =  [5, 1, 2, 3, 4]\n",
    "min(lst)"
   ]
  }
 ],
 "metadata": {
  "kernelspec": {
   "display_name": ".venv",
   "language": "python",
   "name": "python3"
  },
  "language_info": {
   "codemirror_mode": {
    "name": "ipython",
    "version": 3
   },
   "file_extension": ".py",
   "mimetype": "text/x-python",
   "name": "python",
   "nbconvert_exporter": "python",
   "pygments_lexer": "ipython3",
   "version": "3.13.4"
  }
 },
 "nbformat": 4,
 "nbformat_minor": 5
}
