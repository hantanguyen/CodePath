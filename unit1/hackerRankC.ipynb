{
 "cells": [
  {
   "cell_type": "markdown",
   "id": "303a0d0a",
   "metadata": {},
   "source": [
    "Unit 1 Hacker Rank: Version C"
   ]
  },
  {
   "cell_type": "code",
   "execution_count": null,
   "id": "21661b0e",
   "metadata": {},
   "outputs": [
    {
     "name": "stdout",
     "output_type": "stream",
     "text": [
      "B\n"
     ]
    }
   ],
   "source": [
    "# 1. Conditional Statment: Wha twould the following code print out? \n",
    "\n",
    "x = 10 \n",
    "y = 30 \n",
    "\n",
    "# AND operator: Both statements must be true for the entire thing to be true \n",
    "\n",
    "# if x greater than y and y less than 30: False and False = False\n",
    "if x > y and y < 30: \n",
    "    print(\"A\")\n",
    "# if x less than y and x less than 40: True and True = True\n",
    "elif x < y and x < 40: \n",
    "    print(\"B\")\n",
    "# if x is greater than 30 and x is greater than y: False and False = False\n",
    "elif x > 30 and x > y: \n",
    "    print(\"C\")\n",
    "else: \n",
    "    # if none are true, print D\n",
    "    print(\"D\")"
   ]
  },
  {
   "cell_type": "code",
   "execution_count": null,
   "id": "05cab7f0",
   "metadata": {},
   "outputs": [
    {
     "name": "stdout",
     "output_type": "stream",
     "text": [
      "15\n"
     ]
    }
   ],
   "source": [
    "# 2. Return Final Answer \n",
    "\n",
    "final_ans = 0 \n",
    "for num in range(6): \n",
    "    # 0 + 1 + 2 + 3 + 4 + 5 = 15\n",
    "    final_ans += num \n",
    "result = final_ans\n",
    "print(result)"
   ]
  },
  {
   "cell_type": "code",
   "execution_count": null,
   "id": "3f209720",
   "metadata": {},
   "outputs": [
    {
     "name": "stdout",
     "output_type": "stream",
     "text": [
      "[16]\n"
     ]
    }
   ],
   "source": [
    "# 3. Mystery Function \n",
    "\n",
    "# a function that takes a lst of numbers and is returned once its greater to or equalt to 10\n",
    "def mystery_function(lst): \n",
    "    # empty list to store result\n",
    "    result = []\n",
    "    # iterating through the list \n",
    "    for num in lst: \n",
    "        # 1 = 1 * 1 \n",
    "        # 4 = 2 * 2 \n",
    "        # 9 = 3 * 3 \n",
    "        # 16 = 4 * 4\n",
    "        new_num = num * num \n",
    "        # 16 is greater than and equal to 10 and is appended to the list\n",
    "        if new_num >= 10: \n",
    "            result.append(new_num)\n",
    "    # return the result \n",
    "    return result\n",
    "\n",
    "output = mystery_function([1, 2, 3, 4])\n",
    "print(output)"
   ]
  },
  {
   "cell_type": "code",
   "execution_count": 7,
   "id": "ef37508a",
   "metadata": {},
   "outputs": [
    {
     "data": {
      "text/plain": [
       "9"
      ]
     },
     "execution_count": 7,
     "metadata": {},
     "output_type": "execute_result"
    }
   ],
   "source": [
    "# 4. Sum Positives: fix the bug \n",
    "\n",
    "def sum_positives(lst): \n",
    "    total = 0 \n",
    "    for num in lst: \n",
    "        if num > 0: \n",
    "            # total = num should be replaced with total += num\n",
    "            total += num \n",
    "    return total \n",
    "\n",
    "lst = [-1, 2, 3, 4, -5]\n",
    "sum_positives(lst)"
   ]
  },
  {
   "cell_type": "code",
   "execution_count": null,
   "id": "0b0a0dff",
   "metadata": {},
   "outputs": [
    {
     "data": {
      "text/plain": [
       "5"
      ]
     },
     "execution_count": 10,
     "metadata": {},
     "output_type": "execute_result"
    }
   ],
   "source": [
    "# 5. Find the maximum of the list without using the max function \n",
    "\n",
    "# a function that takes the lst as a parameter to find the biggest element \n",
    "def find_max(lst): \n",
    "    # set the max to the first element of the lst\n",
    "    maximum = lst[0]\n",
    "    # iterate through the entire list\n",
    "    for i in lst: \n",
    "        # if i is greater than the maximum\n",
    "        if i > maximum: \n",
    "            # assign the max to i\n",
    "            maximum = i \n",
    "    # return max \n",
    "    return maximum\n",
    "\n",
    "lst = [5, 1, 2, 3, 4]\n",
    "find_max(lst)"
   ]
  },
  {
   "cell_type": "code",
   "execution_count": null,
   "id": "523bc0a5",
   "metadata": {},
   "outputs": [
    {
     "data": {
      "text/plain": [
       "2"
      ]
     },
     "execution_count": 12,
     "metadata": {},
     "output_type": "execute_result"
    }
   ],
   "source": [
    "# 6. Count the Occurences \n",
    "\n",
    "# a function that takes a list and a value\n",
    "def count_occurences(lst, val): \n",
    "    # count is 0, increments when a value shows up more than once\n",
    "    count = 0 \n",
    "    # iterate through the lists\n",
    "    for i in lst: \n",
    "        # if the index is equal to the value we're looking for\n",
    "        if i == val: \n",
    "            # increment the count\n",
    "            count += 1 \n",
    "    # return the count\n",
    "    return count\n",
    "\n",
    "lst = [1, 2, 3, 2]\n",
    "val = 2 \n",
    "count_occurences(lst, val)"
   ]
  }
 ],
 "metadata": {
  "kernelspec": {
   "display_name": ".venv",
   "language": "python",
   "name": "python3"
  },
  "language_info": {
   "codemirror_mode": {
    "name": "ipython",
    "version": 3
   },
   "file_extension": ".py",
   "mimetype": "text/x-python",
   "name": "python",
   "nbconvert_exporter": "python",
   "pygments_lexer": "ipython3",
   "version": "3.13.4"
  }
 },
 "nbformat": 4,
 "nbformat_minor": 5
}
