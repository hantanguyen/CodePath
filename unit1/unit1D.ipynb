{
 "cells": [
  {
   "cell_type": "markdown",
   "id": "5980946b",
   "metadata": {},
   "source": [
    "Session 1, Unit 1D"
   ]
  },
  {
   "cell_type": "code",
   "execution_count": 1,
   "id": "d2c239fe",
   "metadata": {},
   "outputs": [
    {
     "name": "stdout",
     "output_type": "stream",
     "text": [
      "[296.15, 73.4]\n"
     ]
    }
   ],
   "source": [
    "# Problem 1: Convert Temperature \n",
    "\n",
    "# a function that converts celsius to kelvin and fahrenheit \n",
    "def convertTemp(celsius): \n",
    "    # equation to get kelvin\n",
    "    kelvin = celsius + 273.15\n",
    "    # equation to get fahrenheit \n",
    "    fahrenheit = celsius * 1.80 + 32.00\n",
    "    # answer stored in a list \n",
    "    ans = [kelvin,fahrenheit]\n",
    "    # return the answer\n",
    "    return ans\n",
    "\n",
    "temperatures = convertTemp(23.00)\n",
    "print(temperatures)"
   ]
  },
  {
   "cell_type": "code",
   "execution_count": 2,
   "id": "3d7fed1e",
   "metadata": {},
   "outputs": [
    {
     "name": "stdout",
     "output_type": "stream",
     "text": [
      "86.4\n"
     ]
    }
   ],
   "source": [
    "# Problem 2: Average Score \n",
    "\n",
    "# a function that calculates the average score of a list of scores\n",
    "def average(scores): \n",
    "    # to get the average sum all the scores then divide it by the length of score list\n",
    "    avg = sum(scores) / len(scores)\n",
    "    # return the average\n",
    "    return avg\n",
    "\n",
    "scores = [84, 73, 92, 95, 88]\n",
    "avg_score = average(scores)\n",
    "print(avg_score)"
   ]
  },
  {
   "cell_type": "code",
   "execution_count": 3,
   "id": "4cf705ea",
   "metadata": {},
   "outputs": [
    {
     "name": "stdout",
     "output_type": "stream",
     "text": [
      "[4, 6, 9, 3]\n"
     ]
    }
   ],
   "source": [
    "# Problem 3: Increment by 1\n",
    "\n",
    "# a function that increments the elements by 1 \n",
    "def increment_values(lst): \n",
    "    # empty list to store all the values \n",
    "    new_lst = []\n",
    "    # iterate through the entire list\n",
    "    for i in lst: \n",
    "        # append the incremented value to the new list\n",
    "        new_lst.append(i + 1)\n",
    "    # return the list \n",
    "    return new_lst\n",
    "\n",
    "lst = [3 , 5, 8, 2]\n",
    "new_lst = increment_values(lst)\n",
    "print(new_lst)"
   ]
  },
  {
   "cell_type": "code",
   "execution_count": null,
   "id": "0877fdae",
   "metadata": {},
   "outputs": [
    {
     "name": "stdout",
     "output_type": "stream",
     "text": [
      "True\n",
      "False\n"
     ]
    }
   ],
   "source": [
    "# Problem 4: Check for Number \n",
    "\n",
    "# a function that checks if the lst has the number \n",
    "def check_num(lst, num): \n",
    "    # found set to false\n",
    "    found = False \n",
    "    # iterate through the list \n",
    "    for i in lst: \n",
    "        # if number is the one we want\n",
    "        if num == i: \n",
    "            # found is toggled as true \n",
    "            found = True \n",
    "            # return true\n",
    "            return found\n",
    "    # else return false\n",
    "    return False \n",
    "\n",
    "lst = [5, 2, 3, 9, 10]\n",
    "flag1 = check_num(lst, 9)\n",
    "flag2 = check_num(lst, 4)\n",
    "print(flag1)\n",
    "print(flag2)"
   ]
  },
  {
   "cell_type": "code",
   "execution_count": null,
   "id": "65862f83",
   "metadata": {},
   "outputs": [
    {
     "name": "stdout",
     "output_type": "stream",
     "text": [
      "3\n"
     ]
    }
   ],
   "source": [
    "# Problem 5: Missing Number\n",
    "\n",
    "def find_missing(nums):\n",
    "    pass\n",
    "\n",
    "nums = [2, 4, 1, 0, 5]\n",
    "missing_num = find_missing(nums)\n",
    "print(missing_num)"
   ]
  },
  {
   "cell_type": "code",
   "execution_count": null,
   "id": "979ab528",
   "metadata": {},
   "outputs": [
    {
     "name": "stdout",
     "output_type": "stream",
     "text": [
      "[5, 4, 3, 2, 1]\n"
     ]
    }
   ],
   "source": [
    "# Problem 6: Reverse List \n",
    "\n",
    "def reverse_lst(lst): \n",
    "    # first colon is slice of whole list from start to end\n",
    "    # second colon and -1 is to go backwards one element at a time\n",
    "    rev_lst = lst[::-1]\n",
    "    # return reversed list\n",
    "    return rev_lst\n",
    "\n",
    "lst = [1, 2, 3, 4, 5]\n",
    "rev_lst = reverse_lst(lst)\n",
    "print(rev_lst)\n"
   ]
  },
  {
   "cell_type": "code",
   "execution_count": null,
   "id": "a39dcb1b",
   "metadata": {},
   "outputs": [
    {
     "name": "stdout",
     "output_type": "stream",
     "text": [
      "[5, 4, 3, 2, 1]\n"
     ]
    }
   ],
   "source": [
    "# Problem 6b: Reverse List \n",
    "\n",
    "def reverse_lst(lst): \n",
    "    # use the reverse method and return the lst \n",
    "    lst.reverse()\n",
    "    return lst\n",
    "\n",
    "lst = [1, 2, 3, 4, 5]\n",
    "rev_lst = reverse_lst(lst)\n",
    "print(rev_lst)"
   ]
  },
  {
   "cell_type": "code",
   "execution_count": null,
   "id": "890e1eef",
   "metadata": {},
   "outputs": [
    {
     "name": "stdout",
     "output_type": "stream",
     "text": [
      "[5, 1, 5]\n"
     ]
    }
   ],
   "source": [
    "# Problem 7: Get Odd Numbers \n",
    "\n",
    "# a function that returns all the odd numbers in a list \n",
    "def get_odds(nums): \n",
    "    # empty list to store odd numbers\n",
    "    odd_nums = []\n",
    "    # iterate through the elements of a list\n",
    "    for i in nums: \n",
    "        # if remainder is 1 it's odd if remainder is 0 it's even\n",
    "        if i % 2 == 1: \n",
    "            # append to new list\n",
    "            odd_nums.append(i)\n",
    "    # return the list\n",
    "    return odd_nums\n",
    "\n",
    "nums = [2, 5, 1, 8, 6, 5]\n",
    "odd_nums = get_odds(nums)\n",
    "print(odd_nums)"
   ]
  },
  {
   "cell_type": "code",
   "execution_count": null,
   "id": "1af9e6f4",
   "metadata": {},
   "outputs": [
    {
     "name": "stdout",
     "output_type": "stream",
     "text": [
      "7\n",
      "14\n",
      "21\n",
      "28\n",
      "35\n",
      "42\n",
      "49\n",
      "56\n",
      "63\n",
      "70\n"
     ]
    }
   ],
   "source": [
    "# Problem 8: Multiplication Table \n",
    "\n",
    "# a function that makes a multiplication table\n",
    "# 7x1, 7x2, 7x3 etc\n",
    "def multiplication_table(num):\n",
    "    # iterate through the range of numbers\n",
    "    for i in range(1, 11): \n",
    "        # index times the num\n",
    "        print(i * num)\n",
    "\n",
    "multiplication_table(7)"
   ]
  },
  {
   "cell_type": "code",
   "execution_count": null,
   "id": "b699007b",
   "metadata": {},
   "outputs": [
    {
     "name": "stdout",
     "output_type": "stream",
     "text": [
      "103\n"
     ]
    }
   ],
   "source": [
    "# Problem 9: Create Number\n",
    "\n",
    "# a function that turns a list into a string\n",
    "def list_to_number(digits): \n",
    "    # store empty string \n",
    "    string = \"\"\n",
    "    # for the numbers that are in the digit \n",
    "    for nums in digits: \n",
    "        # concatenate it to the string and convert the nums into string\n",
    "        string += str(nums)\n",
    "    # return the string as an int\n",
    "    return int(string)\n",
    "\n",
    "digits = [1, 0, 3]\n",
    "number = list_to_number(digits)\n",
    "print(number)\n"
   ]
  },
  {
   "cell_type": "code",
   "execution_count": null,
   "id": "719f28cc",
   "metadata": {},
   "outputs": [
    {
     "name": "stdout",
     "output_type": "stream",
     "text": [
      "[1, 2, 3, 4, 0, 0, 0]\n"
     ]
    }
   ],
   "source": [
    "# Problem 10: Move Zeros\n",
    "\n",
    "# a function that moves the 0's in a list to the back\n",
    "def move_zeros(nums): \n",
    "    # empty list to store the returned list\n",
    "    new_nums = [] \n",
    "    # iterate through the list \n",
    "    for i in nums: \n",
    "        # if the index is not equal to 0\n",
    "        if i != 0: \n",
    "            # append it to the new list\n",
    "            new_nums.append(i)\n",
    "    # count of how many 0's there are and is stored in the variable count\n",
    "    count = nums.count(0)\n",
    "    # iterating through count\n",
    "    for i in range(count):\n",
    "        # append it to the list\n",
    "        new_nums.append(0)\n",
    "    # return the list \n",
    "    return new_nums\n",
    "\n",
    "nums = [1, 0, 2, 3, 0, 0, 4]\n",
    "new_nums = move_zeros(nums)\n",
    "print(new_nums)"
   ]
  },
  {
   "cell_type": "code",
   "execution_count": null,
   "id": "1af67f50",
   "metadata": {},
   "outputs": [
    {
     "name": "stdout",
     "output_type": "stream",
     "text": [
      "4\n",
      "1\n",
      "2\n"
     ]
    }
   ],
   "source": [
    "# Problem 11: Odd Indices\n",
    "\n",
    "# a function that prints the odd indices of a list\n",
    "def print_odd_indices(nums): \n",
    "    # iterating through the list of nums while keeping track of the indices\n",
    "    for index, value in enumerate(nums): \n",
    "        # if the index is odd\n",
    "        if index % 2 == 1:\n",
    "            # return value \n",
    "            print(value)\n",
    "\n",
    "nums = [3, 4, 8, 1, 5, 2]\n",
    "print_odd_indices(nums)"
   ]
  },
  {
   "cell_type": "code",
   "execution_count": null,
   "id": "4f87148e",
   "metadata": {},
   "outputs": [
    {
     "name": "stdout",
     "output_type": "stream",
     "text": [
      "[1, 4, 7, 8]\n"
     ]
    }
   ],
   "source": [
    "# Problem 12: List Occurances \n",
    "\n",
    "# a function that has a list and a target number and returns the index of where it's at\n",
    "def find_all_occurrences(lst, target): \n",
    "    # empty list\n",
    "    index_list = []\n",
    "    # iterating through the list while keeping track of the index and getting the value\n",
    "    for index, value in enumerate(lst): \n",
    "        # if the target is equal to the value\n",
    "        if target == value: \n",
    "            # append it to the empty list\n",
    "            index_list.append(index)\n",
    "    # return the empty list\n",
    "    return index_list\n",
    "\n",
    "lst = [1, 2, 6, 5, 2, 1, 3, 2, 2]\n",
    "index_list = find_all_occurrences(lst, 2)\n",
    "print(index_list)\n"
   ]
  }
 ],
 "metadata": {
  "kernelspec": {
   "display_name": ".venv",
   "language": "python",
   "name": "python3"
  },
  "language_info": {
   "codemirror_mode": {
    "name": "ipython",
    "version": 3
   },
   "file_extension": ".py",
   "mimetype": "text/x-python",
   "name": "python",
   "nbconvert_exporter": "python",
   "pygments_lexer": "ipython3",
   "version": "3.13.4"
  }
 },
 "nbformat": 4,
 "nbformat_minor": 5
}
