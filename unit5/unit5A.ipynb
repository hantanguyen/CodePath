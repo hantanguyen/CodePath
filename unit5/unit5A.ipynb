{
 "cells": [
  {
   "cell_type": "markdown",
   "id": "7f12d4d4",
   "metadata": {},
   "source": [
    "Session 1, Unit 5A"
   ]
  },
  {
   "cell_type": "code",
   "execution_count": 2,
   "id": "e8c7c2a7",
   "metadata": {},
   "outputs": [
    {
     "name": "stdout",
     "output_type": "stream",
     "text": [
      "Pikachu\n",
      "['Electric']\n",
      "False\n"
     ]
    }
   ],
   "source": [
    "# Problem 1: Pokemon Class\n",
    "\n",
    "class Pokemon: \n",
    "    def __init__(self, name, types): \n",
    "        self.name = name \n",
    "        self.types = types \n",
    "        self.is_caught = False \n",
    "\n",
    "# create a instance of pokemon class \n",
    "my_pokemon = Pokemon(\"Pikachu\", [\"Electric\"])\n",
    "print(my_pokemon.name)\n",
    "print(my_pokemon.types)\n",
    "print(my_pokemon.is_caught)"
   ]
  },
  {
   "cell_type": "code",
   "execution_count": 3,
   "id": "85156aa7",
   "metadata": {},
   "outputs": [
    {
     "name": "stdout",
     "output_type": "stream",
     "text": [
      "{'name': 'Squirtle', 'types': ['Water'], 'is_caught': False}\n"
     ]
    }
   ],
   "source": [
    "# Problem 2: Create Squirtle \n",
    "\n",
    "class Pokemon: \n",
    "    def __init__(self, name, types): \n",
    "        self.name = name \n",
    "        self.types = types \n",
    "        self.is_caught = False \n",
    "\n",
    "    def print_pokemon(self): \n",
    "        print({\n",
    "            \"name\": self.name, \n",
    "            \"types\": self.types, \n",
    "            \"is_caught\": self.is_caught\n",
    "        })\n",
    "\n",
    "# create instance of Squirtle \n",
    "squirtle = Pokemon(\"Squirtle\", [\"Water\"])\n",
    "# Print Squirtle\n",
    "squirtle.print_pokemon()"
   ]
  },
  {
   "cell_type": "code",
   "execution_count": null,
   "id": "c0813703",
   "metadata": {},
   "outputs": [
    {
     "name": "stdout",
     "output_type": "stream",
     "text": [
      "{'name': 'Squirtle', 'types': ['Water'], 'is_caught': True}\n"
     ]
    }
   ],
   "source": [
    "# Problem 3: Is Caught\n",
    "\n",
    "class Pokemon:\n",
    "    def __init__(self, name, types):\n",
    "        self.name = name\n",
    "        self.types = types\n",
    "        self.is_caught = False\n",
    "\n",
    "    def print_pokemon(self):\n",
    "        print({\n",
    "            \"name\": self.name,\n",
    "            \"types\": self.types,\n",
    "            \"is_caught\": self.is_caught\n",
    "        })\n",
    "\n",
    "squirtle = Pokemon(\"Squirtle\", [\"Water\"])\n",
    "# Set is_caught to True\n",
    "squirtle.is_caught = True      \n",
    "# Print to verify   \n",
    "squirtle.print_pokemon()           \n"
   ]
  },
  {
   "cell_type": "code",
   "execution_count": 5,
   "id": "f39ac33b",
   "metadata": {},
   "outputs": [
    {
     "name": "stdout",
     "output_type": "stream",
     "text": [
      "{'name': 'rattata', 'types': ['Normal'], 'is_caught': False}\n",
      "{'name': 'rattata', 'types': ['Normal'], 'is_caught': True}\n"
     ]
    }
   ],
   "source": [
    "# Problem 4: Catch Pokemon\n",
    "\n",
    "class Pokemon:\n",
    "    def __init__(self, name, types):\n",
    "        self.name = name\n",
    "        self.types = types\n",
    "        self.is_caught = False\n",
    "\n",
    "    def print_pokemon(self):\n",
    "        print({\n",
    "            \"name\": self.name,\n",
    "            \"types\": self.types,\n",
    "            \"is_caught\": self.is_caught\n",
    "        })\n",
    "\n",
    "    def catch(self):\n",
    "        self.is_caught = True\n",
    "\n",
    "my_pokemon = Pokemon(\"rattata\", [\"Normal\"])\n",
    "my_pokemon.print_pokemon() \n",
    "\n",
    "my_pokemon.catch()         \n",
    "my_pokemon.print_pokemon()  "
   ]
  },
  {
   "cell_type": "code",
   "execution_count": null,
   "id": "762b2bcc",
   "metadata": {},
   "outputs": [
    {
     "name": "stdout",
     "output_type": "stream",
     "text": [
      "rattata is wild! Catch them if you can!\n",
      "rattata I choose you!\n"
     ]
    }
   ],
   "source": [
    "# Problem 5: \n",
    "\n",
    "class Pokemon:\n",
    "    def __init__(self, name, types):\n",
    "        self.name = name\n",
    "        self.types = types\n",
    "        self.is_caught = False\n",
    "\n",
    "    def print_pokemon(self):\n",
    "        print({\n",
    "            \"name\": self.name,\n",
    "            \"types\": self.types,\n",
    "            \"is_caught\": self.is_caught\n",
    "        })\n",
    "\n",
    "    def catch(self):\n",
    "        self.is_caught = True\n",
    "\n",
    "    def choose(self):\n",
    "        if self.is_caught:\n",
    "            print(f\"{self.name} I choose you!\")\n",
    "        else:\n",
    "            print(f\"{self.name} is wild! Catch them if you can!\")\n",
    "\n",
    "my_pokemon = Pokemon(\"Rattata\", [\"Normal\"])\n",
    "# my_pokemon.print_pokemon()\n",
    "\n",
    "my_pokemon.choose()     # Output: Rattata is wild! Catch them if you can!\n",
    "my_pokemon.catch()\n",
    "my_pokemon.choose()     # Output: Rattata I choose you!"
   ]
  },
  {
   "cell_type": "code",
   "execution_count": null,
   "id": "811b2c68",
   "metadata": {},
   "outputs": [
    {
     "name": "stdout",
     "output_type": "stream",
     "text": [
      "{'name': 'Jigglypuff', 'types': ['Normal'], 'is_caught': False}\n",
      "{'name': 'Jigglypuff', 'types': ['Normal', 'Fairy'], 'is_caught': False}\n"
     ]
    }
   ],
   "source": [
    "# Problem 6: \n",
    "\n",
    "class Pokemon:\n",
    "    def __init__(self, name, types):\n",
    "        self.name = name\n",
    "        self.types = types\n",
    "        self.is_caught = False\n",
    "\n",
    "    def print_pokemon(self):\n",
    "        print({\n",
    "            \"name\": self.name,\n",
    "            \"types\": self.types,\n",
    "            \"is_caught\": self.is_caught\n",
    "        })\n",
    "\n",
    "    def add_type(self, new_type):\n",
    "        self.types.append(new_type)\n",
    "\n",
    "jigglypuff = Pokemon(\"Jigglypuff\", [\"Normal\"])\n",
    "jigglypuff.print_pokemon()\n",
    "\n",
    "jigglypuff.add_type(\"Fairy\")\n",
    "jigglypuff.print_pokemon()"
   ]
  },
  {
   "cell_type": "code",
   "execution_count": null,
   "id": "a968e042",
   "metadata": {},
   "outputs": [],
   "source": []
  }
 ],
 "metadata": {
  "kernelspec": {
   "display_name": ".venv",
   "language": "python",
   "name": "python3"
  },
  "language_info": {
   "codemirror_mode": {
    "name": "ipython",
    "version": 3
   },
   "file_extension": ".py",
   "mimetype": "text/x-python",
   "name": "python",
   "nbconvert_exporter": "python",
   "pygments_lexer": "ipython3",
   "version": "3.13.4"
  }
 },
 "nbformat": 4,
 "nbformat_minor": 5
}
