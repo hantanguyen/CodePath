{
 "cells": [
  {
   "cell_type": "markdown",
   "id": "dadf9a20",
   "metadata": {},
   "source": [
    "Variables\n",
    "\n",
    "A container for a value (string, integer, float, boolean). \n",
    "A variable behaves as if it was the value it contains.\n",
    "Each variable should have a unique name."
   ]
  },
  {
   "cell_type": "code",
   "execution_count": 1,
   "id": "a22985f8",
   "metadata": {},
   "outputs": [
    {
     "name": "stdout",
     "output_type": "stream",
     "text": [
      "Hori\n"
     ]
    }
   ],
   "source": [
    "first_name = \"Hori\"\n",
    "print(first_name)"
   ]
  },
  {
   "cell_type": "markdown",
   "id": "4810b4d6",
   "metadata": {},
   "source": [
    "F string: a formatted string literal, begin a string with f or F before the quotation marks. In the string, you can write the Python expression between { and } characters that can refer to variables or literal values "
   ]
  },
  {
   "cell_type": "code",
   "execution_count": 5,
   "id": "a946da46",
   "metadata": {},
   "outputs": [
    {
     "name": "stdout",
     "output_type": "stream",
     "text": [
      "Hello Hori\n"
     ]
    }
   ],
   "source": [
    "first_name = \"Hori\"\n",
    "print(f\"Hello {first_name}\")"
   ]
  },
  {
   "cell_type": "code",
   "execution_count": null,
   "id": "aba7b95a",
   "metadata": {},
   "outputs": [
    {
     "name": "stdout",
     "output_type": "stream",
     "text": [
      "Hello Hori\n",
      "You like Steak\n",
      "Your email is hantanguyen@gmail.com\n"
     ]
    }
   ],
   "source": [
    "# Strings \n",
    "first_name = \"Hori\"\n",
    "food = \"Steak\"\n",
    "email = \"hantanguyen@gmail.com\"\n",
    "\n",
    "print(f\"Hello {first_name}\")\n",
    "print(f\"You like {food}\")\n",
    "print(f\"Your email is {email}\")"
   ]
  },
  {
   "cell_type": "code",
   "execution_count": 10,
   "id": "b9afce40",
   "metadata": {},
   "outputs": [
    {
     "name": "stdout",
     "output_type": "stream",
     "text": [
      "You are 24 years old.\n",
      "You are buying 3 items.\n",
      "Your class has 30 students.\n"
     ]
    }
   ],
   "source": [
    "# Integers: Whole numbers\n",
    "\n",
    "age = 24 \n",
    "quantity = 3\n",
    "num_of_students = 30\n",
    "\n",
    "print(f\"You are {age} years old.\")\n",
    "print(f\"You are buying {quantity} items.\")\n",
    "print(f\"Your class has {num_of_students} students.\")"
   ]
  },
  {
   "cell_type": "code",
   "execution_count": 14,
   "id": "4cd33eaa",
   "metadata": {},
   "outputs": [
    {
     "name": "stdout",
     "output_type": "stream",
     "text": [
      "The price is $10.99.\n",
      "Your GPA is 3.2.\n",
      "You ran 5.5 km.\n"
     ]
    }
   ],
   "source": [
    "# Float: Floating point number, contains a decimal portion\n",
    "\n",
    "price = 10.99\n",
    "gpa = 3.2\n",
    "distance = 5.5 \n",
    "\n",
    "print(f\"The price is ${price}.\")\n",
    "print(f\"Your GPA is {gpa}.\")\n",
    "print(f\"You ran {distance} km.\")"
   ]
  },
  {
   "cell_type": "code",
   "execution_count": 17,
   "id": "e1c06b04",
   "metadata": {},
   "outputs": [
    {
     "name": "stdout",
     "output_type": "stream",
     "text": [
      "You are a student\n"
     ]
    }
   ],
   "source": [
    "# Boolean: True or False\n",
    "\n",
    "is_student = True \n",
    "\n",
    "if is_student: \n",
    "    print(\"You are a student\")\n",
    "else: \n",
    "    print(\"You are not a student\")\n",
    "\n",
    "# print(f\"Are you a student?: {is_student}\")"
   ]
  },
  {
   "cell_type": "code",
   "execution_count": 19,
   "id": "94c35359",
   "metadata": {},
   "outputs": [
    {
     "name": "stdout",
     "output_type": "stream",
     "text": [
      "That item is for sale.\n"
     ]
    }
   ],
   "source": [
    "for_sale = True\n",
    "\n",
    "if for_sale: \n",
    "    print(\"That item is for sale.\")\n",
    "else: \n",
    "    print(\"That item is not available.\")"
   ]
  },
  {
   "cell_type": "code",
   "execution_count": 20,
   "id": "8985f756",
   "metadata": {},
   "outputs": [
    {
     "name": "stdout",
     "output_type": "stream",
     "text": [
      "You are online.\n"
     ]
    }
   ],
   "source": [
    "is_online = True \n",
    "\n",
    "if is_online: \n",
    "    print(\"You are online.\")\n",
    "else: \n",
    "    print(\"You are offline.\")"
   ]
  },
  {
   "cell_type": "markdown",
   "id": "0732d22d",
   "metadata": {},
   "source": [
    "Type casting: The process of converting a value of one data type to another (string, integer, float, boolean). Explicit vs Implicit"
   ]
  },
  {
   "cell_type": "code",
   "execution_count": 22,
   "id": "70172887",
   "metadata": {},
   "outputs": [
    {
     "name": "stdout",
     "output_type": "stream",
     "text": [
      "<class 'str'>\n",
      "<class 'int'>\n",
      "<class 'float'>\n",
      "<class 'bool'>\n"
     ]
    }
   ],
   "source": [
    "name = \"Hori\"\n",
    "age = 24\n",
    "gpa = 3.4 \n",
    "student = True\n",
    "\n",
    "# using type() gives you what the type of variable is \n",
    "print(type(name))\n",
    "print(type(age))\n",
    "print(type(gpa))\n",
    "print(type(student))"
   ]
  },
  {
   "cell_type": "code",
   "execution_count": 30,
   "id": "935bbe0a",
   "metadata": {},
   "outputs": [
    {
     "name": "stdout",
     "output_type": "stream",
     "text": [
      "1.0\n",
      "<class 'float'>\n",
      "3\n",
      "<class 'int'>\n",
      "True\n",
      "<class 'str'>\n",
      "True\n",
      "<class 'bool'>\n"
     ]
    }
   ],
   "source": [
    "# Explicit Conversion\n",
    "\n",
    "age = float(age)\n",
    "print(age)\n",
    "print(type(age))\n",
    "\n",
    "gpa = int(gpa)\n",
    "print(gpa)\n",
    "print(type(gpa))\n",
    "\n",
    "student = str(student)\n",
    "print(student)\n",
    "print(type(student))\n",
    "\n",
    "# anything but 0 is True\n",
    "age = bool(age)\n",
    "print(age)\n",
    "print(type(age))"
   ]
  },
  {
   "cell_type": "code",
   "execution_count": 31,
   "id": "14c9f768",
   "metadata": {},
   "outputs": [
    {
     "name": "stdout",
     "output_type": "stream",
     "text": [
      "1.0\n"
     ]
    }
   ],
   "source": [
    "# Implicit typecasting: A value or variable is converted into a different datatype automatically \n",
    "\n",
    "x = 2 \n",
    "y = 2.0 \n",
    "\n",
    "x = x / y \n",
    "print(x)"
   ]
  },
  {
   "cell_type": "markdown",
   "id": "da386028",
   "metadata": {},
   "source": [
    "User Input: Can receive inputs from the user. The data type is a string."
   ]
  },
  {
   "cell_type": "code",
   "execution_count": 6,
   "id": "2a9d80df",
   "metadata": {},
   "outputs": [
    {
     "name": "stdout",
     "output_type": "stream",
     "text": [
      "Hello Hori\n",
      "You are 24 years old\n"
     ]
    }
   ],
   "source": [
    "name = input(\"Enter your name: \")\n",
    "# age = input(\"Enter your age: \")\n",
    "# age = int(age)\n",
    "# age = age + 1\n",
    "age = int(input(\"Enter your age: \"))\n",
    "age = age + 1\n",
    "\n",
    "print(f\"Hello {name}\")\n",
    "print(f\"You are {age} years old\")"
   ]
  },
  {
   "cell_type": "code",
   "execution_count": null,
   "id": "808bf912",
   "metadata": {},
   "outputs": [
    {
     "name": "stdout",
     "output_type": "stream",
     "text": [
      "Today I went to a crazy zoo.\n",
      "In an exhibit, I sawtiger.\n",
      "tiger was happy and sleeping.\n",
      "I was kind \n"
     ]
    }
   ],
   "source": [
    "# Mad libs\n",
    "adjective1 = input(\"Enter an adjective: \")\n",
    "noun = input(\"Enter an noun: \")\n",
    "adjective2 = input(\"Enter an adjective: \")\n",
    "verb = input(\"Enter an verb: \")\n",
    "adjective3 = input(\"Enter an adjective: \")\n",
    "\n",
    "print(f\"Today I went to a {adjective1} zoo.\")\n",
    "print(f\"In an exhibit, I saw {noun}.\")\n",
    "print(f\"{noun} was {adjective2} and {verb}ing.\")\n",
    "print(f\"I was {adjective3} \")"
   ]
  },
  {
   "cell_type": "code",
   "execution_count": 9,
   "id": "f2756532",
   "metadata": {},
   "outputs": [
    {
     "name": "stdout",
     "output_type": "stream",
     "text": [
      "The area is: 575.0cm^3\n"
     ]
    }
   ],
   "source": [
    "# Calculate the area of a rectangle \n",
    "\n",
    "length = float(input(\"Enter in the length of a rectangle: \"))\n",
    "width = float(input(\"Enter in the width of a rectangle: \"))\n",
    "height = float(input(\"Enter in the height of a rectangle: \"))\n",
    "\n",
    "volume = length * width * height\n",
    "print(f\"The area is: {volume}cm^3\")"
   ]
  },
  {
   "cell_type": "code",
   "execution_count": 12,
   "id": "c4d5ebef",
   "metadata": {},
   "outputs": [
    {
     "name": "stdout",
     "output_type": "stream",
     "text": [
      "You have bought 3 x milk /s\n",
      "Your total is: $15.0\n"
     ]
    }
   ],
   "source": [
    "# Shopping cart\n",
    "\n",
    "item = input(\"What item would you like to buy: \")\n",
    "price = float(input(\"What is the price: \"))\n",
    "quantity = int(input(\"How many would you like: \"))\n",
    "\n",
    "total = price * quantity\n",
    "\n",
    "print(f\"You have bought {quantity} x {item}/s\")\n",
    "print(f\"Your total is: ${round(total, 3)}\")"
   ]
  },
  {
   "cell_type": "markdown",
   "id": "71847b66",
   "metadata": {},
   "source": [
    "Math Operators "
   ]
  },
  {
   "cell_type": "code",
   "execution_count": null,
   "id": "d2db6608",
   "metadata": {},
   "outputs": [
    {
     "name": "stdout",
     "output_type": "stream",
     "text": [
      "1\n"
     ]
    }
   ],
   "source": [
    "# Augmented assigment operators\n",
    "\n",
    "# Addition\n",
    "friends = 0 \n",
    "# friends = friends + 1 \n",
    "friends += 1\n",
    "print(friends)"
   ]
  },
  {
   "cell_type": "code",
   "execution_count": 1,
   "id": "acbf3504",
   "metadata": {},
   "outputs": [
    {
     "name": "stdout",
     "output_type": "stream",
     "text": [
      "-1\n"
     ]
    }
   ],
   "source": [
    "# Subtraction\n",
    "friends = 0 \n",
    "# friends = friends - 1 \n",
    "friends -= 1\n",
    "print(friends)"
   ]
  },
  {
   "cell_type": "code",
   "execution_count": 3,
   "id": "97df96a0",
   "metadata": {},
   "outputs": [
    {
     "name": "stdout",
     "output_type": "stream",
     "text": [
      "15\n"
     ]
    }
   ],
   "source": [
    "# Multiplication\n",
    "friends = 5\n",
    "# friends = friends * 3 \n",
    "friends *= 3\n",
    "print(friends)"
   ]
  },
  {
   "cell_type": "code",
   "execution_count": 4,
   "id": "c0113885",
   "metadata": {},
   "outputs": [
    {
     "name": "stdout",
     "output_type": "stream",
     "text": [
      "2.5\n"
     ]
    }
   ],
   "source": [
    "# Division\n",
    "friends = 5 \n",
    "# friends = friends / 2 \n",
    "friends /= 2\n",
    "print(friends)"
   ]
  },
  {
   "cell_type": "code",
   "execution_count": 6,
   "id": "06173f6e",
   "metadata": {},
   "outputs": [
    {
     "name": "stdout",
     "output_type": "stream",
     "text": [
      "25\n"
     ]
    }
   ],
   "source": [
    "# Exponents \n",
    "friends = 5 \n",
    "# friends = friends ** 2\n",
    "friends **= 2\n",
    "print(friends)"
   ]
  },
  {
   "cell_type": "code",
   "execution_count": null,
   "id": "c2e3ce5c",
   "metadata": {},
   "outputs": [
    {
     "name": "stdout",
     "output_type": "stream",
     "text": [
      "1\n"
     ]
    }
   ],
   "source": [
    "# Modulus: remainder of any division\n",
    "friends = 10 \n",
    "remainder = friends % 3 \n",
    "print(remainder)"
   ]
  },
  {
   "cell_type": "markdown",
   "id": "9607f56a",
   "metadata": {},
   "source": [
    "Built in Math Related Functions"
   ]
  },
  {
   "cell_type": "code",
   "execution_count": null,
   "id": "d2261ac8",
   "metadata": {},
   "outputs": [
    {
     "name": "stdout",
     "output_type": "stream",
     "text": [
      "3\n"
     ]
    }
   ],
   "source": [
    "# Rounding \n",
    "\n",
    "x = 3.14 \n",
    "y = 4 \n",
    "z = 5 \n",
    "\n",
    "# X is rounded to the nearest whole integer \n",
    "result = round(x)\n",
    "print(result)"
   ]
  },
  {
   "cell_type": "code",
   "execution_count": null,
   "id": "a1243814",
   "metadata": {},
   "outputs": [
    {
     "name": "stdout",
     "output_type": "stream",
     "text": [
      "4\n"
     ]
    }
   ],
   "source": [
    "# Absolute Value \n",
    "\n",
    "x = 3.14 \n",
    "y = -4 \n",
    "z = 5 \n",
    "\n",
    "# The absolute value of -4 is 4\n",
    "result = abs(y)\n",
    "print(result)"
   ]
  },
  {
   "cell_type": "code",
   "execution_count": 11,
   "id": "7b8af724",
   "metadata": {},
   "outputs": [
    {
     "name": "stdout",
     "output_type": "stream",
     "text": [
      "64\n"
     ]
    }
   ],
   "source": [
    "# Power Function \n",
    "\n",
    "x = 3.14 \n",
    "y = 4 \n",
    "z = 5 \n",
    "\n",
    "# What is 4 to the power of 3?\n",
    "result = pow(4, 3)\n",
    "print(result)"
   ]
  },
  {
   "cell_type": "code",
   "execution_count": 15,
   "id": "b7212ce4",
   "metadata": {},
   "outputs": [
    {
     "name": "stdout",
     "output_type": "stream",
     "text": [
      "5\n",
      "3.14\n"
     ]
    }
   ],
   "source": [
    "# Max Function: Maximum Value\n",
    "# Min Function: Minumum Value\n",
    "\n",
    "x = 3.14 \n",
    "y = 4 \n",
    "z = 5 \n",
    "\n",
    "result = max(x, y, z)\n",
    "result2 = min(x, y, z)\n",
    "print(result)\n",
    "print(result2)"
   ]
  },
  {
   "cell_type": "markdown",
   "id": "cd24bdb6",
   "metadata": {},
   "source": [
    "Math Module "
   ]
  },
  {
   "cell_type": "code",
   "execution_count": 23,
   "id": "8e63c8ac",
   "metadata": {},
   "outputs": [
    {
     "name": "stdout",
     "output_type": "stream",
     "text": [
      "3.141592653589793\n",
      "2.718281828459045\n",
      "3.0\n",
      "10\n",
      "9\n"
     ]
    }
   ],
   "source": [
    "import math \n",
    "\n",
    "# pi\n",
    "print(math.pi)\n",
    "# e\n",
    "print(math.e)\n",
    "\n",
    "# square root\n",
    "x = 9 \n",
    "result = math.sqrt(x)\n",
    "print(result)\n",
    "\n",
    "# ceiling function: rounds a floating point number up\n",
    "y = 9.1\n",
    "result3 = math.ceil(y)\n",
    "print(result3)\n",
    "\n",
    "# floor function: rounds a number down \n",
    "z = 9.1\n",
    "result4 = math.floor(z)\n",
    "print(result4)"
   ]
  },
  {
   "cell_type": "code",
   "execution_count": null,
   "id": "4a734416",
   "metadata": {},
   "outputs": [
    {
     "name": "stdout",
     "output_type": "stream",
     "text": [
      " The circumference of the circle is 31.42\n"
     ]
    }
   ],
   "source": [
    "# Exercise 1: Cirfumference of a Circle \n",
    "\n",
    "import math \n",
    "# C = 2*pi*r \n",
    "radius = float(input(\"Enter in the radius of the circle: \"))\n",
    "circumference = 2 * (math.pi) * radius \n",
    "print(f\" The circumference of the circle is {round(circumference, 2)}\")"
   ]
  },
  {
   "cell_type": "code",
   "execution_count": 32,
   "id": "5442c123",
   "metadata": {},
   "outputs": [
    {
     "name": "stdout",
     "output_type": "stream",
     "text": [
      " The area of the circle is 346.36cm^2\n"
     ]
    }
   ],
   "source": [
    "# Excercise 2: Area of a Circle \n",
    "\n",
    "import math \n",
    "# A = pir^2\n",
    "r = float(input(\"Enter in the radius of the circle: \"))\n",
    "Area = (math.pi) * pow(r, 2)\n",
    "print(f\" The area of the circle is {round(Area, 2)}cm^2\")"
   ]
  },
  {
   "cell_type": "code",
   "execution_count": 34,
   "id": "3aea6181",
   "metadata": {},
   "outputs": [
    {
     "name": "stdout",
     "output_type": "stream",
     "text": [
      "The hypotenuse of the triangle is 5.0\n"
     ]
    }
   ],
   "source": [
    "# Excercise 3: Hypotenuse Calculator \n",
    "\n",
    "import math \n",
    "# c = sqrt(a^2 + b^2)\n",
    "a = float(input(\"Enter in the value for a: \"))\n",
    "b = float(input(\"Enter in the value for b: \"))\n",
    "c = math.sqrt(pow(a, 2) + pow(b, 2))\n",
    "print(f\"The hypotenuse of the triangle is {round(c, 2)}\")\n"
   ]
  },
  {
   "cell_type": "markdown",
   "id": "52d1bcd7",
   "metadata": {},
   "source": [
    "If statements: If, elif, and else \n",
    "\n",
    "If: Do some code if some condition is True \n",
    "\n",
    "Else: do something else (we don't do it)"
   ]
  },
  {
   "cell_type": "code",
   "execution_count": 38,
   "id": "451ebc93",
   "metadata": {},
   "outputs": [
    {
     "name": "stdout",
     "output_type": "stream",
     "text": [
      "You are too old to sign up.\n"
     ]
    }
   ],
   "source": [
    "age = int(input(\"Enter your age: \"))\n",
    "\n",
    "if age >= 100: \n",
    "    print(\"You are too old to sign up.\")\n",
    "elif age >= 18: \n",
    "    print(\"You can sign up for a credit card.\")\n",
    "elif age < 0:\n",
    "    print(\"You haven't been born yet.\")\n",
    "else: \n",
    "    print(\"You are too young.\")"
   ]
  },
  {
   "cell_type": "code",
   "execution_count": 41,
   "id": "db3bbe2a",
   "metadata": {},
   "outputs": [
    {
     "name": "stdout",
     "output_type": "stream",
     "text": [
      "No food for you!\n"
     ]
    }
   ],
   "source": [
    "response = input(\"Would you like food? (Y/N): \")\n",
    "\n",
    "if response == \"Y\": \n",
    "    print(\"Have some food!\")\n",
    "else: \n",
    "    print(\"No food for you!\")"
   ]
  },
  {
   "cell_type": "code",
   "execution_count": 43,
   "id": "4e89fa0e",
   "metadata": {},
   "outputs": [
    {
     "name": "stdout",
     "output_type": "stream",
     "text": [
      "You didn't enter in anything!\n"
     ]
    }
   ],
   "source": [
    "name = input(\"Enter your name: \")\n",
    "\n",
    "if name == \"\":\n",
    "    print(\"You didn't enter in anything!\")\n",
    "else: \n",
    "    print(f\"Hello {name}\")"
   ]
  },
  {
   "cell_type": "code",
   "execution_count": 44,
   "id": "34d56971",
   "metadata": {},
   "outputs": [
    {
     "name": "stdout",
     "output_type": "stream",
     "text": [
      "This item is for sale\n"
     ]
    }
   ],
   "source": [
    "# Booleans with If statements\n",
    "\n",
    "for_sale = True \n",
    "\n",
    "if for_sale: \n",
    "    print(\"This item is for sale\")\n",
    "else: \n",
    "    print(\"This item is not for sale\")"
   ]
  },
  {
   "cell_type": "code",
   "execution_count": 48,
   "id": "97ca041c",
   "metadata": {},
   "outputs": [
    {
     "name": "stdout",
     "output_type": "stream",
     "text": [
      "Pizza is not valid operator.\n"
     ]
    }
   ],
   "source": [
    "# Python Calculator \n",
    "\n",
    "operator = input(\"Enter an operator(+ - * /): \")\n",
    "num1 = int(input(\"Enter in the first number: \"))\n",
    "num2 = int(input(\"Enter in the second number: \"))\n",
    "\n",
    "if operator == \"+\": \n",
    "    result = (num1 + num2)\n",
    "    print(round(result, 3))\n",
    "elif operator == \"-\": \n",
    "    result = (num1 - num2)\n",
    "    print(round(result, 3))\n",
    "elif operator == \"*\": \n",
    "    result = (num1 * num2)\n",
    "    print(round(result, 3))\n",
    "elif operator == \"/\": \n",
    "    result = (num1 / num2)\n",
    "    print(round(result, 3))\n",
    "else: \n",
    "    print(f\"{operator} is not valid operator.\")"
   ]
  },
  {
   "cell_type": "code",
   "execution_count": 55,
   "id": "6d2bd6f1",
   "metadata": {},
   "outputs": [
    {
     "name": "stdout",
     "output_type": "stream",
     "text": [
      "Pizzas is invalid.\n"
     ]
    }
   ],
   "source": [
    "# Weight Converter\n",
    "\n",
    "# Pounds to KG or KG to Pounds\n",
    "\n",
    "weight = float(input(\"Enter your weight: \"))\n",
    "unit = input(\"Kilograms or pounds? (K or L): \")\n",
    "\n",
    "if unit == \"K\": \n",
    "    weight = weight * 2.205\n",
    "    unit = \"Lbs.\"\n",
    "    print(f\"Your weight is {round(weight, 1)} {unit}\")\n",
    "elif unit == \"L\": \n",
    "    weight = weight / 2.205\n",
    "    unit = \"Kgs.\"\n",
    "    print(f\"Your weight is {round(weight, 1)} {unit}\")\n",
    "else: \n",
    "    print(f\"{unit} is invalid.\")\n"
   ]
  },
  {
   "cell_type": "code",
   "execution_count": null,
   "id": "ed897994",
   "metadata": {},
   "outputs": [
    {
     "name": "stdout",
     "output_type": "stream",
     "text": [
      "Your temperature in Celsius 33.0 F\n"
     ]
    }
   ],
   "source": [
    "# Temperature Conversion \n",
    "\n",
    "unit = input(\"Fahrenheit or Celsius? (F or C): \")\n",
    "temp = float(input(\"Enter your temp: \"))\n",
    "\n",
    "if unit == \"C\": \n",
    "    temp = round((9 * temp ) / 5 + 32, 1)\n",
    "    print(f\"Your temperature in Fahrenheit {round(temp, 1)} {temp}\")\n",
    "elif unit == \"F\": \n",
    "    temp = round((temp - 32) * 5/9, 1)\n",
    "    print(f\"Your temperature in Celsius {round(temp, 1)} {temp}\")\n",
    "else: \n",
    "    print(f\"{unit} is invalid.\")"
   ]
  },
  {
   "cell_type": "markdown",
   "id": "b5cb50c3",
   "metadata": {},
   "source": [
    "Logical Operators: Used on conditional statements \n",
    "\n",
    "and = checks 2 or more conditions are true \n",
    "\n",
    "or = checks if atleast 1 condition is true \n",
    "\n",
    "not = true if condition is false, vice versa\n"
   ]
  },
  {
   "cell_type": "code",
   "execution_count": 65,
   "id": "0abf0b16",
   "metadata": {},
   "outputs": [
    {
     "name": "stdout",
     "output_type": "stream",
     "text": [
      "The temperature is bad.\n"
     ]
    }
   ],
   "source": [
    "# Using and \n",
    "\n",
    "temp = 40\n",
    "\n",
    "if temp > 0 and temp < 30: \n",
    "    print(\"The temperature is good.\")\n",
    "else: \n",
    "    print(\"The temperature is bad.\")"
   ]
  },
  {
   "cell_type": "code",
   "execution_count": null,
   "id": "aa6115f1",
   "metadata": {},
   "outputs": [
    {
     "name": "stdout",
     "output_type": "stream",
     "text": [
      "The temperature is good.\n"
     ]
    }
   ],
   "source": [
    "# Using or \n",
    "\n",
    "temp = 15\n",
    "\n",
    "# if the temp is less than or equal to 0 \n",
    "# if the temp is greater than or equal to 30\n",
    "# one condition needs to be true for the temp \n",
    "if temp <= 0 or temp >= 30: \n",
    "    print(\"The temperature is bad.\")\n",
    "else: \n",
    "    # if neither are true\n",
    "    print(\"The temperature is good.\")"
   ]
  },
  {
   "cell_type": "code",
   "execution_count": 75,
   "id": "fc17159d",
   "metadata": {},
   "outputs": [
    {
     "name": "stdout",
     "output_type": "stream",
     "text": [
      "It's sunny outside.\n"
     ]
    }
   ],
   "source": [
    "# using not \n",
    "\n",
    "sunny = True \n",
    "\n",
    "if sunny: \n",
    "    print(\"It's sunny outside.\")\n",
    "else: \n",
    "    print(\"It's cloudy outside.\")"
   ]
  },
  {
   "cell_type": "code",
   "execution_count": 76,
   "id": "1bc3bca2",
   "metadata": {},
   "outputs": [
    {
     "name": "stdout",
     "output_type": "stream",
     "text": [
      "It's sunny outside.\n"
     ]
    }
   ],
   "source": [
    "sunny = True \n",
    "\n",
    "if not sunny: \n",
    "    print(\"It's cloudy outside.\")\n",
    "else: \n",
    "    print(\"It's sunny outside.\")"
   ]
  },
  {
   "cell_type": "markdown",
   "id": "e3bdd23c",
   "metadata": {},
   "source": [
    "Conditional Expressions: a oneline shortcut for the if-else statement (ternary operator)\n",
    "\n",
    "Print or assign one of two values based on a condition \n",
    "\n",
    "EX: X if condition else Y\n",
    "\n",
    "Return X if our condition is true, else return Y"
   ]
  },
  {
   "cell_type": "code",
   "execution_count": 77,
   "id": "aafbb2e8",
   "metadata": {},
   "outputs": [
    {
     "name": "stdout",
     "output_type": "stream",
     "text": [
      "Positive\n"
     ]
    }
   ],
   "source": [
    "num = 5 \n",
    "\n",
    "print(\"Positive\" if num > 0 else \"Negative\")"
   ]
  },
  {
   "cell_type": "code",
   "execution_count": 78,
   "id": "240e36ee",
   "metadata": {},
   "outputs": [
    {
     "name": "stdout",
     "output_type": "stream",
     "text": [
      "Negative\n"
     ]
    }
   ],
   "source": [
    "num = -5 \n",
    "\n",
    "print(\"Positive\" if num > 0 else \"Negative\")"
   ]
  },
  {
   "cell_type": "code",
   "execution_count": 80,
   "id": "92c9a9ea",
   "metadata": {},
   "outputs": [
    {
     "name": "stdout",
     "output_type": "stream",
     "text": [
      "Even\n"
     ]
    }
   ],
   "source": [
    "num = 6 \n",
    "\n",
    "print(\"Even\" if num % 2 == 0 else \"Odd\")"
   ]
  },
  {
   "cell_type": "code",
   "execution_count": 81,
   "id": "e780c6f7",
   "metadata": {},
   "outputs": [
    {
     "name": "stdout",
     "output_type": "stream",
     "text": [
      "Odd\n"
     ]
    }
   ],
   "source": [
    "num = 5 \n",
    "\n",
    "print(\"Even\" if num % 2 == 0 else \"Odd\")"
   ]
  },
  {
   "cell_type": "code",
   "execution_count": 83,
   "id": "87c46283",
   "metadata": {},
   "outputs": [
    {
     "name": "stdout",
     "output_type": "stream",
     "text": [
      "7\n"
     ]
    }
   ],
   "source": [
    "a = 6 \n",
    "b = 7 \n",
    "\n",
    "max_num = a if a > b else b \n",
    "print(max_num)"
   ]
  },
  {
   "cell_type": "code",
   "execution_count": 85,
   "id": "f964e18c",
   "metadata": {},
   "outputs": [
    {
     "name": "stdout",
     "output_type": "stream",
     "text": [
      "6\n"
     ]
    }
   ],
   "source": [
    "a = 6 \n",
    "b = 7 \n",
    "\n",
    "min_num = a if a < b else b \n",
    "print(min_num)"
   ]
  },
  {
   "cell_type": "code",
   "execution_count": null,
   "id": "600285cd",
   "metadata": {},
   "outputs": [
    {
     "name": "stdout",
     "output_type": "stream",
     "text": [
      "Adult\n"
     ]
    }
   ],
   "source": [
    "age = 25 \n",
    "status = \"Adult\" if age >= 18 else \"Minor\"\n",
    "print(status)"
   ]
  },
  {
   "cell_type": "code",
   "execution_count": 90,
   "id": "9e0ba924",
   "metadata": {},
   "outputs": [
    {
     "name": "stdout",
     "output_type": "stream",
     "text": [
      "Hot\n"
     ]
    }
   ],
   "source": [
    "temperature = 30 \n",
    "weather = \"Hot\" if temperature > 20 else \"Cold\"\n",
    "print(weather)"
   ]
  },
  {
   "cell_type": "code",
   "execution_count": null,
   "id": "bc18d48b",
   "metadata": {},
   "outputs": [
    {
     "name": "stdout",
     "output_type": "stream",
     "text": [
      "Full access\n"
     ]
    },
    {
     "ename": "",
     "evalue": "",
     "output_type": "error",
     "traceback": [
      "\u001b[1;31mThe Kernel crashed while executing code in the current cell or a previous cell. \n",
      "\u001b[1;31mPlease review the code in the cell(s) to identify a possible cause of the failure. \n",
      "\u001b[1;31mClick <a href='https://aka.ms/vscodeJupyterKernelCrash'>here</a> for more info. \n",
      "\u001b[1;31mView Jupyter <a href='command:jupyter.viewOutput'>log</a> for further details."
     ]
    }
   ],
   "source": [
    "user_role = \"admin\"\n",
    "access_level = \"Full access\" if user_role == \"admin\" else \"not admin\"\n",
    "print(access_level)"
   ]
  },
  {
   "cell_type": "markdown",
   "id": "092f7bcd",
   "metadata": {},
   "source": [
    "String Methods"
   ]
  },
  {
   "cell_type": "code",
   "execution_count": null,
   "id": "2ff8b6b2",
   "metadata": {},
   "outputs": [],
   "source": [
    "name = input(\"Enter your full name: \")"
   ]
  }
 ],
 "metadata": {
  "kernelspec": {
   "display_name": ".venv",
   "language": "python",
   "name": "python3"
  },
  "language_info": {
   "codemirror_mode": {
    "name": "ipython",
    "version": 3
   },
   "file_extension": ".py",
   "mimetype": "text/x-python",
   "name": "python",
   "nbconvert_exporter": "python",
   "pygments_lexer": "ipython3",
   "version": "3.13.4"
  }
 },
 "nbformat": 4,
 "nbformat_minor": 5
}
