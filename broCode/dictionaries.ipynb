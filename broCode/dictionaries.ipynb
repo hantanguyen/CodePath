{
 "cells": [
  {
   "cell_type": "markdown",
   "id": "6236d0e8",
   "metadata": {},
   "source": [
    "Learning how to: \n",
    "\n",
    "Create and modify a dictionary\n",
    "\n",
    "Access and loop over keys, values, and key-value pairs in a dictionary\n",
    "\n",
    "Solve problems using frequency maps\n",
    "\n",
    "Solve problems involving lists, dictionaries, or a combination of a lists and dictionaries"
   ]
  },
  {
   "cell_type": "code",
   "execution_count": null,
   "id": "3b05b842",
   "metadata": {},
   "outputs": [
    {
     "name": "stdout",
     "output_type": "stream",
     "text": [
      "['__class__', '__class_getitem__', '__contains__', '__delattr__', '__delitem__', '__dir__', '__doc__', '__eq__', '__format__', '__ge__', '__getattribute__', '__getitem__', '__getstate__', '__gt__', '__hash__', '__init__', '__init_subclass__', '__ior__', '__iter__', '__le__', '__len__', '__lt__', '__ne__', '__new__', '__or__', '__reduce__', '__reduce_ex__', '__repr__', '__reversed__', '__ror__', '__setattr__', '__setitem__', '__sizeof__', '__str__', '__subclasshook__', 'clear', 'copy', 'fromkeys', 'get', 'items', 'keys', 'pop', 'popitem', 'setdefault', 'update', 'values']\n",
      "Help on dict object:\n",
      "\n",
      "class dict(object)\n",
      " |  dict() -> new empty dictionary\n",
      " |  dict(mapping) -> new dictionary initialized from a mapping object's\n",
      " |      (key, value) pairs\n",
      " |  dict(iterable) -> new dictionary initialized as if via:\n",
      " |      d = {}\n",
      " |      for k, v in iterable:\n",
      " |          d[k] = v\n",
      " |  dict(**kwargs) -> new dictionary initialized with the name=value pairs\n",
      " |      in the keyword argument list.  For example:  dict(one=1, two=2)\n",
      " |\n",
      " |  Methods defined here:\n",
      " |\n",
      " |  __contains__(self, key, /)\n",
      " |      True if the dictionary has the specified key, else False.\n",
      " |\n",
      " |  __delitem__(self, key, /)\n",
      " |      Delete self[key].\n",
      " |\n",
      " |  __eq__(self, value, /)\n",
      " |      Return self==value.\n",
      " |\n",
      " |  __ge__(self, value, /)\n",
      " |      Return self>=value.\n",
      " |\n",
      " |  __getattribute__(self, name, /)\n",
      " |      Return getattr(self, name).\n",
      " |\n",
      " |  __getitem__(self, key, /)\n",
      " |      Return self[key].\n",
      " |\n",
      " |  __gt__(self, value, /)\n",
      " |      Return self>value.\n",
      " |\n",
      " |  __init__(self, /, *args, **kwargs)\n",
      " |      Initialize self.  See help(type(self)) for accurate signature.\n",
      " |\n",
      " |  __ior__(self, value, /)\n",
      " |      Return self|=value.\n",
      " |\n",
      " |  __iter__(self, /)\n",
      " |      Implement iter(self).\n",
      " |\n",
      " |  __le__(self, value, /)\n",
      " |      Return self<=value.\n",
      " |\n",
      " |  __len__(self, /)\n",
      " |      Return len(self).\n",
      " |\n",
      " |  __lt__(self, value, /)\n",
      " |      Return self<value.\n",
      " |\n",
      " |  __ne__(self, value, /)\n",
      " |      Return self!=value.\n",
      " |\n",
      " |  __or__(self, value, /)\n",
      " |      Return self|value.\n",
      " |\n",
      " |  __repr__(self, /)\n",
      " |      Return repr(self).\n",
      " |\n",
      " |  __reversed__(self, /)\n",
      " |      Return a reverse iterator over the dict keys.\n",
      " |\n",
      " |  __ror__(self, value, /)\n",
      " |      Return value|self.\n",
      " |\n",
      " |  __setitem__(self, key, value, /)\n",
      " |      Set self[key] to value.\n",
      " |\n",
      " |  __sizeof__(self, /)\n",
      " |      Return the size of the dict in memory, in bytes.\n",
      " |\n",
      " |  clear(self, /)\n",
      " |      Remove all items from the dict.\n",
      " |\n",
      " |  copy(self, /)\n",
      " |      Return a shallow copy of the dict.\n",
      " |\n",
      " |  get(self, key, default=None, /)\n",
      " |      Return the value for key if key is in the dictionary, else default.\n",
      " |\n",
      " |  items(self, /)\n",
      " |      Return a set-like object providing a view on the dict's items.\n",
      " |\n",
      " |  keys(self, /)\n",
      " |      Return a set-like object providing a view on the dict's keys.\n",
      " |\n",
      " |  pop(self, key, default=<unrepresentable>, /)\n",
      " |      D.pop(k[,d]) -> v, remove specified key and return the corresponding value.\n",
      " |\n",
      " |      If the key is not found, return the default if given; otherwise,\n",
      " |      raise a KeyError.\n",
      " |\n",
      " |  popitem(self, /)\n",
      " |      Remove and return a (key, value) pair as a 2-tuple.\n",
      " |\n",
      " |      Pairs are returned in LIFO (last-in, first-out) order.\n",
      " |      Raises KeyError if the dict is empty.\n",
      " |\n",
      " |  setdefault(self, key, default=None, /)\n",
      " |      Insert key with a value of default if key is not in the dictionary.\n",
      " |\n",
      " |      Return the value for key if key is in the dictionary, else default.\n",
      " |\n",
      " |  update(...)\n",
      " |      D.update([E, ]**F) -> None.  Update D from mapping/iterable E and F.\n",
      " |      If E is present and has a .keys() method, then does:  for k in E.keys(): D[k] = E[k]\n",
      " |      If E is present and lacks a .keys() method, then does:  for k, v in E: D[k] = v\n",
      " |      In either case, this is followed by: for k in F:  D[k] = F[k]\n",
      " |\n",
      " |  values(self, /)\n",
      " |      Return an object providing a view on the dict's values.\n",
      " |\n",
      " |  ----------------------------------------------------------------------\n",
      " |  Class methods defined here:\n",
      " |\n",
      " |  __class_getitem__(object, /)\n",
      " |      See PEP 585\n",
      " |\n",
      " |  fromkeys(iterable, value=None, /)\n",
      " |      Create a new dictionary with keys from iterable and values set to value.\n",
      " |\n",
      " |  ----------------------------------------------------------------------\n",
      " |  Static methods defined here:\n",
      " |\n",
      " |  __new__(*args, **kwargs)\n",
      " |      Create and return a new object.  See help(type) for accurate signature.\n",
      " |\n",
      " |  ----------------------------------------------------------------------\n",
      " |  Data and other attributes defined here:\n",
      " |\n",
      " |  __hash__ = None\n",
      "\n",
      "None\n"
     ]
    }
   ],
   "source": [
    "# Dictionary: a collection of {key : value} pairs that are ordered and changeable. There are no duplicates\n",
    "\n",
    "# Example: Countries and Capitals \n",
    "\n",
    "capitals = {\"USA\" : \"Washington D.C\", \n",
    "            \"India\" : \"New Delhi\", \n",
    "            \"China\" : \"Beijing\", \n",
    "            \"Russia\": \"Moscow\"}\n",
    "\n",
    "# to see the different attributes and methods of a dictionary you can use the dir function\n",
    "print(dir(capitals))\n",
    "# You can also use the help function to see what they do \n",
    "print(help(capitals))\n"
   ]
  },
  {
   "cell_type": "code",
   "execution_count": 21,
   "id": "b9d8ff86",
   "metadata": {},
   "outputs": [
    {
     "name": "stdout",
     "output_type": "stream",
     "text": [
      "Washington D.C\n",
      "None\n"
     ]
    }
   ],
   "source": [
    "# Dictionary Methods \n",
    "\n",
    "# To get one of the values in the dictionary you would get the key \n",
    "\n",
    "capitals = {\"USA\" : \"Washington D.C\", \n",
    "            \"India\" : \"New Delhi\", \n",
    "            \"China\" : \"Beijing\", \n",
    "            \"Russia\": \"Moscow\" }\n",
    "# the get method prints the associated value \n",
    "print(capitals.get(\"USA\"))\n",
    "# If python doesn't find a key\n",
    "print(capitals.get(\"Japan\"))\n"
   ]
  },
  {
   "cell_type": "code",
   "execution_count": 20,
   "id": "1832136b",
   "metadata": {},
   "outputs": [
    {
     "name": "stdout",
     "output_type": "stream",
     "text": [
      "That capital does not exist\n",
      "That capital exists\n"
     ]
    }
   ],
   "source": [
    "# Using it in an if statement \n",
    "\n",
    "capitals = {\"USA\" : \"Washington D.C\", \n",
    "            \"India\" : \"New Delhi\", \n",
    "            \"China\" : \"Beijing\", \n",
    "            \"Russia\": \"Moscow\" }\n",
    "\n",
    "if capitals.get(\"Japan\"): \n",
    "    print(\"That capital exists\")\n",
    "else:\n",
    "    print(\"That capital does not exist\")\n",
    "\n",
    "if capitals.get(\"Russia\"): \n",
    "    print(\"That capital exists\")\n",
    "else:\n",
    "    print(\"That capital does not exist\")"
   ]
  },
  {
   "cell_type": "code",
   "execution_count": 22,
   "id": "2ab0cf2e",
   "metadata": {},
   "outputs": [
    {
     "name": "stdout",
     "output_type": "stream",
     "text": [
      "{'USA': 'Detroit', 'India': 'New Delhi', 'China': 'Bejing', 'Russia': 'Moscow', 'Germany': 'Berlin'}\n"
     ]
    }
   ],
   "source": [
    "# Updating a dictionary \n",
    "# using the update method we can insert a new key:value pair or update an existing one\n",
    "\n",
    "capitals.update({\"Germany\" : \"Berlin\"})\n",
    "capitals.update({\"USA\" : \"Detroit\"})\n",
    "capitals.update({\"China\" : \"Bejing\"})\n",
    "print(capitals)"
   ]
  },
  {
   "cell_type": "code",
   "execution_count": 17,
   "id": "45f1e766",
   "metadata": {},
   "outputs": [
    {
     "name": "stdout",
     "output_type": "stream",
     "text": [
      "{'USA': 'Detroit', 'India': 'New Delhi', 'Russia': 'Moscow', 'Germany': 'Berlin'}\n"
     ]
    }
   ],
   "source": [
    "# Removing a key:value pair in a dictionary use the pop method \n",
    "\n",
    "capitals.pop(\"China\")\n",
    "print(capitals)\n"
   ]
  },
  {
   "cell_type": "code",
   "execution_count": 18,
   "id": "644da8eb",
   "metadata": {},
   "outputs": [
    {
     "data": {
      "text/plain": [
       "('Germany', 'Berlin')"
      ]
     },
     "execution_count": 18,
     "metadata": {},
     "output_type": "execute_result"
    }
   ],
   "source": [
    "# Removing the latest key:value pair by using the pop item method (you don't need to add the key)\n",
    "capitals.popitem()"
   ]
  },
  {
   "cell_type": "code",
   "execution_count": null,
   "id": "73784de5",
   "metadata": {},
   "outputs": [],
   "source": [
    "# Clear: clears the entire dictionary \n",
    "# capitals.clear()"
   ]
  },
  {
   "cell_type": "code",
   "execution_count": 23,
   "id": "318d17b3",
   "metadata": {},
   "outputs": [
    {
     "name": "stdout",
     "output_type": "stream",
     "text": [
      "dict_keys(['USA', 'India', 'China', 'Russia', 'Germany'])\n"
     ]
    }
   ],
   "source": [
    "# To get all of the keys within the dictionary but not the values we use the keys method\n",
    "keys = capitals.keys()\n",
    "print(keys)"
   ]
  },
  {
   "cell_type": "code",
   "execution_count": null,
   "id": "10656670",
   "metadata": {},
   "outputs": [
    {
     "name": "stdout",
     "output_type": "stream",
     "text": [
      "USA\n",
      "India\n",
      "China\n",
      "Russia\n",
      "Germany\n"
     ]
    }
   ],
   "source": [
    "# You can iterate through the keys \n",
    "for key in capitals.keys(): \n",
    "    print(key)"
   ]
  },
  {
   "cell_type": "code",
   "execution_count": null,
   "id": "32626958",
   "metadata": {},
   "outputs": [
    {
     "name": "stdout",
     "output_type": "stream",
     "text": [
      "dict_values(['Detroit', 'New Delhi', 'Bejing', 'Moscow', 'Berlin'])\n"
     ]
    }
   ],
   "source": [
    "# To get all of the values within the dictionary but not the keys we use the value method \n",
    "values = capitals.values()\n",
    "print(values)"
   ]
  },
  {
   "cell_type": "code",
   "execution_count": null,
   "id": "5ce8a2b6",
   "metadata": {},
   "outputs": [
    {
     "name": "stdout",
     "output_type": "stream",
     "text": [
      "Detroit\n",
      "New Delhi\n",
      "Bejing\n",
      "Moscow\n",
      "Berlin\n"
     ]
    }
   ],
   "source": [
    "# You can iterate through the values \n",
    "for values in capitals.values(): \n",
    "    print(values)"
   ]
  },
  {
   "cell_type": "code",
   "execution_count": null,
   "id": "61fbb3af",
   "metadata": {},
   "outputs": [
    {
     "name": "stdout",
     "output_type": "stream",
     "text": [
      "dict_items([('USA', 'Detroit'), ('India', 'New Delhi'), ('China', 'Bejing'), ('Russia', 'Moscow'), ('Germany', 'Berlin')])\n"
     ]
    }
   ],
   "source": [
    "# the items method resembles a 2d list of tuples \n",
    "\n",
    "items = capitals.items()\n",
    "print(items)"
   ]
  },
  {
   "cell_type": "code",
   "execution_count": 29,
   "id": "8345d718",
   "metadata": {},
   "outputs": [
    {
     "name": "stdout",
     "output_type": "stream",
     "text": [
      "USA: Detroit\n",
      "India: New Delhi\n",
      "China: Bejing\n",
      "Russia: Moscow\n",
      "Germany: Berlin\n"
     ]
    }
   ],
   "source": [
    "for key, value in capitals.items(): \n",
    "    print(f\"{key}: {value}\")"
   ]
  },
  {
   "cell_type": "markdown",
   "id": "7dc95918",
   "metadata": {},
   "source": [
    "11 Dictionary Methods \n",
    "1. values() \n",
    "2. keys()\n",
    "3. pop()\n",
    "4. popitem()\n",
    "5. copy()\n",
    "6. get()\n",
    "7. setdefault()\n",
    "8. clear()\n",
    "9. fromkeys()\n",
    "10. items()\n",
    "11. update()"
   ]
  },
  {
   "cell_type": "code",
   "execution_count": null,
   "id": "75f124c4",
   "metadata": {},
   "outputs": [
    {
     "name": "stdout",
     "output_type": "stream",
     "text": [
      "dict_values(['Mario', 'Luigi', 'James'])\n"
     ]
    }
   ],
   "source": [
    "# 1. values(): grabs the values from the dictionaries \n",
    "users: dict = {0: 'Mario', 1: 'Luigi', 2: 'James'}\n",
    "print(users.values())"
   ]
  },
  {
   "cell_type": "code",
   "execution_count": 34,
   "id": "ef57986a",
   "metadata": {},
   "outputs": [
    {
     "name": "stdout",
     "output_type": "stream",
     "text": [
      "dict_keys([0, 1, 2])\n"
     ]
    }
   ],
   "source": [
    "# 2. keys(): gets all the keys from the dictionaries\n",
    "users: dict = {0: 'Mario', 1: 'Luigi', 2: 'James'}\n",
    "print(users.keys())"
   ]
  },
  {
   "cell_type": "code",
   "execution_count": 36,
   "id": "8ce651e5",
   "metadata": {},
   "outputs": [
    {
     "name": "stdout",
     "output_type": "stream",
     "text": [
      "James\n",
      "{0: 'Mario', 1: 'Luigi'}\n"
     ]
    }
   ],
   "source": [
    "# 3. pop(): removes a specified key \n",
    "users: dict = {0: 'Mario', 1: 'Luigi', 2: 'James'}\n",
    "popped: str = users.pop(2)\n",
    "print(popped)\n",
    "print(users)"
   ]
  },
  {
   "cell_type": "code",
   "execution_count": 37,
   "id": "fa43aa18",
   "metadata": {},
   "outputs": [
    {
     "name": "stdout",
     "output_type": "stream",
     "text": [
      "{0: 'Mario', 1: 'Luigi'}\n"
     ]
    }
   ],
   "source": [
    "# 4. popitem(): pops the last item from the dictionary\n",
    "users: dict = {0: 'Mario', 1: 'Luigi', 2: 'James'}\n",
    "users.popitem()\n",
    "print(users)"
   ]
  },
  {
   "cell_type": "code",
   "execution_count": null,
   "id": "dec186ed",
   "metadata": {},
   "outputs": [],
   "source": [
    "# 5. copy(): makes a copy of the dictionary\n",
    "sample_dict: dict = {0: ['a', 'b'], 1:['c','d']}\n",
    "my_copy: dict = sample_dict.copy()\n",
    "print(sample_dict)\n",
    "print(my_copy)"
   ]
  },
  {
   "cell_type": "code",
   "execution_count": 39,
   "id": "9bd1ae2c",
   "metadata": {},
   "outputs": [
    {
     "name": "stdout",
     "output_type": "stream",
     "text": [
      "1976195707584\n",
      "1976196180480\n"
     ]
    }
   ],
   "source": [
    "# we can check if they're really different by using the ID method \n",
    "sample_dict: dict = {0: ['a', 'b'], 1:['c','d']}\n",
    "my_copy: dict = sample_dict.copy()\n",
    "print(id(sample_dict))\n",
    "print(id(my_copy))"
   ]
  },
  {
   "cell_type": "code",
   "execution_count": null,
   "id": "2468a8d8",
   "metadata": {},
   "outputs": [
    {
     "name": "stdout",
     "output_type": "stream",
     "text": [
      "{0: ['!!!', 'b'], 1: ['c', 'd']}\n",
      "{0: ['!!!', 'b'], 1: ['c', 'd']}\n"
     ]
    }
   ],
   "source": [
    "# the dictionary is unique, the references inside are not unique\n",
    "sample_dict: dict = {0: ['a', 'b'], 1:['c','d']}\n",
    "my_copy: dict = sample_dict.copy()\n",
    "my_copy[0][0] = '!!!'\n",
    "\n",
    "print(sample_dict)\n",
    "print(my_copy)"
   ]
  },
  {
   "cell_type": "code",
   "execution_count": null,
   "id": "bd210cae",
   "metadata": {},
   "outputs": [
    {
     "name": "stdout",
     "output_type": "stream",
     "text": [
      "Luigi\n",
      "missing\n"
     ]
    }
   ],
   "source": [
    "# 6. get(): get a value from a dictionary \n",
    "users: dict = {0: 'Mario', 1: 'Luigi', 2: 'James'}\n",
    "print(users.get(1))\n",
    "# if a key does not exist then a message can be returned\n",
    "print(users.get(999, 'missing'))"
   ]
  },
  {
   "cell_type": "code",
   "execution_count": null,
   "id": "504672f0",
   "metadata": {},
   "outputs": [
    {
     "name": "stdout",
     "output_type": "stream",
     "text": [
      "Mario\n",
      "???\n",
      "{0: 'Mario', 1: 'Luigi', 2: 'James', 999: '???'}\n"
     ]
    }
   ],
   "source": [
    "# 7. setdefault(): grabs a key value pair and if it doesn't exist then it's created\n",
    "users: dict = {0: 'Mario', 1: 'Luigi', 2: 'James'}\n",
    "print(users.setdefault(0, '???'))\n",
    "print(users.setdefault(999, '???'))\n",
    "print(users)"
   ]
  },
  {
   "cell_type": "code",
   "execution_count": 47,
   "id": "6b012cf2",
   "metadata": {},
   "outputs": [
    {
     "name": "stdout",
     "output_type": "stream",
     "text": [
      "{}\n"
     ]
    }
   ],
   "source": [
    "# 8. clear(): the entire dictionary is cleared \n",
    "users: dict = {0: 'Mario', 1: 'Luigi', 2: 'James'}\n",
    "users.clear()\n",
    "print(users)"
   ]
  },
  {
   "cell_type": "code",
   "execution_count": null,
   "id": "66bb8516",
   "metadata": {},
   "outputs": [
    {
     "name": "stdout",
     "output_type": "stream",
     "text": [
      "{'Mario': 'unknown', 'Luigi': 'unknown', 'James': 'unknown'}\n"
     ]
    }
   ],
   "source": [
    "# 9. fromkeys(): returns a dictionary with the specified keys and specified values \n",
    "\n",
    "people: list[str] = ['Mario', 'Luigi', 'James']\n",
    "users: dict = dict.fromkeys(people, 'unknown')\n",
    "print(users)"
   ]
  },
  {
   "cell_type": "code",
   "execution_count": 50,
   "id": "305b0978",
   "metadata": {},
   "outputs": [
    {
     "name": "stdout",
     "output_type": "stream",
     "text": [
      "dict_items([(0, 'Mario'), (1, 'Luigi'), (2, 'James')])\n"
     ]
    }
   ],
   "source": [
    "# 10. items(): iterables that contains the tuples of keys\n",
    "users: dict = {0: 'Mario', 1: 'Luigi', 2: 'James'}\n",
    "print(users.items())"
   ]
  },
  {
   "cell_type": "code",
   "execution_count": 51,
   "id": "0b9bc716",
   "metadata": {},
   "outputs": [
    {
     "name": "stdout",
     "output_type": "stream",
     "text": [
      "{0: 'Mario', 1: 'Luigi', 2: 'Bob', 3: \"James's sister\"}\n"
     ]
    }
   ],
   "source": [
    "# 11. update(): modify ot expand dictionary \n",
    "users: dict = {0: 'Mario', 1: 'Luigi', 2: 'James'}\n",
    "users.update({2: 'Bob', 3: 'James\\'s sister'})\n",
    "print(users)"
   ]
  },
  {
   "cell_type": "code",
   "execution_count": 52,
   "id": "884f2392",
   "metadata": {},
   "outputs": [
    {
     "name": "stdout",
     "output_type": "stream",
     "text": [
      "{0: 'Mario', 1: 'Luigi', 2: 'James', 10: 'Spam', 11: 'Eggs'}\n"
     ]
    }
   ],
   "source": [
    "# using the union operator: |\n",
    "users: dict = {0: 'Mario', 1: 'Luigi', 2: 'James'}\n",
    "print(users | {10: 'Spam', 11: 'Eggs'})"
   ]
  }
 ],
 "metadata": {
  "kernelspec": {
   "display_name": ".venv",
   "language": "python",
   "name": "python3"
  },
  "language_info": {
   "codemirror_mode": {
    "name": "ipython",
    "version": 3
   },
   "file_extension": ".py",
   "mimetype": "text/x-python",
   "name": "python",
   "nbconvert_exporter": "python",
   "pygments_lexer": "ipython3",
   "version": "3.13.4"
  }
 },
 "nbformat": 4,
 "nbformat_minor": 5
}
