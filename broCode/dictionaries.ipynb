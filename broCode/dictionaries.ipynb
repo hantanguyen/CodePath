{
 "cells": [
  {
   "cell_type": "markdown",
   "id": "6236d0e8",
   "metadata": {},
   "source": [
    "Learning how to: \n",
    "\n",
    "Create and modify a dictionary\n",
    "\n",
    "Access and loop over keys, values, and key-value pairs in a dictionary\n",
    "\n",
    "Solve problems using frequency maps\n",
    "\n",
    "Solve problems involving lists, dictionaries, or a combination of a lists and dictionaries"
   ]
  },
  {
   "cell_type": "code",
   "execution_count": null,
   "id": "3b05b842",
   "metadata": {},
   "outputs": [
    {
     "name": "stdout",
     "output_type": "stream",
     "text": [
      "['__class__', '__class_getitem__', '__contains__', '__delattr__', '__delitem__', '__dir__', '__doc__', '__eq__', '__format__', '__ge__', '__getattribute__', '__getitem__', '__getstate__', '__gt__', '__hash__', '__init__', '__init_subclass__', '__ior__', '__iter__', '__le__', '__len__', '__lt__', '__ne__', '__new__', '__or__', '__reduce__', '__reduce_ex__', '__repr__', '__reversed__', '__ror__', '__setattr__', '__setitem__', '__sizeof__', '__str__', '__subclasshook__', 'clear', 'copy', 'fromkeys', 'get', 'items', 'keys', 'pop', 'popitem', 'setdefault', 'update', 'values']\n",
      "Help on dict object:\n",
      "\n",
      "class dict(object)\n",
      " |  dict() -> new empty dictionary\n",
      " |  dict(mapping) -> new dictionary initialized from a mapping object's\n",
      " |      (key, value) pairs\n",
      " |  dict(iterable) -> new dictionary initialized as if via:\n",
      " |      d = {}\n",
      " |      for k, v in iterable:\n",
      " |          d[k] = v\n",
      " |  dict(**kwargs) -> new dictionary initialized with the name=value pairs\n",
      " |      in the keyword argument list.  For example:  dict(one=1, two=2)\n",
      " |\n",
      " |  Methods defined here:\n",
      " |\n",
      " |  __contains__(self, key, /)\n",
      " |      True if the dictionary has the specified key, else False.\n",
      " |\n",
      " |  __delitem__(self, key, /)\n",
      " |      Delete self[key].\n",
      " |\n",
      " |  __eq__(self, value, /)\n",
      " |      Return self==value.\n",
      " |\n",
      " |  __ge__(self, value, /)\n",
      " |      Return self>=value.\n",
      " |\n",
      " |  __getattribute__(self, name, /)\n",
      " |      Return getattr(self, name).\n",
      " |\n",
      " |  __getitem__(self, key, /)\n",
      " |      Return self[key].\n",
      " |\n",
      " |  __gt__(self, value, /)\n",
      " |      Return self>value.\n",
      " |\n",
      " |  __init__(self, /, *args, **kwargs)\n",
      " |      Initialize self.  See help(type(self)) for accurate signature.\n",
      " |\n",
      " |  __ior__(self, value, /)\n",
      " |      Return self|=value.\n",
      " |\n",
      " |  __iter__(self, /)\n",
      " |      Implement iter(self).\n",
      " |\n",
      " |  __le__(self, value, /)\n",
      " |      Return self<=value.\n",
      " |\n",
      " |  __len__(self, /)\n",
      " |      Return len(self).\n",
      " |\n",
      " |  __lt__(self, value, /)\n",
      " |      Return self<value.\n",
      " |\n",
      " |  __ne__(self, value, /)\n",
      " |      Return self!=value.\n",
      " |\n",
      " |  __or__(self, value, /)\n",
      " |      Return self|value.\n",
      " |\n",
      " |  __repr__(self, /)\n",
      " |      Return repr(self).\n",
      " |\n",
      " |  __reversed__(self, /)\n",
      " |      Return a reverse iterator over the dict keys.\n",
      " |\n",
      " |  __ror__(self, value, /)\n",
      " |      Return value|self.\n",
      " |\n",
      " |  __setitem__(self, key, value, /)\n",
      " |      Set self[key] to value.\n",
      " |\n",
      " |  __sizeof__(self, /)\n",
      " |      Return the size of the dict in memory, in bytes.\n",
      " |\n",
      " |  clear(self, /)\n",
      " |      Remove all items from the dict.\n",
      " |\n",
      " |  copy(self, /)\n",
      " |      Return a shallow copy of the dict.\n",
      " |\n",
      " |  get(self, key, default=None, /)\n",
      " |      Return the value for key if key is in the dictionary, else default.\n",
      " |\n",
      " |  items(self, /)\n",
      " |      Return a set-like object providing a view on the dict's items.\n",
      " |\n",
      " |  keys(self, /)\n",
      " |      Return a set-like object providing a view on the dict's keys.\n",
      " |\n",
      " |  pop(self, key, default=<unrepresentable>, /)\n",
      " |      D.pop(k[,d]) -> v, remove specified key and return the corresponding value.\n",
      " |\n",
      " |      If the key is not found, return the default if given; otherwise,\n",
      " |      raise a KeyError.\n",
      " |\n",
      " |  popitem(self, /)\n",
      " |      Remove and return a (key, value) pair as a 2-tuple.\n",
      " |\n",
      " |      Pairs are returned in LIFO (last-in, first-out) order.\n",
      " |      Raises KeyError if the dict is empty.\n",
      " |\n",
      " |  setdefault(self, key, default=None, /)\n",
      " |      Insert key with a value of default if key is not in the dictionary.\n",
      " |\n",
      " |      Return the value for key if key is in the dictionary, else default.\n",
      " |\n",
      " |  update(...)\n",
      " |      D.update([E, ]**F) -> None.  Update D from mapping/iterable E and F.\n",
      " |      If E is present and has a .keys() method, then does:  for k in E.keys(): D[k] = E[k]\n",
      " |      If E is present and lacks a .keys() method, then does:  for k, v in E: D[k] = v\n",
      " |      In either case, this is followed by: for k in F:  D[k] = F[k]\n",
      " |\n",
      " |  values(self, /)\n",
      " |      Return an object providing a view on the dict's values.\n",
      " |\n",
      " |  ----------------------------------------------------------------------\n",
      " |  Class methods defined here:\n",
      " |\n",
      " |  __class_getitem__(object, /)\n",
      " |      See PEP 585\n",
      " |\n",
      " |  fromkeys(iterable, value=None, /)\n",
      " |      Create a new dictionary with keys from iterable and values set to value.\n",
      " |\n",
      " |  ----------------------------------------------------------------------\n",
      " |  Static methods defined here:\n",
      " |\n",
      " |  __new__(*args, **kwargs)\n",
      " |      Create and return a new object.  See help(type) for accurate signature.\n",
      " |\n",
      " |  ----------------------------------------------------------------------\n",
      " |  Data and other attributes defined here:\n",
      " |\n",
      " |  __hash__ = None\n",
      "\n",
      "None\n"
     ]
    }
   ],
   "source": [
    "# Dictionary: a collection of {key : value} pairs that are ordered and changeable. There are no duplicates\n",
    "\n",
    "# Example: Countries and Capitals \n",
    "\n",
    "capitals = {\"USA\" : \"Washington D.C\", \n",
    "            \"India\" : \"New Delhi\", \n",
    "            \"China\" : \"Beijing\", \n",
    "            \"Russia\": \"Moscow\"}\n",
    "\n",
    "# to see the different attributes and methods of a dictionary you can use the dir function\n",
    "print(dir(capitals))\n",
    "# You can also use the help function to see what they do \n",
    "print(help(capitals))\n"
   ]
  },
  {
   "cell_type": "code",
   "execution_count": 21,
   "id": "b9d8ff86",
   "metadata": {},
   "outputs": [
    {
     "name": "stdout",
     "output_type": "stream",
     "text": [
      "Washington D.C\n",
      "None\n"
     ]
    }
   ],
   "source": [
    "# Dictionary Methods \n",
    "\n",
    "# To get one of the values in the dictionary you would get the key \n",
    "\n",
    "capitals = {\"USA\" : \"Washington D.C\", \n",
    "            \"India\" : \"New Delhi\", \n",
    "            \"China\" : \"Beijing\", \n",
    "            \"Russia\": \"Moscow\" }\n",
    "# the get method prints the associated value \n",
    "print(capitals.get(\"USA\"))\n",
    "# If python doesn't find a key\n",
    "print(capitals.get(\"Japan\"))\n"
   ]
  },
  {
   "cell_type": "code",
   "execution_count": 20,
   "id": "1832136b",
   "metadata": {},
   "outputs": [
    {
     "name": "stdout",
     "output_type": "stream",
     "text": [
      "That capital does not exist\n",
      "That capital exists\n"
     ]
    }
   ],
   "source": [
    "# Using it in an if statement \n",
    "\n",
    "capitals = {\"USA\" : \"Washington D.C\", \n",
    "            \"India\" : \"New Delhi\", \n",
    "            \"China\" : \"Beijing\", \n",
    "            \"Russia\": \"Moscow\" }\n",
    "\n",
    "if capitals.get(\"Japan\"): \n",
    "    print(\"That capital exists\")\n",
    "else:\n",
    "    print(\"That capital does not exist\")\n",
    "\n",
    "if capitals.get(\"Russia\"): \n",
    "    print(\"That capital exists\")\n",
    "else:\n",
    "    print(\"That capital does not exist\")"
   ]
  },
  {
   "cell_type": "code",
   "execution_count": 22,
   "id": "2ab0cf2e",
   "metadata": {},
   "outputs": [
    {
     "name": "stdout",
     "output_type": "stream",
     "text": [
      "{'USA': 'Detroit', 'India': 'New Delhi', 'China': 'Bejing', 'Russia': 'Moscow', 'Germany': 'Berlin'}\n"
     ]
    }
   ],
   "source": [
    "# Updating a dictionary \n",
    "# using the update method we can insert a new key:value pair or update an existing one\n",
    "\n",
    "capitals.update({\"Germany\" : \"Berlin\"})\n",
    "capitals.update({\"USA\" : \"Detroit\"})\n",
    "capitals.update({\"China\" : \"Bejing\"})\n",
    "print(capitals)"
   ]
  },
  {
   "cell_type": "code",
   "execution_count": 17,
   "id": "45f1e766",
   "metadata": {},
   "outputs": [
    {
     "name": "stdout",
     "output_type": "stream",
     "text": [
      "{'USA': 'Detroit', 'India': 'New Delhi', 'Russia': 'Moscow', 'Germany': 'Berlin'}\n"
     ]
    }
   ],
   "source": [
    "# Removing a key:value pair in a dictionary use the pop method \n",
    "\n",
    "capitals.pop(\"China\")\n",
    "print(capitals)\n"
   ]
  },
  {
   "cell_type": "code",
   "execution_count": 18,
   "id": "644da8eb",
   "metadata": {},
   "outputs": [
    {
     "data": {
      "text/plain": [
       "('Germany', 'Berlin')"
      ]
     },
     "execution_count": 18,
     "metadata": {},
     "output_type": "execute_result"
    }
   ],
   "source": [
    "# Removing the latest key:value pair by using the pop item method (you don't need to add the key)\n",
    "capitals.popitem()"
   ]
  },
  {
   "cell_type": "code",
   "execution_count": null,
   "id": "73784de5",
   "metadata": {},
   "outputs": [],
   "source": [
    "# Clear: clears the entire dictionary \n",
    "# capitals.clear()"
   ]
  },
  {
   "cell_type": "code",
   "execution_count": 23,
   "id": "318d17b3",
   "metadata": {},
   "outputs": [
    {
     "name": "stdout",
     "output_type": "stream",
     "text": [
      "dict_keys(['USA', 'India', 'China', 'Russia', 'Germany'])\n"
     ]
    }
   ],
   "source": [
    "# To get all of the keys within the dictionary but not the values we use the keys method\n",
    "keys = capitals.keys()\n",
    "print(keys)"
   ]
  },
  {
   "cell_type": "code",
   "execution_count": null,
   "id": "10656670",
   "metadata": {},
   "outputs": [
    {
     "name": "stdout",
     "output_type": "stream",
     "text": [
      "USA\n",
      "India\n",
      "China\n",
      "Russia\n",
      "Germany\n"
     ]
    }
   ],
   "source": [
    "# You can iterate through the keys \n",
    "for key in capitals.keys(): \n",
    "    print(key)"
   ]
  },
  {
   "cell_type": "code",
   "execution_count": null,
   "id": "32626958",
   "metadata": {},
   "outputs": [
    {
     "name": "stdout",
     "output_type": "stream",
     "text": [
      "dict_values(['Detroit', 'New Delhi', 'Bejing', 'Moscow', 'Berlin'])\n"
     ]
    }
   ],
   "source": [
    "# To get all of the values within the dictionary but not the keys we use the value method \n",
    "values = capitals.values()\n",
    "print(values)"
   ]
  },
  {
   "cell_type": "code",
   "execution_count": null,
   "id": "5ce8a2b6",
   "metadata": {},
   "outputs": [
    {
     "name": "stdout",
     "output_type": "stream",
     "text": [
      "Detroit\n",
      "New Delhi\n",
      "Bejing\n",
      "Moscow\n",
      "Berlin\n"
     ]
    }
   ],
   "source": [
    "# You can iterate through the values \n",
    "for values in capitals.values(): \n",
    "    print(values)"
   ]
  },
  {
   "cell_type": "code",
   "execution_count": null,
   "id": "61fbb3af",
   "metadata": {},
   "outputs": [
    {
     "name": "stdout",
     "output_type": "stream",
     "text": [
      "dict_items([('USA', 'Detroit'), ('India', 'New Delhi'), ('China', 'Bejing'), ('Russia', 'Moscow'), ('Germany', 'Berlin')])\n"
     ]
    }
   ],
   "source": [
    "# the items method resembles a 2d list of tuples \n",
    "\n",
    "items = capitals.items()\n",
    "print(items)"
   ]
  },
  {
   "cell_type": "code",
   "execution_count": 29,
   "id": "8345d718",
   "metadata": {},
   "outputs": [
    {
     "name": "stdout",
     "output_type": "stream",
     "text": [
      "USA: Detroit\n",
      "India: New Delhi\n",
      "China: Bejing\n",
      "Russia: Moscow\n",
      "Germany: Berlin\n"
     ]
    }
   ],
   "source": [
    "for key, value in capitals.items(): \n",
    "    print(f\"{key}: {value}\")"
   ]
  },
  {
   "cell_type": "markdown",
   "id": "7dc95918",
   "metadata": {},
   "source": [
    "11 Dictionary Methods \n",
    "1. values() \n",
    "2. keys()\n",
    "3. pop()\n",
    "4. popitem()\n",
    "5. copy()\n",
    "6. get()\n",
    "7. setdefault()\n",
    "8. clear()\n",
    "9. fromkeys()\n",
    "10. items()\n",
    "11. update()"
   ]
  },
  {
   "cell_type": "code",
   "execution_count": null,
   "id": "75f124c4",
   "metadata": {},
   "outputs": [
    {
     "name": "stdout",
     "output_type": "stream",
     "text": [
      "dict_values(['Mario', 'Luigi', 'James'])\n"
     ]
    }
   ],
   "source": [
    "# 1. values(): grabs the values from the dictionaries \n",
    "users: dict = {0: 'Mario', 1: 'Luigi', 2: 'James'}\n",
    "print(users.values())"
   ]
  },
  {
   "cell_type": "code",
   "execution_count": 34,
   "id": "ef57986a",
   "metadata": {},
   "outputs": [
    {
     "name": "stdout",
     "output_type": "stream",
     "text": [
      "dict_keys([0, 1, 2])\n"
     ]
    }
   ],
   "source": [
    "# 2. keys(): gets all the keys from the dictionaries\n",
    "users: dict = {0: 'Mario', 1: 'Luigi', 2: 'James'}\n",
    "print(users.keys())"
   ]
  },
  {
   "cell_type": "code",
   "execution_count": 36,
   "id": "8ce651e5",
   "metadata": {},
   "outputs": [
    {
     "name": "stdout",
     "output_type": "stream",
     "text": [
      "James\n",
      "{0: 'Mario', 1: 'Luigi'}\n"
     ]
    }
   ],
   "source": [
    "# 3. pop(): removes a specified key \n",
    "users: dict = {0: 'Mario', 1: 'Luigi', 2: 'James'}\n",
    "popped: str = users.pop(2)\n",
    "print(popped)\n",
    "print(users)"
   ]
  },
  {
   "cell_type": "code",
   "execution_count": 37,
   "id": "fa43aa18",
   "metadata": {},
   "outputs": [
    {
     "name": "stdout",
     "output_type": "stream",
     "text": [
      "{0: 'Mario', 1: 'Luigi'}\n"
     ]
    }
   ],
   "source": [
    "# 4. popitem(): pops the last item from the dictionary\n",
    "users: dict = {0: 'Mario', 1: 'Luigi', 2: 'James'}\n",
    "users.popitem()\n",
    "print(users)"
   ]
  },
  {
   "cell_type": "code",
   "execution_count": null,
   "id": "dec186ed",
   "metadata": {},
   "outputs": [],
   "source": [
    "# 5. copy(): makes a copy of the dictionary\n",
    "sample_dict: dict = {0: ['a', 'b'], 1:['c','d']}\n",
    "my_copy: dict = sample_dict.copy()\n",
    "print(sample_dict)\n",
    "print(my_copy)"
   ]
  },
  {
   "cell_type": "code",
   "execution_count": 39,
   "id": "9bd1ae2c",
   "metadata": {},
   "outputs": [
    {
     "name": "stdout",
     "output_type": "stream",
     "text": [
      "1976195707584\n",
      "1976196180480\n"
     ]
    }
   ],
   "source": [
    "# we can check if they're really different by using the ID method \n",
    "sample_dict: dict = {0: ['a', 'b'], 1:['c','d']}\n",
    "my_copy: dict = sample_dict.copy()\n",
    "print(id(sample_dict))\n",
    "print(id(my_copy))"
   ]
  },
  {
   "cell_type": "code",
   "execution_count": null,
   "id": "2468a8d8",
   "metadata": {},
   "outputs": [
    {
     "name": "stdout",
     "output_type": "stream",
     "text": [
      "{0: ['!!!', 'b'], 1: ['c', 'd']}\n",
      "{0: ['!!!', 'b'], 1: ['c', 'd']}\n"
     ]
    }
   ],
   "source": [
    "# the dictionary is unique, the references inside are not unique\n",
    "sample_dict: dict = {0: ['a', 'b'], 1:['c','d']}\n",
    "my_copy: dict = sample_dict.copy()\n",
    "my_copy[0][0] = '!!!'\n",
    "\n",
    "print(sample_dict)\n",
    "print(my_copy)"
   ]
  },
  {
   "cell_type": "code",
   "execution_count": null,
   "id": "bd210cae",
   "metadata": {},
   "outputs": [
    {
     "name": "stdout",
     "output_type": "stream",
     "text": [
      "Luigi\n",
      "missing\n"
     ]
    }
   ],
   "source": [
    "# 6. get(): get a value from a dictionary \n",
    "users: dict = {0: 'Mario', 1: 'Luigi', 2: 'James'}\n",
    "print(users.get(1))\n",
    "# if a key does not exist then a message can be returned\n",
    "print(users.get(999, 'missing'))"
   ]
  },
  {
   "cell_type": "code",
   "execution_count": null,
   "id": "504672f0",
   "metadata": {},
   "outputs": [
    {
     "name": "stdout",
     "output_type": "stream",
     "text": [
      "Mario\n",
      "???\n",
      "{0: 'Mario', 1: 'Luigi', 2: 'James', 999: '???'}\n"
     ]
    }
   ],
   "source": [
    "# 7. setdefault(): grabs a key value pair and if it doesn't exist then it's created\n",
    "users: dict = {0: 'Mario', 1: 'Luigi', 2: 'James'}\n",
    "print(users.setdefault(0, '???'))\n",
    "print(users.setdefault(999, '???'))\n",
    "print(users)"
   ]
  },
  {
   "cell_type": "code",
   "execution_count": 47,
   "id": "6b012cf2",
   "metadata": {},
   "outputs": [
    {
     "name": "stdout",
     "output_type": "stream",
     "text": [
      "{}\n"
     ]
    }
   ],
   "source": [
    "# 8. clear(): the entire dictionary is cleared \n",
    "users: dict = {0: 'Mario', 1: 'Luigi', 2: 'James'}\n",
    "users.clear()\n",
    "print(users)"
   ]
  },
  {
   "cell_type": "code",
   "execution_count": null,
   "id": "66bb8516",
   "metadata": {},
   "outputs": [
    {
     "name": "stdout",
     "output_type": "stream",
     "text": [
      "{'Mario': 'unknown', 'Luigi': 'unknown', 'James': 'unknown'}\n"
     ]
    }
   ],
   "source": [
    "# 9. fromkeys(): returns a dictionary with the specified keys and specified values \n",
    "\n",
    "people: list[str] = ['Mario', 'Luigi', 'James']\n",
    "users: dict = dict.fromkeys(people, 'unknown')\n",
    "print(users)"
   ]
  },
  {
   "cell_type": "code",
   "execution_count": 50,
   "id": "305b0978",
   "metadata": {},
   "outputs": [
    {
     "name": "stdout",
     "output_type": "stream",
     "text": [
      "dict_items([(0, 'Mario'), (1, 'Luigi'), (2, 'James')])\n"
     ]
    }
   ],
   "source": [
    "# 10. items(): iterables that contains the tuples of keys\n",
    "users: dict = {0: 'Mario', 1: 'Luigi', 2: 'James'}\n",
    "print(users.items())"
   ]
  },
  {
   "cell_type": "code",
   "execution_count": 51,
   "id": "0b9bc716",
   "metadata": {},
   "outputs": [
    {
     "name": "stdout",
     "output_type": "stream",
     "text": [
      "{0: 'Mario', 1: 'Luigi', 2: 'Bob', 3: \"James's sister\"}\n"
     ]
    }
   ],
   "source": [
    "# 11. update(): modify ot expand dictionary \n",
    "users: dict = {0: 'Mario', 1: 'Luigi', 2: 'James'}\n",
    "users.update({2: 'Bob', 3: 'James\\'s sister'})\n",
    "print(users)"
   ]
  },
  {
   "cell_type": "code",
   "execution_count": 52,
   "id": "884f2392",
   "metadata": {},
   "outputs": [
    {
     "name": "stdout",
     "output_type": "stream",
     "text": [
      "{0: 'Mario', 1: 'Luigi', 2: 'James', 10: 'Spam', 11: 'Eggs'}\n"
     ]
    }
   ],
   "source": [
    "# using the union operator: |\n",
    "users: dict = {0: 'Mario', 1: 'Luigi', 2: 'James'}\n",
    "print(users | {10: 'Spam', 11: 'Eggs'})"
   ]
  },
  {
   "cell_type": "markdown",
   "id": "05f5fd62",
   "metadata": {},
   "source": [
    "Working with key:value Pairs "
   ]
  },
  {
   "cell_type": "code",
   "execution_count": 3,
   "id": "3cc96572",
   "metadata": {},
   "outputs": [
    {
     "name": "stdout",
     "output_type": "stream",
     "text": [
      "{'name': 'John', 'age': 25, 'courses': ['Math', 'CompSci']}\n",
      "['Math', 'CompSci']\n",
      "Not Found\n"
     ]
    }
   ],
   "source": [
    "student = {'name': 'John', 'age': 25, 'courses': ['Math', 'CompSci']}\n",
    "print(student)\n",
    "print(student['courses'])\n",
    "print(student.get('phone', 'Not Found'))"
   ]
  },
  {
   "cell_type": "code",
   "execution_count": null,
   "id": "ab3f4423",
   "metadata": {},
   "outputs": [
    {
     "name": "stdout",
     "output_type": "stream",
     "text": [
      "{'name': 'Jane', 'age': 25, 'courses': ['Math', 'CompSci']}\n"
     ]
    }
   ],
   "source": [
    "# one way to update a dictionary\n",
    "\n",
    "student = {'name': 'John', 'age': 25, 'courses': ['Math', 'CompSci']}\n",
    "student['name'] = 'Jane'\n",
    "print(student)"
   ]
  },
  {
   "cell_type": "code",
   "execution_count": 5,
   "id": "7246f771",
   "metadata": {},
   "outputs": [
    {
     "name": "stdout",
     "output_type": "stream",
     "text": [
      "{'name': 'Jane', 'age': 26, 'courses': ['Math', 'CompSci'], 'phone': '555-5555'}\n"
     ]
    }
   ],
   "source": [
    "# using the update method \n",
    "student = {'name': 'John', 'age': 25, 'courses': ['Math', 'CompSci']}\n",
    "student.update({'name': 'Jane', 'age': 26, 'phone': '555-5555'})\n",
    "print(student)\n"
   ]
  },
  {
   "cell_type": "code",
   "execution_count": 6,
   "id": "6fa4c1de",
   "metadata": {},
   "outputs": [
    {
     "name": "stdout",
     "output_type": "stream",
     "text": [
      "{'name': 'John', 'courses': ['Math', 'CompSci']}\n"
     ]
    }
   ],
   "source": [
    "# deleting parts of a dictionary\n",
    "\n",
    "student = {'name': 'John', 'age': 25, 'courses': ['Math', 'CompSci']}\n",
    "del student['age']\n",
    "print(student)"
   ]
  },
  {
   "cell_type": "code",
   "execution_count": 7,
   "id": "544e3929",
   "metadata": {},
   "outputs": [
    {
     "name": "stdout",
     "output_type": "stream",
     "text": [
      "{'name': 'John', 'courses': ['Math', 'CompSci']}\n",
      "25\n"
     ]
    }
   ],
   "source": [
    "# using the pop method instead \n",
    "\n",
    "student = {'name': 'John', 'age': 25, 'courses': ['Math', 'CompSci']}\n",
    "age = student.pop('age')\n",
    "print(student)\n",
    "print(age)"
   ]
  },
  {
   "cell_type": "code",
   "execution_count": 9,
   "id": "f43d5a21",
   "metadata": {},
   "outputs": [
    {
     "name": "stdout",
     "output_type": "stream",
     "text": [
      "3\n",
      "dict_keys(['name', 'age', 'courses'])\n",
      "dict_values(['John', 25, ['Math', 'CompSci']])\n",
      "dict_items([('name', 'John'), ('age', 25), ('courses', ['Math', 'CompSci'])])\n"
     ]
    }
   ],
   "source": [
    "# getting the length of the dictionary \n",
    "\n",
    "student = {'name': 'John', 'age': 25, 'courses': ['Math', 'CompSci']}\n",
    "print(len(student))\n",
    "print(student.keys())\n",
    "print(student.values())\n",
    "print(student.items())"
   ]
  },
  {
   "cell_type": "code",
   "execution_count": 12,
   "id": "949deba2",
   "metadata": {},
   "outputs": [
    {
     "name": "stdout",
     "output_type": "stream",
     "text": [
      "name John\n",
      "age 25\n",
      "courses ['Math', 'CompSci']\n"
     ]
    }
   ],
   "source": [
    "# looping through a dictionary \n",
    "\n",
    "student = {'name': 'John', 'age': 25, 'courses': ['Math', 'CompSci']}\n",
    "\n",
    "for key, value in student.items(): \n",
    "    print(key, value)"
   ]
  },
  {
   "cell_type": "markdown",
   "id": "2b740b62",
   "metadata": {},
   "source": [
    "Dictionary Comprehension"
   ]
  },
  {
   "cell_type": "code",
   "execution_count": null,
   "id": "1521deb8",
   "metadata": {},
   "outputs": [],
   "source": [
    "# Dictionary Comprehension: create dictionary using an express that can replace for loops and certain lambda functions \n",
    "\n",
    "# dictionary = {key: expression for (key, value) in iterable}"
   ]
  },
  {
   "cell_type": "code",
   "execution_count": null,
   "id": "2d0307d7",
   "metadata": {},
   "outputs": [
    {
     "name": "stdout",
     "output_type": "stream",
     "text": [
      "{'New York': 0, 'Boston': 24, 'Los Angeles': 38, 'Chicago': 10}\n"
     ]
    }
   ],
   "source": [
    "# Example 1: dictionary = {key: expression for (key, value) in iterable}\n",
    "\n",
    "cities_in_F = {'New York': 32, 'Boston': 75, 'Los Angeles': 100, 'Chicago': 50}\n",
    "# creates a new dictionary using a dictionary comprehension that converts fahrenheit to celsius \n",
    "cities_in_C = {key: round((value-32)*(5/9)) for (key, value) in cities_in_F.items()}\n",
    "print(cities_in_C)"
   ]
  },
  {
   "cell_type": "code",
   "execution_count": 15,
   "id": "b62c4218",
   "metadata": {},
   "outputs": [
    {
     "name": "stdout",
     "output_type": "stream",
     "text": [
      "{'Boston': 'sunny', 'Los Angeles': 'sunny'}\n"
     ]
    }
   ],
   "source": [
    "# Example 2: dictionary = {key: expression for (key, value) in iterable if conditional}\n",
    "\n",
    "weather = {'New York': \"snowing\", 'Boston': \"sunny\", 'Los Angeles': \"sunny\", 'Chicago': \"cloudy\"}\n",
    "# creates a new dictionary using a dictionary comprehension that returns a new dictionary if its sunny \n",
    "sunny_weather = {key: value for (key,value) in weather.items() if value == \"sunny\"}\n",
    "print(sunny_weather)"
   ]
  },
  {
   "cell_type": "code",
   "execution_count": 16,
   "id": "5e3b518e",
   "metadata": {},
   "outputs": [
    {
     "name": "stdout",
     "output_type": "stream",
     "text": [
      "{'New York': 'COLD', 'Boston': 'WARM', 'Los Angeles': 'WARM', 'Chicago': 'WARM'}\n"
     ]
    }
   ],
   "source": [
    "# Example 3: {key: (if/else) for (key, value) in iterable}\n",
    "\n",
    "cities = {'New York': 32, 'Boston': 75, 'Los Angeles': 100, 'Chicago': 50}\n",
    "# replace temperature with a description of the weather\n",
    "desc_cities = {key: (\"WARM\"if value >= 40 else \"COLD\") for (key, value) in cities.items()}\n",
    "print(desc_cities)"
   ]
  },
  {
   "cell_type": "code",
   "execution_count": 17,
   "id": "0a3f107c",
   "metadata": {},
   "outputs": [
    {
     "name": "stdout",
     "output_type": "stream",
     "text": [
      "{'New York': 'COLD', 'Boston': 'HOT', 'Los Angeles': 'HOT', 'Chicago': 'WARM'}\n"
     ]
    }
   ],
   "source": [
    "# Example 4: {key: function(value) for (key, value) in iterable}\n",
    "\n",
    "def check_temp(value): \n",
    "    if value >= 70: \n",
    "        return \"HOT\"\n",
    "    elif 69 >= value >= 40:\n",
    "        return \"WARM\"\n",
    "    else: \n",
    "        return \"COLD\"\n",
    "\n",
    "cities = {'New York': 32, 'Boston': 75, 'Los Angeles': 100, 'Chicago': 50}\n",
    "desc_cities = {key: check_temp(value) for (key, value) in cities.items()}\n",
    "print(desc_cities)"
   ]
  },
  {
   "cell_type": "markdown",
   "id": "b2e011de",
   "metadata": {},
   "source": [
    "Iterate over a Dictionary: key, value pairs, keys, values "
   ]
  },
  {
   "cell_type": "code",
   "execution_count": null,
   "id": "82cbaf1d",
   "metadata": {},
   "outputs": [
    {
     "name": "stdout",
     "output_type": "stream",
     "text": [
      "key1 value1\n",
      "key2 value2\n",
      "key3 value3\n"
     ]
    }
   ],
   "source": [
    "# iterating over both key, value pairs \n",
    "\n",
    "dictionary = {'key1': \"value1\", 'key2': \"value2\", 'key3': \"value3\" }\n",
    "\n",
    "for key, value in dictionary.items(): \n",
    "    print(key, value)"
   ]
  },
  {
   "cell_type": "code",
   "execution_count": 20,
   "id": "e588f036",
   "metadata": {},
   "outputs": [
    {
     "name": "stdout",
     "output_type": "stream",
     "text": [
      "key1\n",
      "key2\n",
      "key3\n"
     ]
    }
   ],
   "source": [
    "# iterating over keys \n",
    "\n",
    "dictionary = {'key1': \"value1\", 'key2': \"value2\", 'key3': \"value3\" }\n",
    "\n",
    "for key in dictionary.keys(): \n",
    "    print(key)"
   ]
  },
  {
   "cell_type": "code",
   "execution_count": 21,
   "id": "ba881335",
   "metadata": {},
   "outputs": [
    {
     "name": "stdout",
     "output_type": "stream",
     "text": [
      "value1\n",
      "value2\n",
      "value3\n"
     ]
    }
   ],
   "source": [
    "# iterating over value\n",
    "\n",
    "dictionary = {'key1': \"value1\", 'key2': \"value2\", 'key3': \"value3\" }\n",
    "\n",
    "for value in dictionary.values(): \n",
    "    print(value)"
   ]
  },
  {
   "cell_type": "code",
   "execution_count": 24,
   "id": "0f5bf1e8",
   "metadata": {},
   "outputs": [
    {
     "name": "stdout",
     "output_type": "stream",
     "text": [
      "apple : 10\n",
      "banana : 20\n",
      "cherry : 10\n"
     ]
    }
   ],
   "source": [
    "# examples \n",
    "\n",
    "fruits = {\n",
    "    'apple': 10, \n",
    "    'banana': 20, \n",
    "    'cherry': 10\n",
    "}\n",
    "\n",
    "for fruit_name, quantity in fruits.items():\n",
    "    print(fruit_name,':', quantity)"
   ]
  },
  {
   "cell_type": "code",
   "execution_count": 25,
   "id": "1ea0979b",
   "metadata": {},
   "outputs": [
    {
     "name": "stdout",
     "output_type": "stream",
     "text": [
      "apple\n",
      "banana\n",
      "cherry\n"
     ]
    }
   ],
   "source": [
    "# examples \n",
    "\n",
    "fruits = {\n",
    "    'apple': 10, \n",
    "    'banana': 20, \n",
    "    'cherry': 10\n",
    "}\n",
    "\n",
    "for fruit_name in fruits.keys():\n",
    "    print(fruit_name)"
   ]
  },
  {
   "cell_type": "code",
   "execution_count": 26,
   "id": "9cd13952",
   "metadata": {},
   "outputs": [
    {
     "name": "stdout",
     "output_type": "stream",
     "text": [
      "10\n",
      "20\n",
      "10\n"
     ]
    }
   ],
   "source": [
    "# examples \n",
    "\n",
    "fruits = {\n",
    "    'apple': 10, \n",
    "    'banana': 20, \n",
    "    'cherry': 10\n",
    "}\n",
    "\n",
    "for quantity in fruits.values():\n",
    "    print(quantity)"
   ]
  },
  {
   "cell_type": "markdown",
   "id": "4bab2b1d",
   "metadata": {},
   "source": [
    "Hashmaps\n",
    "\n",
    "a. Custom keys are easier for software engineers to work with \n",
    "\n",
    "b. hashmaps allow for search in O(1) runtime whereas arrays/linked lists are O(n)\n",
    "\n",
    "c. keys must be an immutable data type such as a tuple "
   ]
  },
  {
   "cell_type": "code",
   "execution_count": 29,
   "id": "0398d419",
   "metadata": {},
   "outputs": [
    {
     "name": "stdout",
     "output_type": "stream",
     "text": [
      "{'Canada': ['Calgary', 'Vancouver', 'Toronto']}\n"
     ]
    }
   ],
   "source": [
    "# coding a hashmap \n",
    "\n",
    "city_map = {} \n",
    "# or \n",
    "# city_map = dict()\n",
    "\n",
    "cities = [\"Calgary\", \"Vancouver\", \"Toronto\"]\n",
    "city_map[\"Canada\"] = []\n",
    "city_map[\"Canada\"] += cities\n",
    "print(city_map)"
   ]
  },
  {
   "cell_type": "code",
   "execution_count": 30,
   "id": "6a3b2c88",
   "metadata": {},
   "outputs": [],
   "source": [
    "# another way to do it using default dicts \n",
    "\n",
    "from collections import defaultdict\n",
    "city_map = defaultdict(list)\n",
    "\n",
    "cities = [\"Calgary\", \"Vancouver\", \"Toronto\"]\n",
    "city_map[\"Canada\"] += cities"
   ]
  },
  {
   "cell_type": "markdown",
   "id": "1038811c",
   "metadata": {},
   "source": [
    "Example Leetcode Problem: 49. Group Anagrams\n",
    "\n",
    "from collections import defaultdict \n",
    "\n",
    "class Soultion: \n",
    "\n",
    "    def groupAnagrams(self, strs: List[str] -> List[List[str]]): \n",
    "\n",
    "    anagram_map = defaultdict(list)\n",
    "\n",
    "    result = {} \n",
    "\n",
    "    for s in strs: \n",
    "\n",
    "        use the sort method on a string (alphabetical order)\n",
    "\n",
    "        sorted_s = tupe(sorted(s))\n",
    "        \n",
    "        anagram_map[sorted_s].append(s)\n",
    "\n",
    "    for value in anagramp_map.values(): \n",
    "\n",
    "        result.append(value)\n",
    "        \n",
    "    return result "
   ]
  },
  {
   "attachments": {
    "image.png": {
     "image/png": "[encoded data removed]"
    }
   },
   "cell_type": "markdown",
   "id": "17e546bd",
   "metadata": {},
   "source": [
    "Nesting Dictionaries and Lists in Python \n",
    "\n",
    "What is nesting: Something that is stored inside of something else. Like the yolk that is inside of a chicken egg.\n",
    "![image.png](attachment:image.png)\n"
   ]
  },
  {
   "cell_type": "code",
   "execution_count": 31,
   "id": "40fddcbf",
   "metadata": {},
   "outputs": [
    {
     "name": "stdout",
     "output_type": "stream",
     "text": [
      "\tStudySession covers topics on {'chemistry', 'math', 'engineering'}\n",
      "\tKhanAcademy covers topics on {'science', 'history', 'everything'}\n"
     ]
    }
   ],
   "source": [
    "# 1. Nesting dictionaries within dictionaries \n",
    "\n",
    "education_channels = { \n",
    "    'StudySession': {'engineering', 'math', 'chemistry'},\n",
    "    'KhanAcademy': {'science', 'history', 'everything'}\n",
    "}\n",
    "\n",
    "for channel, topic in education_channels.items(): \n",
    "    print(f\"\\t{channel} covers topics on {topic}\")\n"
   ]
  },
  {
   "cell_type": "code",
   "execution_count": 32,
   "id": "58edfcd1",
   "metadata": {},
   "outputs": [
    {
     "name": "stdout",
     "output_type": "stream",
     "text": [
      "[{'height': 'tall', 'size': 'big'}, {'height': 'tall', 'size': 'medium'}, {'height': 'short', 'size': 'small'}]\n"
     ]
    }
   ],
   "source": [
    "# 2. Nesting dictionaries within lists \n",
    "dictionary_one = {'height': 'tall', 'size': 'big'}\n",
    "dictionary_two = {'height': 'tall', 'size': 'medium'}\n",
    "dictionary_three = {'height': 'short', 'size': 'small'}\n",
    "\n",
    "list = [dictionary_one, dictionary_two, dictionary_three]\n",
    "print(list)"
   ]
  },
  {
   "cell_type": "code",
   "execution_count": 34,
   "id": "598bb015",
   "metadata": {},
   "outputs": [
    {
     "name": "stdout",
     "output_type": "stream",
     "text": [
      "[{'height': 'tall', 'size': 'small'}, {'height': 'tall', 'size': 'small'}, {'height': 'tall', 'size': 'small'}, {'height': 'tall', 'size': 'small'}, {'height': 'tall', 'size': 'small'}, {'height': 'tall', 'size': 'small'}, {'height': 'tall', 'size': 'small'}, {'height': 'tall', 'size': 'small'}, {'height': 'tall', 'size': 'small'}, {'height': 'tall', 'size': 'small'}, {'height': 'tall', 'size': 'small'}]\n"
     ]
    }
   ],
   "source": [
    "newlist = [] \n",
    "\n",
    "for people in range(11): \n",
    "    person = {'height': 'tall', 'size': 'small'}\n",
    "    newlist.append(person)\n",
    "print(newlist)"
   ]
  },
  {
   "cell_type": "code",
   "execution_count": 35,
   "id": "e9abaaea",
   "metadata": {},
   "outputs": [
    {
     "name": "stdout",
     "output_type": "stream",
     "text": [
      "The complete list: [1, 2, 3, [4, 5, 6]]\n",
      "The list within the complete list: [4, 5, 6]\n"
     ]
    }
   ],
   "source": [
    "# 3. Nesting lists within list \n",
    "\n",
    "larger_list = [1, 2, 3, [4, 5, 6]]\n",
    "print(f\"The complete list: {larger_list}\")\n",
    "print(f\"The list within the complete list: {larger_list[3]}\")"
   ]
  },
  {
   "cell_type": "code",
   "execution_count": 36,
   "id": "66c1a168",
   "metadata": {},
   "outputs": [
    {
     "name": "stdout",
     "output_type": "stream",
     "text": [
      "{'StudySession': {'chemistry', 'math', 'engineering'}}\n"
     ]
    }
   ],
   "source": [
    "# 4. Nesting lists within dictionaries \n",
    "\n",
    "education_channels = { \n",
    "    'StudySession': {'engineering', 'math', 'chemistry'}\n",
    "}\n",
    "print(education_channels)"
   ]
  }
 ],
 "metadata": {
  "kernelspec": {
   "display_name": ".venv",
   "language": "python",
   "name": "python3"
  },
  "language_info": {
   "codemirror_mode": {
    "name": "ipython",
    "version": 3
   },
   "file_extension": ".py",
   "mimetype": "text/x-python",
   "name": "python",
   "nbconvert_exporter": "python",
   "pygments_lexer": "ipython3",
   "version": "3.13.4"
  }
 },
 "nbformat": 4,
 "nbformat_minor": 5
}
