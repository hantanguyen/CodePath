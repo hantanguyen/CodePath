{
 "cells": [
  {
   "cell_type": "markdown",
   "id": "656ff066",
   "metadata": {},
   "source": [
    "Problem Set Version 1"
   ]
  },
  {
   "cell_type": "code",
   "execution_count": null,
   "id": "a5956c37",
   "metadata": {},
   "outputs": [
    {
     "name": "stdout",
     "output_type": "stream",
     "text": [
      "1 mississippi\n",
      "2 mississippi\n",
      "3 mississippi\n",
      "4 mississippi\n",
      "5 mississippi\n"
     ]
    }
   ],
   "source": [
    "# Problem 1\n",
    "\n",
    "def count_mississippi(limit):\n",
    "    for num in range(1, limit):\n",
    "        print(f\"{num} mississippi\")\n",
    "\n",
    "count_mississippi(6)"
   ]
  },
  {
   "cell_type": "code",
   "execution_count": null,
   "id": "8f9e0c66",
   "metadata": {},
   "outputs": [
    {
     "name": "stdout",
     "output_type": "stream",
     "text": [
      "toab\n"
     ]
    },
    {
     "ename": "",
     "evalue": "",
     "output_type": "error",
     "traceback": [
      "\u001b[1;31mThe Kernel crashed while executing code in the current cell or a previous cell. \n",
      "\u001b[1;31mPlease review the code in the cell(s) to identify a possible cause of the failure. \n",
      "\u001b[1;31mClick <a href='https://aka.ms/vscodeJupyterKernelCrash'>here</a> for more info. \n",
      "\u001b[1;31mView Jupyter <a href='command:jupyter.viewOutput'>log</a> for further details."
     ]
    }
   ],
   "source": [
    "# Problem 2 \n",
    "\n",
    "def swap_ends(my_str): \n",
    "    pass\n",
    "\n",
    "my_str = \"boat\"\n",
    "swapped = swap_ends(my_str)\n",
    "print(swapped)"
   ]
  }
 ],
 "metadata": {
  "kernelspec": {
   "display_name": ".venv",
   "language": "python",
   "name": "python3"
  },
  "language_info": {
   "codemirror_mode": {
    "name": "ipython",
    "version": 3
   },
   "file_extension": ".py",
   "mimetype": "text/x-python",
   "name": "python",
   "nbconvert_exporter": "python",
   "pygments_lexer": "ipython3",
   "version": "3.13.4"
  }
 },
 "nbformat": 4,
 "nbformat_minor": 5
}
